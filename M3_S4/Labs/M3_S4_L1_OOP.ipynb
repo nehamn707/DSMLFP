{
 "cells": [
  {
   "cell_type": "markdown",
   "metadata": {},
   "source": [
    "# Introduction to Object-Oriented Programming (OOP) in Python\n",
    "\n",
    "This notebook covers the basics of OOP in Python, including core concepts, classes, objects, and the four pillars of OOP."
   ]
  },
  {
   "cell_type": "markdown",
   "metadata": {},
   "source": [
    "## 1. Introduction to OOP\n",
    "\n",
    "Object-Oriented Programming (OOP) is a programming paradigm that organizes code into objects, which are instances of classes. It focuses on creating reusable and modular code.\n",
    "\n",
    "### Core Concepts of OOP:\n",
    "1. Classes: Blueprint for creating objects\n",
    "2. Objects: Instances of classes\n",
    "3. Attributes: Data stored inside an object or class\n",
    "4. Methods: Functions that describe the behavior of an object\n",
    "\n",
    "### Differences between OOP and Procedural Programming:\n",
    "- OOP focuses on objects and their interactions, while procedural programming focuses on procedures or functions.\n",
    "- OOP promotes better organization and reusability of code.\n",
    "- OOP allows for easier maintenance and scalability of large projects."
   ]
  },
  {
   "cell_type": "markdown",
   "metadata": {},
   "source": [
    "### Four Pillars of OOP\n",
    "\n",
    "1. Encapsulation\n",
    "2. Abstraction\n",
    "3. Inheritance\n",
    "4. Polymorphism\n",
    "\n",
    "Let's explore each of these concepts with examples."
   ]
  },
  {
   "cell_type": "markdown",
   "metadata": {},
   "source": [
    "#### 1. Encapsulation"
   ]
  },
  {
   "cell_type": "code",
   "execution_count": null,
   "metadata": {},
   "outputs": [],
   "source": [
    "class BankAccount:\n",
    "    def __init__(self, balance):\n",
    "        self.__balance = balance  # Private attribute\n",
    "\n",
    "    def deposit(self, amount):\n",
    "        if amount > 0:\n",
    "            self.__balance += amount\n",
    "            return True\n",
    "        return False\n",
    "\n",
    "    def get_balance(self):\n",
    "        return self.__balance\n",
    "\n",
    "# Usage\n",
    "account = BankAccount(1000)\n",
    "account.deposit(500)\n",
    "print(account.get_balance())  # Output: 1500"
   ]
  },
  {
   "cell_type": "markdown",
   "metadata": {},
   "source": [
    "Explanation:\n",
    "- The `BankAccount` class encapsulates the balance and operations on it.\n",
    "- The `__balance` attribute is private, preventing direct access from outside the class.\n",
    "- Methods like `deposit` and `get_balance` provide controlled access to the balance."
   ]
  },
  {
   "cell_type": "markdown",
   "metadata": {},
   "source": [
    "#### 2. Abstraction"
   ]
  },
  {
   "cell_type": "code",
   "execution_count": null,
   "metadata": {},
   "outputs": [],
   "source": [
    "from abc import ABC, abstractmethod\n",
    "\n",
    "class Shape(ABC):\n",
    "    @abstractmethod\n",
    "    def area(self):\n",
    "        pass\n",
    "\n",
    "class Rectangle(Shape):\n",
    "    def __init__(self, length, width):\n",
    "        self.length = length\n",
    "        self.width = width\n",
    "\n",
    "    def area(self):\n",
    "        return self.length * self.width\n",
    "\n",
    "# Usage\n",
    "rect = Rectangle(5, 3)\n",
    "print(f\"Area: {rect.area()}\")  # Output: Area: 15"
   ]
  },
  {
   "cell_type": "markdown",
   "metadata": {},
   "source": [
    "Explanation:\n",
    "- The `Shape` class is an abstract base class that defines a common interface for all shapes.\n",
    "- The `Rectangle` class implements the abstract `area` method, providing specific calculations for a rectangle."
   ]
  },
  {
   "cell_type": "markdown",
   "metadata": {},
   "source": [
    "#### 3. Inheritance"
   ]
  },
  {
   "cell_type": "code",
   "execution_count": null,
   "metadata": {},
   "outputs": [],
   "source": [
    "class Animal:\n",
    "    def __init__(self, name):\n",
    "        self.name = name\n",
    "\n",
    "    def speak(self):\n",
    "        pass\n",
    "\n",
    "class Dog(Animal):\n",
    "    def speak(self):\n",
    "        return f\"{self.name} says Woof!\"\n",
    "\n",
    "# Usage\n",
    "dog = Dog(\"Buddy\")\n",
    "print(dog.speak())  # Output: Buddy says Woof!"
   ]
  },
  {
   "cell_type": "markdown",
   "metadata": {},
   "source": [
    "Explanation:\n",
    "- The `Animal` class is the base class (parent class).\n",
    "- The `Dog` class inherits from `Animal`, demonstrating inheritance.\n",
    "- The `Dog` class overrides the `speak` method to provide a specific implementation."
   ]
  },
  {
   "cell_type": "markdown",
   "metadata": {},
   "source": [
    "#### 4. Polymorphism"
   ]
  },
  {
   "cell_type": "code",
   "execution_count": null,
   "metadata": {},
   "outputs": [],
   "source": [
    "class Shape:\n",
    "    def area(self):\n",
    "        pass\n",
    "\n",
    "class Rectangle(Shape):\n",
    "    def __init__(self, width, height):\n",
    "        self.width = width\n",
    "        self.height = height\n",
    "\n",
    "    def area(self):\n",
    "        return self.width * self.height\n",
    "\n",
    "class Circle(Shape):\n",
    "    def __init__(self, radius):\n",
    "        self.radius = radius\n",
    "\n",
    "    def area(self):\n",
    "        return 3.14 * self.radius ** 2\n",
    "\n",
    "def print_area(shape):\n",
    "    print(f\"Area: {shape.area()}\")\n",
    "\n",
    "# Usage\n",
    "rect = Rectangle(5, 3)\n",
    "circle = Circle(4)\n",
    "\n",
    "print_area(rect)    # Output: Area: 15\n",
    "print_area(circle)  # Output: Area: 50.24"
   ]
  },
  {
   "cell_type": "markdown",
   "metadata": {},
   "source": [
    "Explanation:\n",
    "- The `Shape` class defines a common interface with the `area` method.\n",
    "- `Rectangle` and `Circle` classes implement the `area` method differently.\n",
    "- The `print_area` function demonstrates polymorphism by working with different shape objects."
   ]
  },
  {
   "cell_type": "markdown",
   "metadata": {},
   "source": [
    "## 2. Classes and Objects"
   ]
  },
  {
   "cell_type": "markdown",
   "metadata": {},
   "source": [
    "### Defining a Class and Creating Objects"
   ]
  },
  {
   "cell_type": "code",
   "execution_count": null,
   "metadata": {},
   "outputs": [],
   "source": [
    "class Car:\n",
    "    def __init__(self, make, model, year):\n",
    "        self.make = make\n",
    "        self.model = model\n",
    "        self.year = year\n",
    "\n",
    "    def describe_car(self):\n",
    "        return f\"{self.year} {self.make} {self.model}\"\n",
    "\n",
    "# Creating an object\n",
    "my_car = Car(\"Toyota\", \"Corolla\", 2022)\n",
    "print(my_car.describe_car())  # Output: 2022 Toyota Corolla"
   ]
  },
  {
   "cell_type": "markdown",
   "metadata": {},
   "source": [
    "Explanation:\n",
    "- The `Car` class is defined with an `__init__` method (constructor) and other methods.\n",
    "- Instance variables (`make`, `model`, `year`) are defined in the constructor.\n",
    "- An object `my_car` is created from the `Car` class."
   ]
  },
  {
   "cell_type": "markdown",
   "metadata": {},
   "source": [
    "### Class Variables and Methods"
   ]
  },
  {
   "cell_type": "code",
   "execution_count": null,
   "metadata": {},
   "outputs": [],
   "source": [
    "class Employee:\n",
    "    # Class variable\n",
    "    employee_count = 0\n",
    "\n",
    "    def __init__(self, name, salary):\n",
    "        self.name = name  # Instance variable\n",
    "        self.salary = salary  # Instance variable\n",
    "        Employee.employee_count += 1\n",
    "\n",
    "    def display_info(self):  # Instance method\n",
    "        return f\"Name: {self.name}, Salary: ${self.salary}\"\n",
    "\n",
    "    @classmethod\n",
    "    def display_employee_count(cls):  # Class method\n",
    "        return f\"Total Employees: {cls.employee_count}\"\n",
    "\n",
    "# Creating employee objects\n",
    "emp1 = Employee(\"Alice\", 50000)\n",
    "emp2 = Employee(\"Bob\", 60000)\n",
    "\n",
    "print(emp1.display_info())  # Output: Name: Alice, Salary: $50000\n",
    "print(Employee.display_employee_count())  # Output: Total Employees: 2"
   ]
  },
  {
   "cell_type": "markdown",
   "metadata": {},
   "source": [
    "Explanation:\n",
    "- `employee_count` is a class variable shared among all instances of the `Employee` class.\n",
    "- `name` and `salary` are instance variables, unique to each object.\n",
    "- `display_info` is an instance method that operates on instance variables.\n",
    "- `display_employee_count` is a class method that operates on the class variable."
   ]
  },
  {
   "cell_type": "markdown",
   "metadata": {},
   "source": [
    "## 3. Constructor and Destructor"
   ]
  },
  {
   "cell_type": "markdown",
   "metadata": {},
   "source": [
    "### The __init__ Method (Constructor)"
   ]
  },
  {
   "cell_type": "code",
   "execution_count": null,
   "metadata": {},
   "outputs": [],
   "source": [
    "class Book:\n",
    "    def __init__(self, title, author):\n",
    "        self.title = title\n",
    "        self.author = author\n",
    "        print(f\"Book created: {self.title} by {self.author}\")\n",
    "\n",
    "# Creating a Book object\n",
    "my_book = Book(\"Python Basics\", \"John Doe\")\n",
    "# Output: Book created: Python Basics by John Doe"
   ]
  },
  {
   "cell_type": "markdown",
   "metadata": {},
   "source": [
    "Explanation:\n",
    "- The `__init__` method is the constructor in Python.\n",
    "- It initializes the object's attributes when the object is created."
   ]
  },
  {
   "cell_type": "markdown",
   "metadata": {},
   "source": [
    "### The __del__ Method (Destructor)"
   ]
  },
  {
   "cell_type": "code",
   "execution_count": null,
   "metadata": {},
   "outputs": [],
   "source": [
    "class FileHandler:\n",
    "    def __init__(self, filename):\n",
    "        self.filename = filename\n",
    "        self.file = open(filename, 'w')\n",
    "        print(f\"File {self.filename} opened.\")\n",
    "\n",
    "    def __del__(self):\n",
    "        self.file.close()\n",
    "        print(f\"File {self.filename} closed.\")\n",
    "\n",
    "# Using the FileHandler\n",
    "handler = FileHandler(\"example.txt\")\n",
    "# ... use the file ...\n",
    "del handler  # This will trigger the __del__ method"
   ]
  },
  {
   "cell_type": "markdown",
   "metadata": {},
   "source": [
    "Explanation:\n",
    "- The `__del__` method is the destructor in Python.\n",
    "- It's called when an object is about to be destroyed.\n",
    "- In this example, it ensures that the file is closed properly."
   ]
  },
  {
   "cell_type": "markdown",
   "metadata": {},
   "source": [
    "## 4. Inheritance"
   ]
  },
  {
   "cell_type": "markdown",
   "metadata": {},
   "source": [
    "### Single Inheritance"
   ]
  },
  {
   "cell_type": "code",
   "execution_count": null,
   "metadata": {},
   "outputs": [],
   "source": [
    "class Animal:\n",
    "    def speak(self):\n",
    "        pass\n",
    "\n",
    "class Dog(Animal):\n",
    "    def speak(self):\n",
    "        return \"Woof!\"\n",
    "\n",
    "dog = Dog()\n",
    "print(dog.speak())  # Output: Woof!"
   ]
  },
  {
   "cell_type": "markdown",
   "metadata": {},
   "source": [
    "Explanation:\n",
    "- `Dog` class inherits from `Animal` class.\n",
    "- The `Dog` class overrides the `speak` method of the `Animal` class."
   ]
  },
  {
   "cell_type": "markdown",
   "metadata": {},
   "source": [
    "### Multiple Inheritance"
   ]
  },
  {
   "cell_type": "code",
   "execution_count": null,
   "metadata": {},
   "outputs": [],
   "source": [
    "class Flyable:\n",
    "    def fly(self):\n",
    "        return \"I can fly!\"\n",
    "\n",
    "class Swimmable:\n",
    "    def swim(self):\n",
    "        return \"I can swim!\"\n",
    "\n",
    "class Duck(Animal, Flyable, Swimmable):\n",
    "    def speak(self):\n",
    "        return \"Quack!\"\n",
    "\n",
    "duck = Duck()\n",
    "print(duck.speak())  # Output: Quack!\n",
    "print(duck.fly())    # Output: I can fly!\n",
    "print(duck.swim())   # Output: I can swim!"
   ]
  },
  {
   "cell_type": "markdown",
   "metadata": {},
   "source": [
    "Explanation:\n",
    "- `Duck` class inherits from `Animal`, `Flyable`, and `Swimmable` classes.\n",
    "- It can use methods from all three parent classes."
   ]
  },
  {
   "cell_type": "markdown",
   "metadata": {},
   "source": [
    "### Multilevel Inheritance"
   ]
  },
  {
   "cell_type": "code",
   "execution_count": null,
   "metadata": {},
   "outputs": [],
   "source": [
    "class Vehicle:\n",
    "    def move(self):\n",
    "        return \"Moving...\"\n",
    "\n",
    "class Car(Vehicle):\n",
    "    def move(self):\n",
    "        return \"Driving...\"\n",
    "\n",
    "class ElectricCar(Car):\n",
    "    def move(self):\n",
    "        return \"Silently driving...\"\n",
    "\n",
    "ecar = ElectricCar()\n",
    "print(ecar.move())  # Output: Silently driving..."
   ]
  },
  {
   "cell_type": "markdown",
   "metadata": {},
   "source": [
    "Explanation:\n",
    "- `ElectricCar` inherits from `Car`, which inherits from `Vehicle`.\n",
    "- This creates a chain of inheritance (Vehicle -> Car -> ElectricCar)."
   ]
  },
  {
   "cell_type": "markdown",
   "metadata": {},
   "source": [
    "### Hierarchical Inheritance"
   ]
  },
  {
   "cell_type": "code",
   "execution_count": null,
   "metadata": {},
   "outputs": [],
   "source": [
    "class Animal:\n",
    "    def speak(self):\n",
    "        pass\n",
    "\n",
    "class Dog(Animal):\n",
    "    def speak(self):\n",
    "        return \"Woof!\"\n",
    "\n",
    "class Cat(Animal):\n",
    "    def speak(self):\n",
    "        return \"Meow!\"\n",
    "\n",
    "dog = Dog()\n",
    "cat = Cat()\n",
    "print(dog.speak())  # Output: Woof!\n",
    "print(cat.speak())  # Output: Meow!"
   ]
  },
  {
   "cell_type": "markdown",
   "metadata": {},
   "source": [
    "Explanation:\n",
    "- Both `Dog` and `Cat` classes inherit from the `Animal` class.\n",
    "- This creates a hierarchical structure with `Animal` as the base class."
   ]
  },
  {
   "cell_type": "markdown",
   "metadata": {},
   "source": [
    "### Hybrid Inheritance"
   ]
  },
  {
   "cell_type": "code",
   "execution_count": null,
   "metadata": {},
   "outputs": [],
   "source": [
    "class A:\n",
    "    def method_a(self):\n",
    "        return \"Method A\"\n",
    "\n",
    "class B(A):\n",
    "    def method_b(self):\n",
    "        return \"Method B\"\n",
    "\n",
    "class C(A):\n",
    "    def method_c(self):\n",
    "        return \"Method C\"\n",
    "\n",
    "class D(B, C):\n",
    "    pass\n",
    "\n",
    "d = D()\n",
    "print(d.method_a())  # Output: Method A\n",
    "print(d.method_b())  # Output: Method B\n",
    "print(d.method_c())  # Output: Method C"
   ]
  },
  {
   "cell_type": "markdown",
   "metadata": {},
   "source": [
    "Explanation:\n",
    "- This is a combination of multiple and multilevel inheritance.\n",
    "- Class `D` inherits from `B` and `C`, which both inherit from `A`."
   ]
  },
  {
   "cell_type": "markdown",
   "metadata": {},
   "source": [
    "### Method Overriding"
   ]
  },
  {
   "cell_type": "code",
   "execution_count": null,
   "metadata": {},
   "outputs": [],
   "source": [
    "class Animal:\n",
    "    def speak(self):\n",
    "        return \"Animal speaks\"\n",
    "\n",
    "class Dog(Animal):\n",
    "    def speak(self):\n",
    "        return \"Dog barks\"\n",
    "\n",
    "animal = Animal()\n",
    "dog = Dog()\n",
    "print(animal.speak())  # Output: Animal speaks\n",
    "print(dog.speak())     # Output: Dog barks"
   ]
  },
  {
   "cell_type": "markdown",
   "metadata": {},
   "source": [
    "Explanation:\n",
    "- The `Dog` class overrides the `speak` method of the `Animal` class.\n",
    "- This allows `Dog` to provide its own implementation of `speak`."
   ]
  },
  {
   "cell_type": "markdown",
   "metadata": {},
   "source": [
    "## 6. Polymorphism"
   ]
  },
  {
   "cell_type": "markdown",
   "metadata": {},
   "source": [
    "### Operator Overloading"
   ]
  },
  {
   "cell_type": "code",
   "execution_count": null,
   "metadata": {},
   "outputs": [],
   "source": [
    "class Point:\n",
    "    def __init__(self, x, y):\n",
    "        self.x = x\n",
    "        self.y = y\n",
    "\n",
    "    def __add__(self, other):\n",
    "        return Point(self.x + other.x, self.y + other.y)\n",
    "\n",
    "    def __str__(self):\n",
    "        return f\"({self.x}, {self.y})\"\n",
    "\n",
    "p1 = Point(1, 2)\n",
    "p2 = Point(3, 4)\n",
    "p3 = p1 + p2\n",
    "print(p3)  # Output: (4, 6)"
   ]
  },
  {
   "cell_type": "markdown",
   "metadata": {},
   "source": [
    "Explanation:\n",
    "- The `__add__` method overloads the `+` operator for Point objects.\n",
    "- This allows us to add two Point objects using the `+` operator."
   ]
  },
  {
   "cell_type": "markdown",
   "metadata": {},
   "source": [
    "### Duck Typing"
   ]
  },
  {
   "cell_type": "code",
   "execution_count": null,
   "metadata": {},
   "outputs": [],
   "source": [
    "class Duck:\n",
    "    def quack(self):\n",
    "        return \"Quack!\"\n",
    "\n",
    "class Person:\n",
    "    def quack(self):\n",
    "        return \"I'm quacking like a duck!\"\n",
    "\n",
    "def make_it_quack(thing):\n",
    "    print(thing.quack())\n",
    "\n",
    "duck = Duck()\n",
    "person = Person()\n",
    "\n",
    "make_it_quack(duck)    # Output: Quack!\n",
    "make_it_quack(person)  # Output: I'm quacking like a duck!"
   ]
  },
  {
   "cell_type": "markdown",
   "metadata": {},
   "source": [
    "Explanation:\n",
    "- Duck typing allows the `make_it_quack` function to work with any object that has a `quack` method.\n",
    "- It doesn't matter if the object is a `Duck` or a `Person`, as long as it can `quack`."
   ]
  },
  {
   "cell_type": "markdown",
   "metadata": {},
   "source": [
    "## 7. Magic Methods (Dunder Methods)"
   ]
  },
  {
   "cell_type": "markdown",
   "metadata": {},
   "source": [
    "### String Representation: __str__ and __repr__"
   ]
  },
  {
   "cell_type": "code",
   "execution_count": null,
   "metadata": {},
   "outputs": [],
   "source": [
    "class Book:\n",
    "    def __init__(self, title, author):\n",
    "        self.title = title\n",
    "        self.author = author\n",
    "    \n",
    "    def __str__(self):\n",
    "        return f\"{self.title} by {self.author}\"\n",
    "    \n",
    "    def __repr__(self):\n",
    "        return f\"Book('{self.title}', '{self.author}')\"\n",
    "\n",
    "book = Book(\"Python Basics\", \"John Doe\")\n",
    "print(str(book))   # Output: Python Basics by John Doe\n",
    "print(repr(book))  # Output: Book('Python Basics', 'John Doe')"
   ]
  },
  {
   "cell_type": "markdown",
   "metadata": {},
   "source": [
    "Explanation:\n",
    "- `__str__` provides a readable string representation of the object.\n",
    "- `__repr__` provides a detailed string representation, often used for debugging."
   ]
  },
  {
   "cell_type": "markdown",
   "metadata": {},
   "source": [
    "### Operator Overloading: __add__, __sub__, etc."
   ]
  },
  {
   "cell_type": "code",
   "execution_count": null,
   "metadata": {},
   "outputs": [],
   "source": [
    "class Point:\n",
    "    def __init__(self, x, y):\n",
    "        self.x = x\n",
    "        self.y = y\n",
    "    \n",
    "    def __add__(self, other):\n",
    "        return Point(self.x + other.x, self.y + other.y)\n",
    "    \n",
    "    def __str__(self):\n",
    "        return f\"({self.x}, {self.y})\"\n",
    "\n",
    "p1 = Point(1, 2)\n",
    "p2 = Point(3, 4)\n",
    "p3 = p1 + p2\n",
    "print(p3)  # Output: (4, 6)"
   ]
  },
  {
   "cell_type": "markdown",
   "metadata": {},
   "source": [
    "Explanation:\n",
    "- `__add__` allows us to define custom behavior for the `+` operator.\n",
    "- This enables adding two `Point` objects using the `+` operator."
   ]
  },
  {
   "cell_type": "markdown",
   "metadata": {},
   "source": [
    "### Comparison Operations: __eq__, __lt__, etc."
   ]
  },
  {
   "cell_type": "code",
   "execution_count": null,
   "metadata": {},
   "outputs": [],
   "source": [
    "class Temperature:\n",
    "    def __init__(self, celsius):\n",
    "        self.celsius = celsius\n",
    "    \n",
    "    def __eq__(self, other):\n",
    "        return self.celsius == other.celsius\n",
    "    \n",
    "    def __lt__(self, other):\n",
    "        return self.celsius < other.celsius\n",
    "\n",
    "t1 = Temperature(20)\n",
    "t2 = Temperature(25)\n",
    "print(t1 == t2)  # Output: False\n",
    "print(t1 < t2)   # Output: True"
   ]
  },
  {
   "cell_type": "markdown",
   "metadata": {},
   "source": [
    "Explanation:\n",
    "- `__eq__` defines the behavior for the `==` operator.\n",
    "- `__lt__` defines the behavior for the `<` operator.\n",
    "- These methods allow custom comparison between `Temperature` objects."
   ]
  },
  {
   "cell_type": "markdown",
   "metadata": {},
   "source": [
    "## 10. Decorators in OOP"
   ]
  },
  {
   "cell_type": "markdown",
   "metadata": {},
   "source": [
    "### Class Decorators"
   ]
  },
  {
   "cell_type": "code",
   "execution_count": null,
   "metadata": {},
   "outputs": [],
   "source": [
    "def singleton(cls):\n",
    "    instances = {}\n",
    "    def get_instance(*args, **kwargs):\n",
    "        if cls not in instances:\n",
    "            instances[cls] = cls(*args, **kwargs)\n",
    "        return instances[cls]\n",
    "    return get_instance\n",
    "\n",
    "@singleton\n",
    "class Database:\n",
    "    def __init__(self):\n",
    "        self.connection = \"Connected\"\n",
    "\n",
    "db1 = Database()\n",
    "db2 = Database()\n",
    "print(db1 is db2)  # Output: True"
   ]
  },
  {
   "cell_type": "markdown",
   "metadata": {},
   "source": [
    "Explanation:\n",
    "- The `singleton` decorator ensures only one instance of the class is created.\n",
    "- All calls to `Database()` return the same instance."
   ]
  },
  {
   "cell_type": "markdown",
   "metadata": {},
   "source": [
    "### Method Decorators"
   ]
  },
  {
   "cell_type": "code",
   "execution_count": null,
   "metadata": {},
   "outputs": [],
   "source": [
    "def log_call(func):\n",
    "    def wrapper(*args, **kwargs):\n",
    "        print(f\"Calling {func.__name__}\")\n",
    "        return func(*args, **kwargs)\n",
    "    return wrapper\n",
    "\n",
    "class Calculator:\n",
    "    @log_call\n",
    "    def add(self, x, y):\n",
    "        return x + y\n",
    "\n",
    "calc = Calculator()\n",
    "result = calc.add(3, 4)\n",
    "# Output: Calling add\n",
    "print(result)  # Output: 7"
   ]
  },
  {
   "cell_type": "markdown",
   "metadata": {},
   "source": [
    "Explanation:\n",
    "- The `log_call` decorator adds logging functionality to the `add` method.\n",
    "- It prints a message every time the method is called."
   ]
  },
  {
   "cell_type": "markdown",
   "metadata": {},
   "source": [
    "## 12. Object-Oriented Best Practices"
   ]
  },
  {
   "cell_type": "markdown",
   "metadata": {},
   "source": [
    "### Code Organization"
   ]
  },
  {
   "cell_type": "code",
   "execution_count": null,
   "metadata": {},
   "outputs": [],
   "source": [
    "class Animal:\n",
    "    def __init__(self, name):\n",
    "        self.name = name\n",
    "    \n",
    "    def speak(self):\n",
    "        raise NotImplementedError(\"Subclass must implement abstract method\")\n",
    "\n",
    "class Dog(Animal):\n",
    "    def speak(self):\n",
    "        return f\"{self.name} says Woof!\"\n",
    "\n",
    "class Cat(Animal):\n",
    "    def speak(self):\n",
    "        return f\"{self.name} says Meow!\"\n",
    "\n",
    "# Usage\n",
    "animals = [Dog(\"Buddy\"), Cat(\"Whiskers\")]\n",
    "for animal in animals:\n",
    "    print(animal.speak())"
   ]
  },
  {
   "cell_type": "markdown",
   "metadata": {},
   "source": [
    "Best Practices:\n",
    "- Use inheritance to avoid code duplication.\n",
    "- Implement abstract methods in base classes.\n",
    "- Keep related classes together.\n",
    "- Use meaningful names for classes and methods."
   ]
  },
  {
   "cell_type": "markdown",
   "metadata": {},
   "source": [
    "## 5. Encapsulation and Abstraction"
   ]
  },
  {
   "cell_type": "markdown",
   "metadata": {},
   "source": [
    "### Private and Protected Members"
   ]
  },
  {
   "cell_type": "code",
   "execution_count": null,
   "metadata": {},
   "outputs": [],
   "source": [
    "class BankAccount:\n",
    "    def __init__(self, balance):\n",
    "        self.__balance = balance  # Private attribute\n",
    "        self._transactions = []   # Protected attribute\n",
    "    \n",
    "    def deposit(self, amount):\n",
    "        self.__balance += amount\n",
    "        self._transactions.append(f\"Deposit: {amount}\")\n",
    "    \n",
    "    def get_balance(self):\n",
    "        return self.__balance\n",
    "\n",
    "account = BankAccount(1000)\n",
    "account.deposit(500)\n",
    "print(account.get_balance())  # Output: 1500\n",
    "# print(account.__balance)  # This would raise an AttributeError"
   ]
  },
  {
   "cell_type": "markdown",
   "metadata": {},
   "source": [
    "Explanation:\n",
    "- `__balance` is a private attribute, not accessible outside the class.\n",
    "- `_transactions` is a protected attribute, indicating it shouldn't be accessed directly.\n",
    "- Use getter methods like `get_balance()` to access private attributes."
   ]
  },
  {
   "cell_type": "markdown",
   "metadata": {},
   "source": [
    "### Abstract Classes and Methods"
   ]
  },
  {
   "cell_type": "code",
   "execution_count": null,
   "metadata": {},
   "outputs": [],
   "source": [
    "from abc import ABC, abstractmethod\n",
    "\n",
    "class Shape(ABC):\n",
    "    @abstractmethod\n",
    "    def area(self):\n",
    "        pass\n",
    "\n",
    "class Circle(Shape):\n",
    "    def __init__(self, radius):\n",
    "        self.radius = radius\n",
    "    \n",
    "    def area(self):\n",
    "        return 3.14 * self.radius ** 2\n",
    "\n",
    "# shape = Shape()  # This would raise a TypeError\n",
    "circle = Circle(5)\n",
    "print(circle.area())  # Output: 78.5"
   ]
  },
  {
   "cell_type": "markdown",
   "metadata": {},
   "source": [
    "Explanation:\n",
    "- `Shape` is an abstract base class with an abstract method `area`.\n",
    "- `Circle` is a concrete class that implements the `area` method.\n",
    "- Abstract classes cannot be instantiated directly."
   ]
  }
 ],
 "metadata": {
  "language_info": {
   "name": "python"
  }
 },
 "nbformat": 4,
 "nbformat_minor": 2
}
