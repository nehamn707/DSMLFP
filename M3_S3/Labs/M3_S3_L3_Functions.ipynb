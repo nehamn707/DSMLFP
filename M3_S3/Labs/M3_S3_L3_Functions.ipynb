{
  "nbformat": 4,
  "nbformat_minor": 0,
  "metadata": {
    "colab": {
      "provenance": []
    },
    "kernelspec": {
      "name": "python3",
      "display_name": "Python 3"
    },
    "language_info": {
      "name": "python"
    }
  },
  "cells": [
    {
      "cell_type": "markdown",
      "source": [
        "**Functions** in Python are reusable blocks of code designed to perform a specific task. They are a fundamental concept in programming that allows you to organize your code, make it more readable, and avoid repetition.\n",
        "\n",
        "Functions form the building blocks of modular programming in Python, allowing you to break down complex problems into smaller, manageable pieces of code."
      ],
      "metadata": {
        "id": "BP9PVlzJr22H"
      }
    },
    {
      "cell_type": "markdown",
      "source": [
        "**Definition**:\n",
        "A function is a named sequence of statements that performs a specific operation. It can take input (parameters), process it, and return a result.\n",
        "\n",
        "**Key components**:\n",
        "\n",
        "1. `def` keyword: Defines the function\n",
        "2. `function_name`: A descriptive name for the function\n",
        "3. `parameters`: Input values (optional)\n",
        "4. function body: The code to be executed\n",
        "5. return statement: Specifies the output (optional)"
      ],
      "metadata": {
        "id": "UCCWJ8dor2yk"
      }
    },
    {
      "cell_type": "markdown",
      "source": [
        "**Benefits of using functions**:\n",
        "\n",
        "1. Code reusability\n",
        "2. Improved organization and readability\n",
        "3. Easier debugging and maintenance\n",
        "4. Abstraction of complex operations"
      ],
      "metadata": {
        "id": "9CXEqXpNrvG5"
      }
    },
    {
      "cell_type": "markdown",
      "source": [
        "**Types of functions**:\n",
        "\n",
        "1. Built-in functions (e.g., print(), len())\n",
        "2. User-defined functions\n",
        "3. Anonymous functions (lambda functions)"
      ],
      "metadata": {
        "id": "4Lb0g7vlsNg1"
      }
    },
    {
      "cell_type": "code",
      "execution_count": 3,
      "metadata": {
        "id": "duqjH2-CrYEO"
      },
      "outputs": [],
      "source": [
        "# Example\n",
        "def greet(name):\n",
        "    return f\"Hello, {name}!\""
      ]
    },
    {
      "cell_type": "code",
      "source": [
        "# Calling the function\n",
        "message = greet(\"Alice\")\n",
        "print(message)  # Output: Hello, Alice!"
      ],
      "metadata": {
        "colab": {
          "base_uri": "https://localhost:8080/"
        },
        "id": "sMXFOrdor1Gd",
        "outputId": "58e5e5ee-be0f-42e5-a80d-231b59eb01d6"
      },
      "execution_count": 4,
      "outputs": [
        {
          "output_type": "stream",
          "name": "stdout",
          "text": [
            "Hello, Alice!\n"
          ]
        }
      ]
    },
    {
      "cell_type": "markdown",
      "source": [
        "### **Built-in functions**\n",
        "\n",
        "These are functions that are pre-defined in Python and are always available for use without needing to import any module.\n",
        "\n",
        "Syntax : `function_name(argument1, argument2, ...)`\n",
        "\n",
        "Here's an overview of some important built-in functions:\n",
        "\n",
        "1. **Input/Output**:\n",
        "\n",
        "print(): Outputs to the console\\\n",
        "input(): Reads a line from input\n",
        "\n",
        "\n",
        "2. **Type Conversion**:\n",
        "\n",
        "int(), float(), str(), bool(): Convert between types\\\n",
        "list(), tuple(), set(), dict(): Convert to respective data structures\n",
        "\n",
        "\n",
        "3. **Numeric Functions**:\n",
        "\n",
        "abs(): Absolute value\\\n",
        "round(): Round a number\\\n",
        "max(), min(): Maximum and minimum values\\\n",
        "sum(): Sum of an iterable\n",
        "\n",
        "\n",
        "4. **Sequence Functions**:\n",
        "\n",
        "len(): Length of an object\\\n",
        "range(): Generate a sequence of numbers\\\n",
        "enumerate(): Return an enumerate object\n",
        "\n",
        "\n",
        "5. **String Functions**:\n",
        "\n",
        "chr(): Integer to Unicode character\\\n",
        "ord(): Unicode character to integer\n",
        "\n",
        "\n",
        "6. **Inspection**:\n",
        "\n",
        "type(): Get the type of an object\\\n",
        "isinstance(): Check if an object is an instance of a class\\\n",
        "dir(): List of valid attributes of an object\n",
        "\n",
        "\n",
        "7. **Iteration and Generation**:\n",
        "\n",
        "iter(): Return an iterator object\\\n",
        "next(): Retrieve the next item from an iterator\\\n",
        "zip(): Create an iterator of tuples\n",
        "\n",
        "\n",
        "8. **Complex Data Handling**:\n",
        "\n",
        "sorted(): Return a new sorted list\\\n",
        "reversed(): Return a reverse iterator\\\n",
        "filter(): Construct an iterator from elements which are true\\\n",
        "map(): Apply a function to every item of an iterable\n",
        "\n",
        "\n",
        "9. **Object Creation and Manipulation**:\n",
        "\n",
        "object(): Return a new featureless object\\\n",
        "property(): Return a property attribute\\\n",
        "setattr(), getattr(), hasattr(): Set/get/check for object attributes\n",
        "\n",
        "\n",
        "10. **Math Functions**:\n",
        "\n",
        "pow(): Raise a number to a power\\\n",
        "divmod(): Quotient and remainder of division"
      ],
      "metadata": {
        "id": "9a4v5QOAspKe"
      }
    },
    {
      "cell_type": "code",
      "source": [
        "# Type conversion\n",
        "x = int(\"5\")\n",
        "y = float(\"3.14\")\n",
        "z = str(42)"
      ],
      "metadata": {
        "id": "oreJ05pys3yi"
      },
      "execution_count": 5,
      "outputs": []
    },
    {
      "cell_type": "code",
      "source": [
        "# Numeric functions\n",
        "print(abs(-7))  # Output: 7\n",
        "print(round(3.7))  # Output: 4"
      ],
      "metadata": {
        "colab": {
          "base_uri": "https://localhost:8080/"
        },
        "id": "0-c8NpP0s3vF",
        "outputId": "a43ff97f-672e-42c5-ff23-8a2deb03e292"
      },
      "execution_count": 6,
      "outputs": [
        {
          "output_type": "stream",
          "name": "stdout",
          "text": [
            "7\n",
            "4\n"
          ]
        }
      ]
    },
    {
      "cell_type": "code",
      "source": [
        "# Sequence functions\n",
        "my_list = [1, 2, 3, 4, 5]\n",
        "print(len(my_list))  # Output: 5\n",
        "print(list(range(5)))  # Output: [0, 1, 2, 3, 4]"
      ],
      "metadata": {
        "colab": {
          "base_uri": "https://localhost:8080/"
        },
        "id": "aOw1l2zYs3tM",
        "outputId": "7f00274b-a1ba-466f-a145-2d3280e98249"
      },
      "execution_count": 7,
      "outputs": [
        {
          "output_type": "stream",
          "name": "stdout",
          "text": [
            "5\n",
            "[0, 1, 2, 3, 4]\n"
          ]
        }
      ]
    },
    {
      "cell_type": "code",
      "source": [
        "# Inspection\n",
        "print(type(my_list))  # Output: <class 'list'>\n",
        "print(isinstance(my_list, list))  # Output: True"
      ],
      "metadata": {
        "colab": {
          "base_uri": "https://localhost:8080/"
        },
        "id": "VZlwDmpKs3rF",
        "outputId": "4d7a7481-a3cf-4b2c-aaf9-64751c14eb9e"
      },
      "execution_count": 8,
      "outputs": [
        {
          "output_type": "stream",
          "name": "stdout",
          "text": [
            "<class 'list'>\n",
            "True\n"
          ]
        }
      ]
    },
    {
      "cell_type": "code",
      "source": [
        "# Complex data handling\n",
        "print(sorted([3, 1, 4, 1, 5, 9, 2, 6, 5, 3, 5]))  # Output: [1, 1, 2, 3, 3, 4, 5, 5, 5, 6, 9]\n",
        "print(list(filter(lambda x: x > 5, [1, 6, 3, 8, 2, 9])))  # Output: [6, 8, 9]"
      ],
      "metadata": {
        "colab": {
          "base_uri": "https://localhost:8080/"
        },
        "id": "s57cipvitvfe",
        "outputId": "2ef432d6-1df8-4e08-9291-400fc934b7c1"
      },
      "execution_count": 9,
      "outputs": [
        {
          "output_type": "stream",
          "name": "stdout",
          "text": [
            "[1, 1, 2, 3, 3, 4, 5, 5, 5, 6, 9]\n",
            "[6, 8, 9]\n"
          ]
        }
      ]
    },
    {
      "cell_type": "markdown",
      "source": [
        "### **User-defined functions**\n",
        "\n",
        "User-defined functions are functions created by the programmer to perform specific tasks. They allow you to organize your code, improve reusability, and break down complex problems into smaller, manageable parts.\n",
        "\n",
        "Key aspects of user-defined functions:\n",
        "\n",
        "1. **Definition syntax**:\n",
        "```\n",
        "def function_name(parameters):\n",
        "    \"\"\"Docstring explaining the function\"\"\"\n",
        "    # Function body\n",
        "    return result  # Optional\n",
        "```\n",
        "2. **Parameters and Arguments**:\n",
        "\n",
        "Parameters are variables listed in the function definition.\\\n",
        "Arguments are the values passed to the function when it's called.\n",
        "\n",
        "\n",
        "3. **Return statement**:\n",
        "\n",
        "Used to send a result back to the caller.\\\n",
        "If omitted, the function returns None by default.\n",
        "\n",
        "\n",
        "4. **Function call**:\n",
        "\n",
        "Use the function name followed by parentheses containing arguments.\n",
        "\n",
        "\n",
        "5. **Scope**:\n",
        "\n",
        "Variables defined inside a function have local scope.\\\n",
        "Use global keyword to modify global variables within a function."
      ],
      "metadata": {
        "id": "UEyFNk-4sw48"
      }
    },
    {
      "cell_type": "code",
      "source": [
        "# Simple function without parameters\n",
        "def greet():\n",
        "    print(\"Hello, World!\")\n",
        "\n",
        "greet()  # Output: Hello, World!"
      ],
      "metadata": {
        "colab": {
          "base_uri": "https://localhost:8080/"
        },
        "id": "sElxqLnMuwmr",
        "outputId": "101e97ce-6c8a-45d1-ea8b-b277d15342cb"
      },
      "execution_count": 10,
      "outputs": [
        {
          "output_type": "stream",
          "name": "stdout",
          "text": [
            "Hello, World!\n"
          ]
        }
      ]
    },
    {
      "cell_type": "code",
      "source": [
        "# Function with parameters\n",
        "def greet_person(name):\n",
        "    print(f\"Hello, {name}!\")\n",
        "\n",
        "greet_person(\"Alice\")  # Output: Hello, Alice!"
      ],
      "metadata": {
        "colab": {
          "base_uri": "https://localhost:8080/"
        },
        "id": "aFrEZDT6uwjV",
        "outputId": "7fffc337-1870-4f8f-ab97-cbd2b2ad9888"
      },
      "execution_count": 11,
      "outputs": [
        {
          "output_type": "stream",
          "name": "stdout",
          "text": [
            "Hello, Alice!\n"
          ]
        }
      ]
    },
    {
      "cell_type": "code",
      "source": [
        "# Function with return value\n",
        "def square(number):\n",
        "    return number ** 2\n",
        "\n",
        "result = square(5)\n",
        "print(result)  # Output: 25"
      ],
      "metadata": {
        "colab": {
          "base_uri": "https://localhost:8080/"
        },
        "id": "HFgmF-QBuwho",
        "outputId": "84eae6e9-eb0b-4cc0-d9b2-544d0774e955"
      },
      "execution_count": 12,
      "outputs": [
        {
          "output_type": "stream",
          "name": "stdout",
          "text": [
            "25\n"
          ]
        }
      ]
    },
    {
      "cell_type": "code",
      "source": [
        "# Function with multiple parameters and default values\n",
        "def power(base, exponent=2):\n",
        "    return base ** exponent\n",
        "\n",
        "print(power(3))    # Output: 9 (uses default exponent)\n",
        "print(power(2, 3)) # Output: 8"
      ],
      "metadata": {
        "colab": {
          "base_uri": "https://localhost:8080/"
        },
        "id": "KfTSJ7KLuwfm",
        "outputId": "18fef921-ec67-4345-b5cd-4cb218c5608a"
      },
      "execution_count": 13,
      "outputs": [
        {
          "output_type": "stream",
          "name": "stdout",
          "text": [
            "9\n",
            "8\n"
          ]
        }
      ]
    },
    {
      "cell_type": "code",
      "source": [
        "# Function with variable number of arguments\n",
        "def sum_all(*args):\n",
        "    return sum(args)\n",
        "\n",
        "print(sum_all(1, 2, 3))    # Output: 6\n",
        "print(sum_all(1, 2, 3, 4)) # Output: 10"
      ],
      "metadata": {
        "colab": {
          "base_uri": "https://localhost:8080/"
        },
        "id": "PJQI0_jivBJN",
        "outputId": "35e491ce-5875-4ca7-ac3f-f005d1d5b872"
      },
      "execution_count": 14,
      "outputs": [
        {
          "output_type": "stream",
          "name": "stdout",
          "text": [
            "6\n",
            "10\n"
          ]
        }
      ]
    },
    {
      "cell_type": "code",
      "source": [
        "# Function with docstring\n",
        "def celsius_to_fahrenheit(celsius):\n",
        "    \"\"\"\n",
        "    Convert Celsius to Fahrenheit.\n",
        "\n",
        "    Parameters:\n",
        "    celsius (float): Temperature in Celsius\n",
        "\n",
        "    Returns:\n",
        "    float: Temperature in Fahrenheit\n",
        "    \"\"\"\n",
        "    return (celsius * 9/5) + 32\n",
        "\n",
        "print(celsius_to_fahrenheit(0))  # Output: 32.0"
      ],
      "metadata": {
        "colab": {
          "base_uri": "https://localhost:8080/"
        },
        "id": "BOhnOSrtvBFr",
        "outputId": "55722adc-55bb-4a09-95d2-3a2272e7a823"
      },
      "execution_count": 15,
      "outputs": [
        {
          "output_type": "stream",
          "name": "stdout",
          "text": [
            "32.0\n"
          ]
        }
      ]
    },
    {
      "cell_type": "code",
      "source": [
        "# Recursive function\n",
        "def factorial(n):\n",
        "    if n == 0 or n == 1:\n",
        "        return 1\n",
        "    else:\n",
        "        return n * factorial(n-1)\n",
        "\n",
        "print(factorial(5))  # Output: 120"
      ],
      "metadata": {
        "colab": {
          "base_uri": "https://localhost:8080/"
        },
        "id": "tttwLWX9vKt4",
        "outputId": "0753fcb7-ef04-43c8-8032-debd08f9d584"
      },
      "execution_count": 16,
      "outputs": [
        {
          "output_type": "stream",
          "name": "stdout",
          "text": [
            "120\n"
          ]
        }
      ]
    },
    {
      "cell_type": "markdown",
      "source": [
        "### **Anonymous functions (lambda functions)**\n",
        "\n",
        "Lambda functions, also known as anonymous functions, are small, single-expression functions that don't require a formal definition using the '`def`' keyword. They are created using the '`lambda`' keyword.\n",
        "\n",
        "Key characteristics of Lambda functions:\n",
        "\n",
        "1. **Syntax**: `lambda arguments: expression`\n",
        "\n",
        "2. Can take any number of arguments but can only have one expression.\n",
        "\n",
        "3. Implicitly return the result of the expression.\n",
        "\n",
        "4. Often used for short operations that are needed only once.\n",
        "\n",
        "5. Commonly used with higher-order functions like map(), filter(), and reduce()."
      ],
      "metadata": {
        "id": "BmcOWjIAsyon"
      }
    },
    {
      "cell_type": "code",
      "source": [
        "# Basic lambda function\n",
        "square = lambda x: x**2\n",
        "print(square(5))  # Output: 25"
      ],
      "metadata": {
        "colab": {
          "base_uri": "https://localhost:8080/"
        },
        "id": "EKvTgMdrslq1",
        "outputId": "b1f1f108-2cba-44e7-e966-b58af21f8dcd"
      },
      "execution_count": 17,
      "outputs": [
        {
          "output_type": "stream",
          "name": "stdout",
          "text": [
            "25\n"
          ]
        }
      ]
    },
    {
      "cell_type": "code",
      "source": [
        "# Lambda with multiple arguments\n",
        "sum = lambda a, b: a + b\n",
        "print(sum(3, 4))  # Output: 7"
      ],
      "metadata": {
        "colab": {
          "base_uri": "https://localhost:8080/"
        },
        "id": "xN9nzBbovnND",
        "outputId": "ae242638-e918-4927-ee44-028d728319eb"
      },
      "execution_count": 18,
      "outputs": [
        {
          "output_type": "stream",
          "name": "stdout",
          "text": [
            "7\n"
          ]
        }
      ]
    },
    {
      "cell_type": "code",
      "source": [
        "# Using lambda with map()\n",
        "numbers = [1, 2, 3, 4, 5]\n",
        "squared = list(map(lambda x: x**2, numbers))\n",
        "print(squared)  # Output: [1, 4, 9, 16, 25]"
      ],
      "metadata": {
        "colab": {
          "base_uri": "https://localhost:8080/"
        },
        "id": "ixNNyzqpvqip",
        "outputId": "b0c7b781-960b-49fe-f8df-9c0e70af3e55"
      },
      "execution_count": 19,
      "outputs": [
        {
          "output_type": "stream",
          "name": "stdout",
          "text": [
            "[1, 4, 9, 16, 25]\n"
          ]
        }
      ]
    },
    {
      "cell_type": "code",
      "source": [
        "# Using lambda with filter()\n",
        "numbers = [1, 2, 3, 4, 5, 6, 7, 8, 9, 10]\n",
        "even_numbers = list(filter(lambda x: x % 2 == 0, numbers))\n",
        "print(even_numbers)  # Output: [2, 4, 6, 8, 10]"
      ],
      "metadata": {
        "colab": {
          "base_uri": "https://localhost:8080/"
        },
        "id": "Ec2jruinv-Cy",
        "outputId": "7d606b06-6d8c-4807-b913-0451378a0204"
      },
      "execution_count": 20,
      "outputs": [
        {
          "output_type": "stream",
          "name": "stdout",
          "text": [
            "[2, 4, 6, 8, 10]\n"
          ]
        }
      ]
    },
    {
      "cell_type": "code",
      "source": [
        "# Using lambda with sorted()\n",
        "pairs = [(1, 'one'), (2, 'two'), (3, 'three'), (4, 'four')]\n",
        "sorted_pairs = sorted(pairs, key=lambda pair: pair[1])\n",
        "print(sorted_pairs)  # Output: [(4, 'four'), (1, 'one'), (3, 'three'), (2, 'two')]"
      ],
      "metadata": {
        "colab": {
          "base_uri": "https://localhost:8080/"
        },
        "id": "aUzYVu8zwCTm",
        "outputId": "8637fa47-1b31-4113-8ec5-ba53911264f8"
      },
      "execution_count": 21,
      "outputs": [
        {
          "output_type": "stream",
          "name": "stdout",
          "text": [
            "[(4, 'four'), (1, 'one'), (3, 'three'), (2, 'two')]\n"
          ]
        }
      ]
    },
    {
      "cell_type": "code",
      "source": [
        "# Lambda in list comprehension\n",
        "matrix = [[1, 2, 3], [4, 5, 6], [7, 8, 9]]\n",
        "flattened = [y for x in matrix for y in x]\n",
        "print(flattened)  # Output: [1, 2, 3, 4, 5, 6, 7, 8, 9]"
      ],
      "metadata": {
        "colab": {
          "base_uri": "https://localhost:8080/"
        },
        "id": "iLqcdaF_wF7l",
        "outputId": "798863d5-ee82-4aa9-a823-1b36fb319ec3"
      },
      "execution_count": 22,
      "outputs": [
        {
          "output_type": "stream",
          "name": "stdout",
          "text": [
            "[1, 2, 3, 4, 5, 6, 7, 8, 9]\n"
          ]
        }
      ]
    },
    {
      "cell_type": "code",
      "source": [
        "# Lambda with reduce() (from functools)\n",
        "from functools import reduce\n",
        "numbers = [1, 2, 3, 4, 5]\n",
        "product = reduce(lambda x, y: x * y, numbers)\n",
        "print(product)  # Output: 120"
      ],
      "metadata": {
        "colab": {
          "base_uri": "https://localhost:8080/"
        },
        "id": "4dlGQR62wJvt",
        "outputId": "5b8a8d29-8083-43f5-e89b-4ee400897a75"
      },
      "execution_count": 23,
      "outputs": [
        {
          "output_type": "stream",
          "name": "stdout",
          "text": [
            "120\n"
          ]
        }
      ]
    }
  ]
}