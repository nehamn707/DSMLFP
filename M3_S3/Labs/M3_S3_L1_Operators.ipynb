{
 "cells": [
  {
   "cell_type": "markdown",
   "metadata": {},
   "source": [
    "# Python Operators Examples"
   ]
  },
  {
   "cell_type": "markdown",
   "metadata": {},
   "source": [
    "## Assignment Operators"
   ]
  },
  {
   "cell_type": "code",
   "execution_count": null,
   "metadata": {},
   "outputs": [],
   "source": [
    "# 1. Simple Assignment (=)\n",
    "x = 5\n",
    "print(f\"1. Simple Assignment: x = {x}\")\n",
    "\n",
    "# 2. Add and Assign (+=)\n",
    "x += 3\n",
    "print(f\"2. Add and Assign: x += 3, x = {x}\")\n",
    "\n",
    "# 3. Subtract and Assign (-=)\n",
    "x -= 2\n",
    "print(f\"3. Subtract and Assign: x -= 2, x = {x}\")\n",
    "\n",
    "# 4. Multiply and Assign (*=)\n",
    "x *= 4\n",
    "print(f\"4. Multiply and Assign: x *= 4, x = {x}\")\n",
    "\n",
    "# 5. Divide and Assign (/=)\n",
    "x /= 2\n",
    "print(f\"5. Divide and Assign: x /= 2, x = {x}\")\n",
    "\n",
    "# 6. Floor Divide and Assign (//=)\n",
    "x //= 3\n",
    "print(f\"6. Floor Divide and Assign: x //= 3, x = {x}\")\n",
    "\n",
    "# 7. Modulus and Assign (%=)\n",
    "x %= 3\n",
    "print(f\"7. Modulus and Assign: x %= 3, x = {x}\")\n",
    "\n",
    "# 8. Exponent and Assign (**=)\n",
    "x **= 2\n",
    "print(f\"8. Exponent and Assign: x **= 2, x = {x}\")"
   ]
  },
  {
   "cell_type": "markdown",
   "metadata": {},
   "source": [
    "## Comparison Operators"
   ]
  },
  {
   "cell_type": "code",
   "execution_count": null,
   "metadata": {},
   "outputs": [],
   "source": [
    "# 9. Equal to (==)\n",
    "print(f\"9. Equal to: 5 == 5 is {5 == 5}\")\n",
    "\n",
    "# 10. Not equal to (!=)\n",
    "print(f\"10. Not equal to: 5 != 6 is {5 != 6}\")\n",
    "\n",
    "# 11. Greater than (>)\n",
    "print(f\"11. Greater than: 7 > 3 is {7 > 3}\")\n",
    "\n",
    "# 12. Less than (<)\n",
    "print(f\"12. Less than: 2 < 8 is {2 < 8}\")\n",
    "\n",
    "# 13. Greater than or equal to (>=)\n",
    "print(f\"13. Greater than or equal to: 5 >= 5 is {5 >= 5}\")\n",
    "\n",
    "# 14. Less than or equal to (<=)\n",
    "print(f\"14. Less than or equal to: 4 <= 4 is {4 <= 4}\")"
   ]
  },
  {
   "cell_type": "markdown",
   "metadata": {},
   "source": [
    "## Logical Operators"
   ]
  },
  {
   "cell_type": "code",
   "execution_count": null,
   "metadata": {},
   "outputs": [],
   "source": [
    "# 15. AND (and)\n",
    "print(f\"15. AND: True and True is {True and True}\")\n",
    "\n",
    "# 16. OR (or)\n",
    "print(f\"16. OR: True or False is {True or False}\")\n",
    "\n",
    "# 17. NOT (not)\n",
    "print(f\"17. NOT: not True is {not True}\")"
   ]
  },
  {
   "cell_type": "markdown",
   "metadata": {},
   "source": [
    "## Identity Operators"
   ]
  },
  {
   "cell_type": "code",
   "execution_count": null,
   "metadata": {},
   "outputs": [],
   "source": [
    "# 18. is\n",
    "a = [1, 2, 3]\n",
    "b = a\n",
    "print(f\"18. is: a is b is {a is b}\")\n",
    "\n",
    "# 19. is not\n",
    "c = [1, 2, 3]\n",
    "print(f\"19. is not: a is not c is {a is not c}\")"
   ]
  },
  {
   "cell_type": "markdown",
   "metadata": {},
   "source": [
    "## Membership Operators"
   ]
  },
  {
   "cell_type": "code",
   "execution_count": null,
   "metadata": {},
   "outputs": [],
   "source": [
    "# 20. in\n",
    "lst = [1, 2, 3, 4, 5]\n",
    "print(f\"20. in: 3 in lst is {3 in lst}\")\n",
    "\n",
    "# 21. not in\n",
    "print(f\"21. not in: 6 not in lst is {6 not in lst}\")"
   ]
  },
  {
   "cell_type": "markdown",
   "metadata": {},
   "source": [
    "## Bitwise Operators"
   ]
  },
  {
   "cell_type": "code",
   "execution_count": null,
   "metadata": {},
   "outputs": [],
   "source": [
    "# 22. AND (&)\n",
    "print(f\"22. Bitwise AND: 5 & 3 = {5 & 3}\")\n",
    "\n",
    "# 23. OR (|)\n",
    "print(f\"23. Bitwise OR: 5 | 3 = {5 | 3}\")\n",
    "\n",
    "# 24. XOR (^)\n",
    "print(f\"24. Bitwise XOR: 5 ^ 3 = {5 ^ 3}\")\n",
    "\n",
    "# 25. NOT (~)\n",
    "print(f\"25. Bitwise NOT: ~5 = {~5}\")\n",
    "\n",
    "# 26. Left shift (<<)\n",
    "print(f\"26. Left shift: 5 << 1 = {5 << 1}\")\n",
    "\n",
    "# 27. Right shift (>>)\n",
    "print(f\"27. Right shift: 5 >> 1 = {5 >> 1}\")"
   ]
  },
  {
   "cell_type": "markdown",
   "metadata": {},
   "source": [
    "## Arithmetic Operators"
   ]
  },
  {
   "cell_type": "code",
   "execution_count": null,
   "metadata": {},
   "outputs": [],
   "source": [
    "# 28. Addition (+)\n",
    "print(f\"28. Addition: 5 + 3 = {5 + 3}\")\n",
    "\n",
    "# 29. Subtraction (-)\n",
    "print(f\"29. Subtraction: 5 - 3 = {5 - 3}\")\n",
    "\n",
    "# 30. Multiplication (*)\n",
    "print(f\"30. Multiplication: 5 * 3 = {5 * 3}\")\n",
    "\n",
    "# 31. Division (/)\n",
    "print(f\"31. Division: 5 / 3 = {5 / 3}\")\n",
    "\n",
    "# 32. Modulus (%)\n",
    "print(f\"32. Modulus: 5 % 3 = {5 % 3}\")\n",
    "\n",
    "# 33. Exponentiation (**)\n",
    "print(f\"33. Exponentiation: 5 ** 3 = {5 ** 3}\")\n",
    "\n",
    "# 34. Floor division (//)\n",
    "print(f\"34. Floor division: 5 // 3 = {5 // 3}\")"
   ]
  }
 ],
 "metadata": {
  "kernelspec": {
   "display_name": "Python 3",
   "language": "python",
   "name": "python3"
  },
  "language_info": {
   "codemirror_mode": {
    "name": "ipython",
    "version": 3
   },
   "file_extension": ".py",
   "mimetype": "text/x-python",
   "name": "python",
   "nbconvert_exporter": "python",
   "pygments_lexer": "ipython3",
   "version": "3.8.5"
  }
 },
 "nbformat": 4,
 "nbformat_minor": 4
}
