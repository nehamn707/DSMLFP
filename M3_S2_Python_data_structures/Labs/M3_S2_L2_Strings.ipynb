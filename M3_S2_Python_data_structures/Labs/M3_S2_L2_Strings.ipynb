{
  "cells": [
    {
      "cell_type": "markdown",
      "metadata": {},
      "source": [
        "# Python Strings Tutorial\n",
        "\n",
        "This notebook provides code examples and explanations for various string operations in Python, suitable for beginners aiming to become proficient in Python string manipulation."
      ]
    },
    {
      "cell_type": "markdown",
      "metadata": {},
      "source": [
        "## 1. Introduction to Strings\n",
        "\n",
        "Strings in Python are sequences of characters. They are immutable, which means once created, their contents cannot be changed."
      ]
    },
    {
      "cell_type": "code",
      "execution_count": null,
      "metadata": {},
      "outputs": [],
      "source": [
        "# Creating strings\n",
        "single_quoted = 'Hello, World!'\n",
        "double_quoted = \"Hello, World!\"\n",
        "print(single_quoted)\n",
        "print(double_quoted)"
      ]
    },
    {
      "cell_type": "markdown",
      "metadata": {},
      "source": [
        "Strings can be created using single or double quotes. Both are equivalent in Python."
      ]
    },
    {
      "cell_type": "code",
      "execution_count": null,
      "metadata": {},
      "outputs": [],
      "source": [
        "# Triple quotes for multiline strings\n",
        "multiline_string = \"\"\"This is a\n",
        "multiline string.\n",
        "It can span multiple lines.\"\"\"\n",
        "print(multiline_string)"
      ]
    },
    {
      "cell_type": "markdown",
      "metadata": {},
      "source": [
        "Triple quotes allow you to create multiline strings easily."
      ]
    },
    {
      "cell_type": "code",
      "execution_count": null,
      "metadata": {},
      "outputs": [],
      "source": [
        "# Escape sequences\n",
        "escaped_string = \"This is a line\\nThis is a new line\\tThis is tabbed\"\n",
        "print(escaped_string)"
      ]
    },
    {
      "cell_type": "markdown",
      "metadata": {},
      "source": [
        "Escape sequences like `\\n` (newline) and `\\t` (tab) allow you to include special characters in strings."
      ]
    },
    {
      "cell_type": "markdown",
      "metadata": {},
      "source": [
        "## 2. Basic String Operations"
      ]
    },
    {
      "cell_type": "code",
      "execution_count": null,
      "metadata": {},
      "outputs": [],
      "source": [
        "# Concatenation\n",
        "str1 = \"Hello\"\n",
        "str2 = \"World\"\n",
        "result = str1 + \" \" + str2\n",
        "print(result)"
      ]
    },
    {
      "cell_type": "markdown",
      "metadata": {},
      "source": [
        "The `+` operator is used to concatenate strings."
      ]
    },
    {
      "cell_type": "code",
      "execution_count": null,
      "metadata": {},
      "outputs": [],
      "source": [
        "# Repetition\n",
        "repeated = \"Ha\" * 3\n",
        "print(repeated)"
      ]
    },
    {
      "cell_type": "markdown",
      "metadata": {},
      "source": [
        "The `*` operator repeats a string a specified number of times."
      ]
    },
    {
      "cell_type": "code",
      "execution_count": null,
      "metadata": {},
      "outputs": [],
      "source": [
        "# String length\n",
        "text = \"Python\"\n",
        "length = len(text)\n",
        "print(f\"The length of '{text}' is {length}\")"
      ]
    },
    {
      "cell_type": "markdown",
      "metadata": {},
      "source": [
        "The `len()` function returns the length of a string."
      ]
    },
    {
      "cell_type": "code",
      "execution_count": null,
      "metadata": {},
      "outputs": [],
      "source": [
        "# Indexing and slicing\n",
        "text = \"Python\"\n",
        "print(text[0])    # First character\n",
        "print(text[-1])   # Last character\n",
        "print(text[1:4])  # Slice from index 1 to 3"
      ]
    },
    {
      "cell_type": "markdown",
      "metadata": {},
      "source": [
        "Indexing starts at 0. Negative indices count from the end. Slicing allows you to extract substrings."
      ]
    },
    {
      "cell_type": "code",
      "execution_count": null,
      "metadata": {},
      "outputs": [],
      "source": [
        "# Membership\n",
        "text = \"Python is awesome\"\n",
        "print(\"Python\" in text)\n",
        "print(\"Java\" not in text)"
      ]
    },
    {
      "cell_type": "markdown",
      "metadata": {},
      "source": [
        "The `in` and `not in` operators check for substring presence."
      ]
    },
    {
      "cell_type": "markdown",
      "metadata": {},
      "source": [
        "## 3. String Methods"
      ]
    },
    {
      "cell_type": "code",
      "execution_count": null,
      "metadata": {},
      "outputs": [],
      "source": [
        "# Case conversion\n",
        "text = \"Hello, World!\"\n",
        "print(text.lower())\n",
        "print(text.upper())\n",
        "print(text.capitalize())\n",
        "print(text.title())"
      ]
    },
    {
      "cell_type": "markdown",
      "metadata": {},
      "source": [
        "These methods change the case of strings. Note that they return new strings; they don't modify the original."
      ]
    },
    {
      "cell_type": "code",
      "execution_count": null,
      "metadata": {},
      "outputs": [],
      "source": [
        "# String modification\n",
        "text = \"   Python   \"\n",
        "print(text.strip())  # Remove leading/trailing whitespace\n",
        "print(\"Hello, World!\".replace(\"World\", \"Python\"))\n",
        "print(\"-\".join([\"a\", \"b\", \"c\"]))\n",
        "print(\"a,b,c\".split(\",\"))"
      ]
    },
    {
      "cell_type": "markdown",
      "metadata": {},
      "source": [
        "These methods modify strings in various ways, such as removing whitespace, replacing substrings, joining, and splitting."
      ]
    },
    {
      "cell_type": "code",
      "execution_count": null,
      "metadata": {},
      "outputs": [],
      "source": [
        "# Searching within strings\n",
        "text = \"Python is awesome\"\n",
        "print(text.find(\"is\"))  # Returns index of first occurrence\n",
        "print(text.count(\"o\"))  # Counts occurrences"
      ]
    },
    {
      "cell_type": "markdown",
      "metadata": {},
      "source": [
        "These methods help in searching and counting within strings."
      ]
    },
    {
      "cell_type": "code",
      "execution_count": null,
      "metadata": {},
      "outputs": [],
      "source": [
        "# Checking string characteristics\n",
        "print(\"abc\".isalpha())\n",
        "print(\"123\".isdigit())\n",
        "print(\" \".isspace())"
      ]
    },
    {
      "cell_type": "markdown",
      "metadata": {},
      "source": [
        "These methods check if a string consists of specific types of characters."
      ]
    },
    {
      "cell_type": "code",
      "execution_count": null,
      "metadata": {},
      "outputs": [],
      "source": [
        "# String formatting\n",
        "name = \"Alice\"\n",
        "age = 30\n",
        "print(\"My name is {} and I'm {} years old\".format(name, age))\n",
        "print(f\"My name is {name} and I'm {age} years old\")"
      ]
    },
    {
      "cell_type": "markdown",
      "metadata": {},
      "source": [
        "`.format()` and f-strings are modern ways to format strings in Python."
      ]
    },
    {
      "cell_type": "markdown",
      "metadata": {},
      "source": [
        "## 4. Advanced String Slicing and Indexing"
      ]
    },
    {
      "cell_type": "code",
      "execution_count": null,
      "metadata": {},
      "outputs": [],
      "source": [
        "# Extended slicing\n",
        "text = \"Python\"\n",
        "print(text[::2])    # Every second character\n",
        "print(text[::-1])   # Reverse the string"
      ]
    },
    {
      "cell_type": "markdown",
      "metadata": {},
      "source": [
        "Extended slicing allows you to specify a step. A negative step reverses the string."
      ]
    },
    {
      "cell_type": "code",
      "execution_count": null,
      "metadata": {},
      "outputs": [],
      "source": [
        "# Slicing with negative indices\n",
        "text = \"Python\"\n",
        "print(text[-3:])    # Last 3 characters\n",
        "print(text[:-2])    # All but the last 2 characters"
      ]
    },
    {
      "cell_type": "markdown",
      "metadata": {},
      "source": [
        "Negative indices count from the end of the string, allowing for flexible slicing."
      ]
    },
    {
      "cell_type": "markdown",
      "metadata": {},
      "source": [
        "## 5. String Formatting"
      ]
    },
    {
      "cell_type": "code",
      "execution_count": null,
      "metadata": {},
      "outputs": [],
      "source": [
        "# Old-style formatting\n",
        "name = \"Alice\"\n",
        "age = 30\n",
        "print(\"My name is %s and I'm %d years old\" % (name, age))"
      ]
    },
    {
      "cell_type": "markdown",
      "metadata": {},
      "source": [
        "The `%` operator is the old way of formatting strings. It's still used but less common in modern Python."
      ]
    },
    {
      "cell_type": "code",
      "execution_count": null,
      "metadata": {},
      "outputs": [],
      "source": [
        "# New-style formatting\n",
        "print(\"My name is {0} and I'm {1} years old\".format(name, age))\n",
        "print(\"My name is {name} and I'm {age} years old\".format(name=name, age=age))"
      ]
    },
    {
      "cell_type": "markdown",
      "metadata": {},
      "source": [
        "The `.format()` method offers more flexibility and readability compared to the `%` operator."
      ]
    },
    {
      "cell_type": "code",
      "execution_count": null,
      "metadata": {},
      "outputs": [],
      "source": [
        "# f-Strings (Python 3.6+)\n",
        "print(f\"My name is {name} and I'm {age} years old\")\n",
        "print(f\"The answer is {2 * 21}\")"
      ]
    },
    {
      "cell_type": "markdown",
      "metadata": {},
      "source": [
        "f-Strings are the most modern and concise way to format strings in Python."
      ]
    },
    {
      "cell_type": "markdown",
      "metadata": {},
      "source": [
        "## 6. Escape Characters and Raw Strings"
      ]
    },
    {
      "cell_type": "code",
      "execution_count": null,
      "metadata": {},
      "outputs": [],
      "source": [
        "# Escape characters\n",
        "print(\"This is a line\\nThis is a new line\")\n",
        "print(\"This is a tab:\\tTabbed\")"
      ]
    },
    {
      "cell_type": "markdown",
      "metadata": {},
      "source": [
        "Escape characters allow you to include special characters in strings."
      ]
    },
    {
      "cell_type": "code",
      "execution_count": null,
      "metadata": {},
      "outputs": [],
      "source": [
        "# Raw strings\n",
        "print(r\"This is a raw string\\n\")\n",
        "print(\"This is a regular string\\n\")"
      ]
    },
    {
      "cell_type": "markdown",
      "metadata": {},
      "source": [
        "Raw strings treat backslashes as literal characters, which is useful for regex patterns or file paths."
      ]
    },
    {
      "cell_type": "markdown",
      "metadata": {},
      "source": [
        "## 7. String Comparison"
      ]
    },
    {
      "cell_type": "code",
      "execution_count": null,
      "metadata": {},
      "outputs": [],
      "source": [
        "# Comparing strings\n",
        "print(\"apple\" < \"banana\")  # Lexicographical comparison\n",
        "print(\"Apple\" == \"apple\")  # Case-sensitive comparison"
      ]
    },
    {
      "cell_type": "markdown",
      "metadata": {},
      "source": [
        "String comparisons are case-sensitive and based on lexicographical (dictionary) order."
      ]
    },
    {
      "cell_type": "code",
      "execution_count": null,
      "metadata": {},
      "outputs": [],
      "source": [
        "# Case-insensitive comparison\n",
        "print(\"Apple\".lower() == \"apple\".lower())"
      ]
    },
    {
      "cell_type": "markdown",
      "metadata": {},
      "source": [
        "For case-insensitive comparisons, convert both strings to lowercase (or uppercase) before comparing."
      ]
    },
    {
      "cell_type": "markdown",
      "metadata": {},
      "source": [
        "## 8. Multiline Strings"
      ]
    },
    {
      "cell_type": "code",
      "execution_count": null,
      "metadata": {},
      "outputs": [],
      "source": []
    },
    {
      "cell_type": "markdown",
      "metadata": {},
      "source": [
        "Triple quotes allow you to create multiline strings easily, preserving line breaks and indentation."
      ]
    },
    {
      "cell_type": "code",
      "execution_count": null,
      "metadata": {},
      "outputs": [],
      "source": [
        "# Multiline string with escape characters\n",
        "multiline_escaped = \"This is a \\nmultiline string \\nusing escape characters.\"\n",
        "print(multiline_escaped)"
      ]
    },
    {
      "cell_type": "markdown",
      "metadata": {},
      "source": [
        "You can also create multiline strings using escape characters, which gives you more control over line breaks."
      ]
    },
    {
      "cell_type": "code",
      "execution_count": null,
      "metadata": {},
      "outputs": [],
      "source": [
        "# Handling multiline user input\n",
        "print(\"Enter a multiline message (press Ctrl+D or Ctrl+Z on a new line to finish):\")\n",
        "lines = []\n",
        "while True:\n",
        "    try:\n",
        "        line = input()\n",
        "        lines.append(line)\n",
        "    except EOFError:\n",
        "        break\n",
        "multiline_input = '\\n'.join(lines)\n",
        "print(\"You entered:\")\n",
        "print(multiline_input)"
      ]
    },
    {
      "cell_type": "markdown",
      "metadata": {},
      "source": [
        "This example shows how to handle multiline input from a user. Note that this code will work in a terminal but may behave differently in some IDEs or notebooks."
      ]
    },
    {
      "cell_type": "markdown",
      "metadata": {},
      "source": [
        "## 9. String Iteration and Looping"
      ]
    },
    {
      "cell_type": "code",
      "execution_count": null,
      "metadata": {},
      "outputs": [],
      "source": [
        "# Iterating over a string\n",
        "text = \"Python\"\n",
        "for char in text:\n",
        "    print(char)"
      ]
    },
    {
      "cell_type": "markdown",
      "metadata": {},
      "source": [
        "You can iterate over a string character by character using a for loop."
      ]
    },
    {
      "cell_type": "code",
      "execution_count": null,
      "metadata": {},
      "outputs": [],
      "source": [
        "# Using enumerate() for indexed iteration\n",
        "for index, char in enumerate(text):\n",
        "    print(f\"Character at index {index}: {char}\")"
      ]
    },
    {
      "cell_type": "markdown",
      "metadata": {},
      "source": [
        "The `enumerate()` function allows you to iterate over both the indices and characters of a string."
      ]
    },
    {
      "cell_type": "code",
      "execution_count": null,
      "metadata": {},
      "outputs": [],
      "source": [
        "# Counting characters\n",
        "text = \"Hello, World!\"\n",
        "char_count = {}\n",
        "for char in text:\n",
        "    char_count[char] = char_count.get(char, 0) + 1\n",
        "print(char_count)"
      ]
    },
    {
      "cell_type": "markdown",
      "metadata": {},
      "source": [
        "This example shows how to count the occurrences of each character in a string using a dictionary."
      ]
    },
    {
      "cell_type": "markdown",
      "metadata": {},
      "source": [
        "## 10. String Encoding and Decoding"
      ]
    },
    {
      "cell_type": "code",
      "execution_count": null,
      "metadata": {},
      "outputs": [],
      "source": [
        "# Encoding and decoding strings\n",
        "text = \"Hello, World!\"\n",
        "encoded = text.encode('utf-8')  # Convert string to bytes\n",
        "print(encoded)\n",
        "decoded = encoded.decode('utf-8')  # Convert bytes back to string\n",
        "print(decoded)"
      ]
    },
    {
      "cell_type": "markdown",
      "metadata": {},
      "source": [
        "Encoding converts a string to bytes, while decoding converts bytes back to a string. UTF-8 is a common encoding for Unicode text."
      ]
    },
    {
      "cell_type": "code",
      "execution_count": null,
      "metadata": {},
      "outputs": [],
      "source": [
        "# Handling Unicode strings\n",
        "unicode_string = \"こんにちは世界\"  # \"Hello World\" in Japanese\n",
        "print(unicode_string)\n",
        "print(len(unicode_string))  # Length in characters\n",
        "print(len(unicode_string.encode('utf-8')))  # Length in bytes when UTF-8 encoded"
      ]
    },
    {
      "cell_type": "markdown",
      "metadata": {},
      "source": [
        "Python 3 strings are Unicode by default, allowing you to work with text in any language."
      ]
    },
    {
      "cell_type": "markdown",
      "metadata": {},
      "source": [
        "## 11. Regular Expressions with Strings"
      ]
    },
    {
      "cell_type": "code",
      "execution_count": null,
      "metadata": {},
      "outputs": [],
      "source": [
        "import re\n",
        "\n",
        "# Searching for patterns\n",
        "text = \"The quick brown fox jumps over the lazy dog\"\n",
        "pattern = r\"\\b\\w{5}\\b\"  # Find all 5-letter words\n",
        "matches = re.findall(pattern, text)\n",
        "print(matches)"
      ]
    },
    {
      "cell_type": "markdown",
      "metadata": {},
      "source": [
        "Regular expressions provide powerful pattern matching capabilities. Here, we're finding all 5-letter words in the text."
      ]
    },
    {
      "cell_type": "code",
      "execution_count": null,
      "metadata": {},
      "outputs": [],
      "source": [
        "# Replacing substrings with re.sub()\n",
        "text = \"Hello, World! Hello, Python!\"\n",
        "pattern = r\"Hello\"\n",
        "replacement = \"Hi\"\n",
        "new_text = re.sub(pattern, replacement, text)\n",
        "print(new_text)"
      ]
    },
    {
      "cell_type": "markdown",
      "metadata": {},
      "source": [
        "`re.sub()` allows you to replace patterns in a string using regular expressions."
      ]
    },
    {
      "cell_type": "markdown",
      "metadata": {},
      "source": [
        "## 12. String Joining and Splitting"
      ]
    },
    {
      "cell_type": "code",
      "execution_count": null,
      "metadata": {},
      "outputs": [],
      "source": [
        "# Splitting strings\n",
        "text = \"apple,banana,cherry\"\n",
        "fruits = text.split(',')\n",
        "print(fruits)\n",
        "\n",
        "# Joining strings\n",
        "joined = ' - '.join(fruits)\n",
        "print(joined)"
      ]
    },
    {
      "cell_type": "markdown",
      "metadata": {},
      "source": [
        "`split()` divides a string into a list of substrings, while `join()` concatenates a list of strings into a single string."
      ]
    },
    {
      "cell_type": "code",
      "execution_count": null,
      "metadata": {},
      "outputs": [],
      "source": [
        "# Working with CSV data\n",
        "csv_data = \"Name,Age,City\\nAlice,30,New York\\nBob,25,Los Angeles\"\n",
        "lines = csv_data.split('\\n')\n",
        "for line in lines[1:]:  # Skip header\n",
        "    name, age, city = line.split(',')\n",
        "    print(f\"{name} is {age} years old and lives in {city}\")"
      ]
    },
    {
      "cell_type": "markdown",
      "metadata": {},
      "source": [
        "This example shows how to parse simple CSV data using string splitting."
      ]
    },
    {
      "cell_type": "markdown",
      "metadata": {},
      "source": [
        "## 13. Common String Operations"
      ]
    },
    {
      "cell_type": "code",
      "execution_count": null,
      "metadata": {},
      "outputs": [],
      "source": [
        "# Checking prefixes and suffixes\n",
        "filename = \"document.txt\"\n",
        "print(filename.startswith(\"doc\"))\n",
        "print(filename.endswith(\".txt\"))"
      ]
    },
    {
      "cell_type": "markdown",
      "metadata": {},
      "source": [
        "`startswith()` and `endswith()` are useful for checking the beginning and end of strings."
      ]
    },
    {
      "cell_type": "code",
      "execution_count": null,
      "metadata": {},
      "outputs": [],
      "source": [
        "# Removing whitespace\n",
        "text = \"   Hello, World!   \"\n",
        "print(text.strip())    # Remove leading and trailing whitespace\n",
        "print(text.lstrip())   # Remove leading whitespace\n",
        "print(text.rstrip())   # Remove trailing whitespace"
      ]
    },
    {
      "cell_type": "markdown",
      "metadata": {},
      "source": [
        "These methods are helpful for cleaning up strings by removing unwanted whitespace."
      ]
    },
    {
      "cell_type": "code",
      "execution_count": null,
      "metadata": {},
      "outputs": [],
      "source": [
        "# Padding strings\n",
        "number = \"42\"\n",
        "print(number.zfill(5))  # Zero padding\n",
        "print(number.rjust(5))  # Right justify\n",
        "print(number.ljust(5))  # Left justify"
      ]
    },
    {
      "cell_type": "markdown",
      "metadata": {},
      "source": [
        "These methods are useful for formatting strings to a specific width."
      ]
    },
    {
      "cell_type": "code",
      "execution_count": null,
      "metadata": {},
      "outputs": [],
      "source": [
        "# String translation and mapping\n",
        "text = \"Hello, World!\"\n",
        "translation_table = str.maketrans(\"aeiou\", \"AEIOU\")\n",
        "translated = text.translate(translation_table)\n",
        "print(translated)"
      ]
    },
    {
      "cell_type": "markdown",
      "metadata": {},
      "source": [
        "`translate()` and `maketrans()` allow you to perform character-by-character translations on strings."
      ]
    }
  ],
  "metadata": {
    "kernelspec": {
      "display_name": "Python 3",
      "language": "python",
      "name": "python3"
    },
    "language_info": {
      "codemirror_mode": {
        "name": "ipython",
        "version": 3
      },
      "file_extension": ".py",
      "mimetype": "text/x-python",
      "name": "python",
      "nbconvert_exporter": "python",
      "pygments_lexer": "ipython3",
      "version": "3.8.8"
    }
  },
  "nbformat": 4,
  "nbformat_minor": 4
}