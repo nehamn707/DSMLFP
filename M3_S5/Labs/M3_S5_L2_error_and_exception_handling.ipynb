{
 "cells": [
  {
   "cell_type": "markdown",
   "metadata": {},
   "source": [
    "# Introduction to Errors and Exceptions in Python\n",
    "\n",
    "This notebook covers the basics of errors and exceptions in Python, including types of errors, built-in exceptions, and how to handle them."
   ]
  },
  {
   "cell_type": "markdown",
   "metadata": {},
   "source": [
    "## 1. Introduction to Errors and Exceptions"
   ]
  },
  {
   "cell_type": "markdown",
   "metadata": {},
   "source": [
    "### Types of Errors"
   ]
  },
  {
   "cell_type": "markdown",
   "metadata": {},
   "source": [
    "#### Syntax Errors"
   ]
  },
  {
   "cell_type": "code",
   "execution_count": null,
   "metadata": {},
   "outputs": [],
   "source": [
    "# This will cause a SyntaxError\n",
    "print(\"Hello World\""
   ]
  },
  {
   "cell_type": "markdown",
   "metadata": {},
   "source": [
    "Syntax errors occur when the Python interpreter encounters code that doesn't follow the language's syntax rules. In this case, the parenthesis is not closed."
   ]
  },
  {
   "cell_type": "markdown",
   "metadata": {},
   "source": [
    "#### Logical Errors"
   ]
  },
  {
   "cell_type": "code",
   "execution_count": null,
   "metadata": {},
   "outputs": [],
   "source": [
    "def calculate_average(numbers):\n",
    "    return sum(numbers) / len(numbers) + 1  # Logical error: adding 1 to the average\n",
    "\n",
    "print(calculate_average([1, 2, 3, 4, 5]))  # This will produce an incorrect result"
   ]
  },
  {
   "cell_type": "markdown",
   "metadata": {},
   "source": [
    "Logical errors don't cause the program to crash but produce incorrect results. Here, the average calculation is incorrect due to the extra `+ 1`."
   ]
  },
  {
   "cell_type": "markdown",
   "metadata": {},
   "source": [
    "### What are Exceptions?"
   ]
  },
  {
   "cell_type": "code",
   "execution_count": null,
   "metadata": {},
   "outputs": [],
   "source": [
    "# This will raise a ZeroDivisionError exception\n",
    "result = 10 / 0\n",
    "print(result)"
   ]
  },
  {
   "cell_type": "markdown",
   "metadata": {},
   "source": [
    "Exceptions are runtime errors that occur during program execution. They disrupt the normal flow of the program but can be handled to prevent crashes."
   ]
  },
  {
   "cell_type": "markdown",
   "metadata": {},
   "source": [
    "### Difference between Errors and Exceptions"
   ]
  },
  {
   "cell_type": "markdown",
   "metadata": {},
   "source": [
    "- Errors (like syntax errors) prevent the program from running.\n",
    "- Exceptions occur during runtime and can be handled.\n",
    "- Logical errors don't raise exceptions but produce incorrect results."
   ]
  },
  {
   "cell_type": "markdown",
   "metadata": {},
   "source": [
    "## 2. Built-in Exceptions in Python"
   ]
  },
  {
   "cell_type": "markdown",
   "metadata": {},
   "source": [
    "### Common Built-in Exceptions"
   ]
  },
  {
   "cell_type": "code",
   "execution_count": null,
   "metadata": {},
   "outputs": [],
   "source": [
    "# SyntaxError\n",
    "# print \"Hello World\"  # Uncomment to see SyntaxError\n",
    "\n",
    "# IndentationError\n",
    "# def function():\n",
    "# print(\"Incorrectly indented\")  # Uncomment to see IndentationError\n",
    "\n",
    "# NameError\n",
    "print(undefined_variable)  # This will raise a NameError\n",
    "\n",
    "# TypeError\n",
    "\"2\" + 2  # This will raise a TypeError\n",
    "\n",
    "# ValueError\n",
    "int(\"abc\")  # This will raise a ValueError\n",
    "\n",
    "# IndexError\n",
    "list = [1, 2, 3]\n",
    "print(list[3])  # This will raise an IndexError\n",
    "\n",
    "# KeyError\n",
    "dict = {\"a\": 1, \"b\": 2}\n",
    "print(dict[\"c\"])  # This will raise a KeyError\n",
    "\n",
    "# AttributeError\n",
    "\"hello\".undefined_method()  # This will raise an AttributeError\n",
    "\n",
    "# IOError\n",
    "open(\"nonexistent_file.txt\", \"r\")  # This will raise an IOError\n",
    "\n",
    "# ZeroDivisionError\n",
    "10 / 0  # This will raise a ZeroDivisionError\n",
    "\n",
    "# ImportError\n",
    "import non_existent_module  # This will raise an ImportError"
   ]
  },
  {
   "cell_type": "markdown",
   "metadata": {},
   "source": [
    "These are examples of common built-in exceptions in Python. Each represents a different type of error that can occur during program execution."
   ]
  },
  {
   "cell_type": "markdown",
   "metadata": {},
   "source": [
    "### Hierarchy of Exceptions"
   ]
  },
  {
   "cell_type": "code",
   "execution_count": null,
   "metadata": {},
   "outputs": [],
   "source": [
    "import builtins\n",
    "\n",
    "def print_exception_hierarchy(exception_class, indent=0):\n",
    "    print(\" \" * indent + exception_class.__name__)\n",
    "    for subclass in exception_class.__subclasses__():\n",
    "        print_exception_hierarchy(subclass, indent + 2)\n",
    "\n",
    "print_exception_hierarchy(BaseException)"
   ]
  },
  {
   "cell_type": "markdown",
   "metadata": {},
   "source": [
    "This code prints the hierarchy of built-in exceptions in Python. `BaseException` is the base class for all built-in exceptions."
   ]
  },
  {
   "cell_type": "markdown",
   "metadata": {},
   "source": [
    "## 3. Handling Exceptions"
   ]
  },
  {
   "cell_type": "markdown",
   "metadata": {},
   "source": [
    "### try and except Blocks"
   ]
  },
  {
   "cell_type": "code",
   "execution_count": null,
   "metadata": {},
   "outputs": [],
   "source": [
    "try:\n",
    "    x = int(input(\"Enter a number: \"))\n",
    "    result = 10 / x\n",
    "    print(f\"Result: {result}\")\n",
    "except ValueError:\n",
    "    print(\"Invalid input. Please enter a number.\")\n",
    "except ZeroDivisionError:\n",
    "    print(\"Cannot divide by zero.\")\n",
    "except Exception as e:\n",
    "    print(f\"An unexpected error occurred: {e}\")"
   ]
  },
  {
   "cell_type": "markdown",
   "metadata": {},
   "source": [
    "This example demonstrates how to use `try` and `except` blocks to handle multiple types of exceptions."
   ]
  },
  {
   "cell_type": "markdown",
   "metadata": {},
   "source": [
    "### Using the else Clause"
   ]
  },
  {
   "cell_type": "code",
   "execution_count": null,
   "metadata": {},
   "outputs": [],
   "source": [
    "try:\n",
    "    x = int(input(\"Enter a positive number: \"))\n",
    "    if x <= 0:\n",
    "        raise ValueError(\"Number must be positive\")\n",
    "except ValueError as ve:\n",
    "    print(f\"Error: {ve}\")\n",
    "else:\n",
    "    print(f\"You entered: {x}\")\n",
    "    print(\"Square root:\", x ** 0.5)"
   ]
  },
  {
   "cell_type": "markdown",
   "metadata": {},
   "source": [
    "The `else` clause is executed if no exception is raised in the `try` block."
   ]
  },
  {
   "cell_type": "markdown",
   "metadata": {},
   "source": [
    "### Using the finally Clause"
   ]
  },
  {
   "cell_type": "code",
   "execution_count": null,
   "metadata": {},
   "outputs": [],
   "source": [
    "try:\n",
    "    file = open(\"example.txt\", \"w\")\n",
    "    file.write(\"Hello, World!\")\n",
    "except IOError:\n",
    "    print(\"An error occurred while writing to the file.\")\n",
    "else:\n",
    "    print(\"File written successfully.\")\n",
    "finally:\n",
    "    file.close()\n",
    "    print(\"File has been closed.\")"
   ]
  },
  {
   "cell_type": "markdown",
   "metadata": {},
   "source": [
    "The `finally` clause is always executed, regardless of whether an exception occurred or not. It's useful for cleanup operations."
   ]
  },
  {
   "cell_type": "markdown",
   "metadata": {},
   "source": [
    "## 4. Raising Exceptions"
   ]
  },
  {
   "cell_type": "markdown",
   "metadata": {},
   "source": [
    "### Using the raise Statement"
   ]
  },
  {
   "cell_type": "code",
   "execution_count": null,
   "metadata": {},
   "outputs": [],
   "source": [
    "def divide(a, b):\n",
    "    if b == 0:\n",
    "        raise ValueError(\"Cannot divide by zero\")\n",
    "    return a / b\n",
    "\n",
    "try:\n",
    "    result = divide(10, 0)\n",
    "except ValueError as e:\n",
    "    print(f\"Error: {e}\")"
   ]
  },
  {
   "cell_type": "markdown",
   "metadata": {},
   "source": [
    "Explanation: The `raise` statement is used to manually trigger an exception. In this example, we raise a `ValueError` when attempting to divide by zero."
   ]
  },
  {
   "cell_type": "markdown",
   "metadata": {},
   "source": [
    "### Raising Specific Exceptions"
   ]
  },
  {
   "cell_type": "code",
   "execution_count": null,
   "metadata": {},
   "outputs": [],
   "source": [
    "def process_age(age):\n",
    "    if not isinstance(age, int):\n",
    "        raise TypeError(\"Age must be an integer\")\n",
    "    if age < 0:\n",
    "        raise ValueError(\"Age cannot be negative\")\n",
    "    print(f\"Processing age: {age}\")\n",
    "\n",
    "try:\n",
    "    process_age(\"twenty\")\n",
    "except (TypeError, ValueError) as e:\n",
    "    print(f\"Error: {e}\")"
   ]
  },
  {
   "cell_type": "markdown",
   "metadata": {},
   "source": [
    "Explanation: Here we raise specific exceptions (`TypeError` and `ValueError`) based on different conditions. This allows for more precise error handling."
   ]
  },
  {
   "cell_type": "markdown",
   "metadata": {},
   "source": [
    "### Custom Error Messages"
   ]
  },
  {
   "cell_type": "code",
   "execution_count": null,
   "metadata": {},
   "outputs": [],
   "source": [
    "def validate_username(username):\n",
    "    if len(username) < 3:\n",
    "        raise ValueError(f\"Username '{username}' is too short. Minimum length is 3 characters.\")\n",
    "    if not username.isalnum():\n",
    "        raise ValueError(f\"Username '{username}' contains invalid characters. Use only letters and numbers.\")\n",
    "\n",
    "try:\n",
    "    validate_username(\"a@\")\n",
    "except ValueError as e:\n",
    "    print(f\"Validation error: {e}\")"
   ]
  },
  {
   "cell_type": "markdown",
   "metadata": {},
   "source": [
    "Explanation: Custom error messages provide more context about why an exception was raised, making debugging easier."
   ]
  },
  {
   "cell_type": "markdown",
   "metadata": {},
   "source": [
    "## 5. Custom Exceptions\n",
    "\n",
    "### Defining Custom Exceptions"
   ]
  },
  {
   "cell_type": "code",
   "execution_count": null,
   "metadata": {},
   "outputs": [],
   "source": [
    "class InsufficientFundsError(Exception):\n",
    "    pass\n",
    "\n",
    "class BankAccount:\n",
    "    def __init__(self, balance):\n",
    "        self.balance = balance\n",
    "    \n",
    "    def withdraw(self, amount):\n",
    "        if amount > self.balance:\n",
    "            raise InsufficientFundsError(\"Not enough funds to complete the withdrawal\")\n",
    "        self.balance -= amount\n",
    "\n",
    "account = BankAccount(100)\n",
    "try:\n",
    "    account.withdraw(150)\n",
    "except InsufficientFundsError as e:\n",
    "    print(f\"Transaction failed: {e}\")"
   ]
  },
  {
   "cell_type": "markdown",
   "metadata": {},
   "source": [
    "Explanation: Custom exceptions are created by subclassing `Exception`. They allow for more specific error types in your code."
   ]
  },
  {
   "cell_type": "markdown",
   "metadata": {},
   "source": [
    "### Raising Custom Exceptions"
   ]
  },
  {
   "cell_type": "code",
   "execution_count": null,
   "metadata": {},
   "outputs": [],
   "source": [
    "class NegativeValueError(ValueError):\n",
    "    pass\n",
    "\n",
    "def calculate_square_root(number):\n",
    "    if number < 0:\n",
    "        raise NegativeValueError(\"Cannot calculate square root of a negative number\")\n",
    "    return number ** 0.5\n",
    "\n",
    "try:\n",
    "    result = calculate_square_root(-4)\n",
    "except NegativeValueError as e:\n",
    "    print(f\"Error: {e}\")"
   ]
  },
  {
   "cell_type": "markdown",
   "metadata": {},
   "source": [
    "Explanation: Custom exceptions can be raised just like built-in exceptions, allowing for more specific error handling."
   ]
  },
  {
   "cell_type": "markdown",
   "metadata": {},
   "source": [
    "### Adding Attributes to Custom Exceptions"
   ]
  },
  {
   "cell_type": "code",
   "execution_count": null,
   "metadata": {},
   "outputs": [],
   "source": [
    "class InsufficientFundsError(Exception):\n",
    "    def __init__(self, balance, amount):\n",
    "        self.balance = balance\n",
    "        self.amount = amount\n",
    "        super().__init__(f\"Insufficient funds: balance is {balance}, but {amount} was requested\")\n",
    "\n",
    "def withdraw(balance, amount):\n",
    "    if amount > balance:\n",
    "        raise InsufficientFundsError(balance, amount)\n",
    "    return balance - amount\n",
    "\n",
    "try:\n",
    "    new_balance = withdraw(50, 100)\n",
    "except InsufficientFundsError as e:\n",
    "    print(f\"Error: {e}\")\n",
    "    print(f\"Current balance: {e.balance}\")\n",
    "    print(f\"Requested amount: {e.amount}\")"
   ]
  },
  {
   "cell_type": "markdown",
   "metadata": {},
   "source": [
    "Explanation: Adding attributes to custom exceptions allows you to pass additional information about the error, which can be useful for debugging or error reporting."
   ]
  },
  {
   "cell_type": "markdown",
   "metadata": {},
   "source": [
    "## 6. Exception Chaining\n",
    "\n",
    "### Using from in Exception Handling"
   ]
  },
  {
   "cell_type": "code",
   "execution_count": null,
   "metadata": {},
   "outputs": [],
   "source": [
    "def fetch_data():\n",
    "    raise ConnectionError(\"Unable to connect to the server\")\n",
    "\n",
    "def process_data():\n",
    "    try:\n",
    "        fetch_data()\n",
    "    except ConnectionError as e:\n",
    "        raise RuntimeError(\"Data processing failed\") from e\n",
    "\n",
    "try:\n",
    "    process_data()\n",
    "except RuntimeError as e:\n",
    "    print(f\"Error: {e}\")\n",
    "    print(f\"Original error: {e.__cause__}\")"
   ]
  },
  {
   "cell_type": "markdown",
   "metadata": {},
   "source": [
    "Explanation: The `from` keyword in exception handling allows you to chain exceptions, preserving the original cause of the error."
   ]
  },
  {
   "cell_type": "markdown",
   "metadata": {},
   "source": [
    "### Handling Multiple Exceptions"
   ]
  },
  {
   "cell_type": "code",
   "execution_count": null,
   "metadata": {},
   "outputs": [],
   "source": [
    "import json\n",
    "\n",
    "def load_json_data(filename):\n",
    "    try:\n",
    "        with open(filename, 'r') as file:\n",
    "            return json.load(file)\n",
    "    except FileNotFoundError as e:\n",
    "        raise ValueError(f\"Configuration file '{filename}' not found\") from e\n",
    "    except json.JSONDecodeError as e:\n",
    "        raise ValueError(f\"Invalid JSON in configuration file '{filename}'\") from e\n",
    "\n",
    "try:\n",
    "    config = load_json_data(\"config.json\")\n",
    "except ValueError as e:\n",
    "    print(f\"Configuration error: {e}\")\n",
    "    if e.__cause__:\n",
    "        print(f\"Caused by: {e.__cause__}\")"
   ]
  },
  {
   "cell_type": "markdown",
   "metadata": {},
   "source": [
    "Explanation: Exception chaining is particularly useful when you want to catch and re-raise exceptions with additional context, while still preserving the original error information."
   ]
  },
  {
   "cell_type": "markdown",
   "metadata": {},
   "source": [
    "## 7. Assertions\n",
    "\n",
    "### Using the assert Statement"
   ]
  },
  {
   "cell_type": "code",
   "execution_count": null,
   "metadata": {},
   "outputs": [],
   "source": [
    "def calculate_average(numbers):\n",
    "    assert len(numbers) > 0, \"Cannot calculate average of an empty list\"\n",
    "    return sum(numbers) / len(numbers)\n",
    "\n",
    "try:\n",
    "    avg = calculate_average([])\n",
    "except AssertionError as e:\n",
    "    print(f\"Error: {e}\")"
   ]
  },
  {
   "cell_type": "markdown",
   "metadata": {},
   "source": [
    "Explanation: Assertions are used to check for conditions that should never occur. They're primarily used for debugging and testing."
   ]
  },
  {
   "cell_type": "markdown",
   "metadata": {},
   "source": [
    "### Assertions vs. Exceptions"
   ]
  },
  {
   "cell_type": "code",
   "execution_count": null,
   "metadata": {},
   "outputs": [],
   "source": [
    "def divide(a, b):\n",
    "    # Use an assertion for a programming error\n",
    "    assert isinstance(a, (int, float)) and isinstance(b, (int, float)), \"Both arguments must be numbers\"\n",
    "    \n",
    "    # Use an exception for a runtime error\n",
    "    if b == 0:\n",
    "        raise ValueError(\"Cannot divide by zero\")\n",
    "    \n",
    "    return a / b\n",
    "\n",
    "try:\n",
    "    result = divide(10, \"2\")\n",
    "except AssertionError as e:\n",
    "    print(f\"Developer error: {e}\")\n",
    "except ValueError as e:\n",
    "    print(f\"Runtime error: {e}\")"
   ]
  },
  {
   "cell_type": "markdown",
   "metadata": {},
   "source": [
    "Explanation: Assertions are used to catch programming errors (bugs), while exceptions handle runtime errors. Assertions should not be used for error handling in production code."
   ]
  },
  {
   "cell_type": "markdown",
   "metadata": {},
   "source": [
    "### Disabling Assertions\n",
    "\n",
    "Assertions can be disabled by running Python with the -O (optimize) flag:\n",
    "\n",
    "```bash\n",
    "python -O your_script.py\n",
    "```\n",
    "\n",
    "When assertions are disabled, `assert` statements are ignored, which can improve performance slightly but removes the safety checks."
   ]
  },
  {
   "cell_type": "markdown",
   "metadata": {},
   "source": [
    "## 8. Best Practices in Exception Handling\n",
    "\n",
    "### Graceful Error Handling"
   ]
  },
  {
   "cell_type": "code",
   "execution_count": null,
   "metadata": {},
   "outputs": [],
   "source": [
    "def divide_numbers(a, b):\n",
    "    try:\n",
    "        result = a / b\n",
    "    except ZeroDivisionError:\n",
    "        print(\"Error: Cannot divide by zero. Please provide a non-zero divisor.\")\n",
    "        return None\n",
    "    except TypeError:\n",
    "        print(\"Error: Invalid input types. Please provide numeric values.\")\n",
    "        return None\n",
    "    else:\n",
    "        return result\n",
    "\n",
    "print(divide_numbers(10, 2))  # Output: 5.0\n",
    "print(divide_numbers(10, 0))  # Output: Error message\n",
    "print(divide_numbers(10, \"2\"))  # Output: Error message"
   ]
  },
  {
   "cell_type": "markdown",
   "metadata": {},
   "source": [
    "Explanation: This function demonstrates graceful error handling by catching specific exceptions and providing informative error messages. It handles different error scenarios without crashing the program."
   ]
  },
  {
   "cell_type": "markdown",
   "metadata": {},
   "source": [
    "### Avoiding Bare except Clauses"
   ]
  },
  {
   "cell_type": "code",
   "execution_count": null,
   "metadata": {},
   "outputs": [],
   "source": [
    "# Bad practice\n",
    "def bad_exception_handling():\n",
    "    try:\n",
    "        # Some risky operation\n",
    "        result = 10 / 0\n",
    "    except:\n",
    "        print(\"An error occurred\")\n",
    "\n",
    "# Good practice\n",
    "def good_exception_handling():\n",
    "    try:\n",
    "        # Some risky operation\n",
    "        result = 10 / 0\n",
    "    except ZeroDivisionError:\n",
    "        print(\"Error: Division by zero\")\n",
    "    except Exception as e:\n",
    "        print(f\"An unexpected error occurred: {e}\")\n",
    "\n",
    "bad_exception_handling()\n",
    "good_exception_handling()"
   ]
  },
  {
   "cell_type": "markdown",
   "metadata": {},
   "source": [
    "Explanation: Bare `except` clauses catch all exceptions, including system exits and keyboard interrupts. This can mask bugs and make debugging difficult. It's better to catch specific exceptions or use `Exception` as a catch-all."
   ]
  },
  {
   "cell_type": "markdown",
   "metadata": {},
   "source": [
    "### Logging Exceptions"
   ]
  },
  {
   "cell_type": "code",
   "execution_count": null,
   "metadata": {},
   "outputs": [],
   "source": [
    "import logging\n",
    "\n",
    "logging.basicConfig(level=logging.ERROR, format='%(asctime)s - %(levelname)s - %(message)s')\n",
    "\n",
    "def divide(a, b):\n",
    "    try:\n",
    "        result = a / b\n",
    "    except ZeroDivisionError:\n",
    "        logging.error(\"Division by zero attempted\", exc_info=True)\n",
    "        return None\n",
    "    return result\n",
    "\n",
    "divide(10, 0)"
   ]
  },
  {
   "cell_type": "markdown",
   "metadata": {},
   "source": [
    "Explanation: Using the `logging` module provides more control over error reporting. It allows for timestamps, log levels, and can be easily configured to write to files or other outputs."
   ]
  },
  {
   "cell_type": "markdown",
   "metadata": {},
   "source": [
    "### Failing Fast and Loud"
   ]
  },
  {
   "cell_type": "code",
   "execution_count": null,
   "metadata": {},
   "outputs": [],
   "source": [
    "def process_data(data):\n",
    "    if not isinstance(data, list):\n",
    "        raise TypeError(\"Input must be a list\")\n",
    "    if not data:\n",
    "        raise ValueError(\"Input list cannot be empty\")\n",
    "    \n",
    "    return [item * 2 for item in data]\n",
    "\n",
    "try:\n",
    "    result = process_data([])\n",
    "except (TypeError, ValueError) as e:\n",
    "    print(f\"Error: {e}\")\n",
    "\n",
    "try:\n",
    "    result = process_data(\"not a list\")\n",
    "except (TypeError, ValueError) as e:\n",
    "    print(f\"Error: {e}\")"
   ]
  },
  {
   "cell_type": "markdown",
   "metadata": {},
   "source": [
    "Explanation: 'Fail fast' means detecting and reporting errors as soon as they occur. This function checks for invalid inputs immediately and raises specific exceptions, making it easier to identify and fix issues."
   ]
  },
  {
   "cell_type": "markdown",
   "metadata": {},
   "source": [
    "### Using Exceptions for Flow Control"
   ]
  },
  {
   "cell_type": "code",
   "execution_count": null,
   "metadata": {},
   "outputs": [],
   "source": [
    "def find_index(item, sequence):\n",
    "    try:\n",
    "        return sequence.index(item)\n",
    "    except ValueError:\n",
    "        return -1\n",
    "\n",
    "my_list = [1, 2, 3, 4, 5]\n",
    "print(find_index(3, my_list))  # Output: 2\n",
    "print(find_index(6, my_list))  # Output: -1"
   ]
  },
  {
   "cell_type": "markdown",
   "metadata": {},
   "source": [
    "Explanation: While generally discouraged, using exceptions for flow control can sometimes lead to cleaner code. Here, we use a `try-except` block to handle the case where an item is not found in the sequence."
   ]
  },
  {
   "cell_type": "markdown",
   "metadata": {},
   "source": [
    "## 14. Performance Considerations in Exception Handling\n",
    "\n",
    "### Cost of Exception Handling"
   ]
  },
  {
   "cell_type": "code",
   "execution_count": null,
   "metadata": {},
   "outputs": [],
   "source": [
    "import time\n",
    "\n",
    "def with_exception_handling(iterations):\n",
    "    for i in range(iterations):\n",
    "        try:\n",
    "            1 / (i % 2)\n",
    "        except ZeroDivisionError:\n",
    "            pass\n",
    "\n",
    "def without_exception_handling(iterations):\n",
    "    for i in range(iterations):\n",
    "        if i % 2 != 0:\n",
    "            1 / (i % 2)\n",
    "\n",
    "iterations = 1000000\n",
    "\n",
    "start = time.time()\n",
    "with_exception_handling(iterations)\n",
    "end = time.time()\n",
    "print(f\"With exception handling: {end - start:.4f} seconds\")\n",
    "\n",
    "start = time.time()\n",
    "without_exception_handling(iterations)\n",
    "end = time.time()\n",
    "print(f\"Without exception handling: {end - start:.4f} seconds\")"
   ]
  },
  {
   "cell_type": "markdown",
   "metadata": {},
   "source": [
    "Explanation: This example demonstrates the performance cost of exception handling. The version with exception handling is typically slower because raising and catching exceptions is more expensive than regular control flow."
   ]
  },
  {
   "cell_type": "markdown",
   "metadata": {},
   "source": [
    "### Optimizing Exception Handling"
   ]
  },
  {
   "cell_type": "code",
   "execution_count": null,
   "metadata": {},
   "outputs": [],
   "source": [
    "def get_item_optimized(dict_obj, key, default=None):\n",
    "    if key in dict_obj:\n",
    "        return dict_obj[key]\n",
    "    return default\n",
    "\n",
    "def get_item_with_exception(dict_obj, key, default=None):\n",
    "    try:\n",
    "        return dict_obj[key]\n",
    "    except KeyError:\n",
    "        return default\n",
    "\n",
    "my_dict = {str(i): i for i in range(1000)}\n",
    "\n",
    "# Measure performance\n",
    "import timeit\n",
    "\n",
    "optimized_time = timeit.timeit(lambda: get_item_optimized(my_dict, \"500\"), number=100000)\n",
    "exception_time = timeit.timeit(lambda: get_item_with_exception(my_dict, \"500\"), number=100000)\n",
    "\n",
    "print(f\"Optimized approach: {optimized_time:.6f} seconds\")\n",
    "print(f\"Exception-based approach: {exception_time:.6f} seconds\")"
   ]
  }
 ],
 "metadata": {
  "kernelspec": {
   "display_name": "Python 3",
   "language": "python",
   "name": "python3"
  },
  "language_info": {
   "codemirror_mode": {
    "name": "ipython",
    "version": 3
   },
   "file_extension": ".py",
   "mimetype": "text/x-python",
   "name": "python",
   "nbconvert_exporter": "python",
   "pygments_lexer": "ipython3",
   "version": "3.8.5"
  }
 },
 "nbformat": 4,
 "nbformat_minor": 4
}
