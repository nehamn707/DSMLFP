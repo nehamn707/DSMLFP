{
 "cells": [
  {
   "cell_type": "markdown",
   "metadata": {},
   "source": [
    "# File Handling in Python\n",
    "\n",
    "This notebook covers various aspects of file handling in Python, including opening, reading, writing, and manipulating files. It's designed for beginners who want to become proficient in these topics.\n",
    "\n",
    "## 1. Introduction to File Handling\n",
    "\n",
    "In Python, we can work with two main types of files:\n",
    "1. Text files: Contain human-readable characters\n",
    "2. Binary files: Contain raw data (e.g., images, audio files)\n",
    "\n",
    "Let's start with some basic examples."
   ]
  },
  {
   "cell_type": "code",
   "execution_count": null,
   "metadata": {},
   "outputs": [],
   "source": [
    "# Example: Creating and writing to a text file\n",
    "with open('example.txt', 'w') as file:\n",
    "    file.write(\"This is a text file.\")\n",
    "\n",
    "# Example: Reading from a text file\n",
    "with open('example.txt', 'r') as file:\n",
    "    content = file.read()\n",
    "    print(content)\n",
    "\n",
    "# Example: Working with a binary file (image)\n",
    "with open('image.jpg', 'rb') as file:\n",
    "    image_data = file.read()\n",
    "    print(f\"Image size: {len(image_data)} bytes\")"
   ]
  },
  {
   "cell_type": "markdown",
   "metadata": {},
   "source": [
    "In the examples above, we created a text file, wrote to it, and then read its contents. We also demonstrated how to read a binary file (in this case, an image).\n",
    "\n",
    "## 2. Opening and Closing Files\n",
    "\n",
    "The `open()` function is used to open files in Python. It takes two main arguments: the file name and the mode."
   ]
  },
  {
   "cell_type": "code",
   "execution_count": null,
   "metadata": {},
   "outputs": [],
   "source": [
    "# Example: Opening a file in read mode\n",
    "file = open('example.txt', 'r')\n",
    "content = file.read()\n",
    "print(content)\n",
    "file.close()\n",
    "\n",
    "# Example: Opening a file in write mode\n",
    "file = open('new_file.txt', 'w')\n",
    "file.write(\"This is a new file.\")\n",
    "file.close()\n",
    "\n",
    "# Example: Opening a file in append mode\n",
    "file = open('example.txt', 'a')\n",
    "file.write(\"\\nThis line is appended.\")\n",
    "file.close()"
   ]
  },
  {
   "cell_type": "markdown",
   "metadata": {},
   "source": [
    "It's important to always close files after you're done with them. The `close()` method ensures that all changes are saved and resources are released.\n",
    "\n",
    "## 3. Reading Files\n",
    "\n",
    "Python offers several methods to read file contents:"
   ]
  },
  {
   "cell_type": "code",
   "execution_count": null,
   "metadata": {},
   "outputs": [],
   "source": [
    "# Example: Reading entire file at once\n",
    "with open('example.txt', 'r') as file:\n",
    "    content = file.read()\n",
    "    print(content)\n",
    "\n",
    "# Example: Reading line by line\n",
    "with open('example.txt', 'r') as file:\n",
    "    line = file.readline()\n",
    "    while line:\n",
    "        print(line, end='')\n",
    "        line = file.readline()\n",
    "\n",
    "# Example: Reading all lines into a list\n",
    "with open('example.txt', 'r') as file:\n",
    "    lines = file.readlines()\n",
    "    for line in lines:\n",
    "        print(line, end='')"
   ]
  },
  {
   "cell_type": "markdown",
   "metadata": {},
   "source": [
    "For large files, it's often more efficient to read the file in chunks:"
   ]
  },
  {
   "cell_type": "code",
   "execution_count": null,
   "metadata": {},
   "outputs": [],
   "source": [
    "# Example: Reading a large file in chunks\n",
    "chunk_size = 1024  # 1 KB\n",
    "with open('large_file.txt', 'r') as file:\n",
    "    while True:\n",
    "        chunk = file.read(chunk_size)\n",
    "        if not chunk:\n",
    "            break\n",
    "        print(chunk, end='')"
   ]
  },
  {
   "cell_type": "markdown",
   "metadata": {},
   "source": [
    "## 4. Writing to Files\n",
    "\n",
    "Writing to files is straightforward in Python:"
   ]
  },
  {
   "cell_type": "code",
   "execution_count": null,
   "metadata": {},
   "outputs": [],
   "source": [
    "# Example: Writing to a file\n",
    "with open('output.txt', 'w') as file:\n",
    "    file.write(\"This is the first line.\\n\")\n",
    "    file.write(\"This is the second line.\\n\")\n",
    "\n",
    "# Example: Writing multiple lines at once\n",
    "lines = [\"Line 1\\n\", \"Line 2\\n\", \"Line 3\\n\"]\n",
    "with open('output.txt', 'w') as file:\n",
    "    file.writelines(lines)\n",
    "\n",
    "# Example: Appending to a file\n",
    "with open('output.txt', 'a') as file:\n",
    "    file.write(\"This line is appended.\\n\")"
   ]
  },
  {
   "cell_type": "markdown",
   "metadata": {},
   "source": [
    "Note the difference between 'w' (write) and 'a' (append) modes. 'w' overwrites the entire file, while 'a' adds to the end of the file.\n",
    "\n",
    "## 5. File Handling with Context Managers\n",
    "\n",
    "Using the `with` statement (context manager) is the recommended way to handle files in Python:"
   ]
  },
  {
   "cell_type": "code",
   "execution_count": null,
   "metadata": {},
   "outputs": [],
   "source": [
    "# Example: Using a context manager for file handling\n",
    "with open('example.txt', 'r') as file:\n",
    "    content = file.read()\n",
    "    print(content)\n",
    "\n",
    "# The file is automatically closed after this block"
   ]
  },
  {
   "cell_type": "markdown",
   "metadata": {},
   "source": [
    "The `with` statement ensures that the file is properly closed, even if an exception occurs.\n",
    "\n",
    "## 6. File Positioning\n",
    "\n",
    "Python provides methods to manipulate the file pointer:"
   ]
  },
  {
   "cell_type": "code",
   "execution_count": null,
   "metadata": {},
   "outputs": [],
   "source": [
    "# Example: Using seek() and tell()\n",
    "with open('example.txt', 'r') as file:\n",
    "    print(f\"Current position: {file.tell()}\")\n",
    "    \n",
    "    file.seek(10)  # Move to the 10th byte\n",
    "    print(f\"New position: {file.tell()}\")\n",
    "    \n",
    "    content = file.read(5)  # Read 5 characters from current position\n",
    "    print(f\"Read content: {content}\")\n",
    "    \n",
    "    print(f\"Final position: {file.tell()}\")"
   ]
  },
  {
   "cell_type": "markdown",
   "metadata": {},
   "source": [
    "## 7. Working with Binary Files\n",
    "\n",
    "Binary files contain raw data and are typically used for non-text files like images, audio, or video."
   ]
  },
  {
   "cell_type": "code",
   "execution_count": null,
   "metadata": {},
   "outputs": [],
   "source": [
    "# Example: Reading a binary file\n",
    "with open('image.jpg', 'rb') as file:\n",
    "    binary_data = file.read()\n",
    "    print(f\"File size: {len(binary_data)} bytes\")\n",
    "    print(f\"First 10 bytes: {binary_data[:10]}\")"
   ]
  },
  {
   "cell_type": "code",
   "execution_count": null,
   "metadata": {},
   "outputs": [],
   "source": [
    "# Example: Writing a binary file\n",
    "data = bytes([0, 1, 2, 3, 4, 5])\n",
    "with open('binary_file.bin', 'wb') as file:\n",
    "    file.write(data)\n",
    "print(\"Binary file created successfully.\")"
   ]
  },
  {
   "cell_type": "markdown",
   "metadata": {},
   "source": [
    "## 8. File and Directory Operations\n",
    "\n",
    "Python provides various modules for file and directory operations, including `os`, `pathlib`, and `shutil`."
   ]
  },
  {
   "cell_type": "code",
   "execution_count": null,
   "metadata": {},
   "outputs": [],
   "source": [
    "import os\n",
    "from pathlib import Path\n",
    "\n",
    "# Example: Checking if a file exists\n",
    "file_path = 'example.txt'\n",
    "print(f\"Using os.path: {os.path.isfile(file_path)}\")\n",
    "print(f\"Using pathlib: {Path(file_path).exists()}\")"
   ]
  },
  {
   "cell_type": "code",
   "execution_count": null,
   "metadata": {},
   "outputs": [],
   "source": [
    "# Example: Renaming and deleting files\n",
    "os.rename('old_name.txt', 'new_name.txt')\n",
    "print(\"File renamed.\")\n",
    "\n",
    "os.remove('file_to_delete.txt')\n",
    "print(\"File deleted.\")"
   ]
  },
  {
   "cell_type": "code",
   "execution_count": null,
   "metadata": {},
   "outputs": [],
   "source": [
    "import shutil\n",
    "\n",
    "# Example: Creating and deleting directories\n",
    "os.mkdir('new_directory')\n",
    "print(\"Single directory created.\")\n",
    "\n",
    "os.makedirs('parent/child/grandchild')\n",
    "print(\"Nested directories created.\")\n",
    "\n",
    "os.rmdir('new_directory')\n",
    "print(\"Empty directory removed.\")\n",
    "\n",
    "shutil.rmtree('parent')\n",
    "print(\"Directory and all its contents removed.\")"
   ]
  },
  {
   "cell_type": "code",
   "execution_count": null,
   "metadata": {},
   "outputs": [],
   "source": [
    "import glob\n",
    "\n",
    "# Example: Listing files in a directory\n",
    "print(\"Using os.listdir():\")\n",
    "print(os.listdir('.'))\n",
    "\n",
    "print(\"\\nUsing glob.glob():\")\n",
    "print(glob.glob('*.txt'))  # List all .txt files in the current directory"
   ]
  },
  {
   "cell_type": "markdown",
   "metadata": {},
   "source": [
    "## 9. Handling File Exceptions\n",
    "\n",
    "When working with files, it's important to handle exceptions to prevent crashes and provide informative error messages."
   ]
  },
  {
   "cell_type": "code",
   "execution_count": null,
   "metadata": {},
   "outputs": [],
   "source": [
    "# Example: Handling common file-related exceptions\n",
    "try:\n",
    "    with open('nonexistent_file.txt', 'r') as file:\n",
    "        content = file.read()\n",
    "except FileNotFoundError:\n",
    "    print(\"Error: The file does not exist.\")\n",
    "except PermissionError:\n",
    "    print(\"Error: You don't have permission to access this file.\")\n",
    "except IOError as e:\n",
    "    print(f\"An I/O error occurred: {e}\")"
   ]
  },
  {
   "cell_type": "code",
   "execution_count": null,
   "metadata": {},
   "outputs": [],
   "source": [
    "# Example: Safely handling file operations\n",
    "def safe_read_file(filename):\n",
    "    try:\n",
    "        with open(filename, 'r') as file:\n",
    "            return file.read()\n",
    "    except FileNotFoundError:\n",
    "        print(f\"Error: The file '{filename}' does not exist.\")\n",
    "    except Exception as e:\n",
    "        print(f\"An error occurred: {e}\")\n",
    "    return None\n",
    "\n",
    "content = safe_read_file('example.txt')\n",
    "if content:\n",
    "    print(\"File contents:\", content)"
   ]
  },
  {
   "cell_type": "markdown",
   "metadata": {},
   "source": [
    "## 10. File Handling with CSV Files\n",
    "\n",
    "CSV (Comma-Separated Values) is a common format for storing tabular data. Python's `csv` module provides convenient ways to read and write CSV files."
   ]
  },
  {
   "cell_type": "code",
   "execution_count": null,
   "metadata": {},
   "outputs": [],
   "source": [
    "import csv\n",
    "\n",
    "# Example: Reading a CSV file\n",
    "with open('data.csv', 'r') as file:\n",
    "    csv_reader = csv.reader(file)\n",
    "    for row in csv_reader:\n",
    "        print(row)"
   ]
  },
  {
   "cell_type": "code",
   "execution_count": null,
   "metadata": {},
   "outputs": [],
   "source": [
    "# Example: Writing a CSV file\n",
    "data = [\n",
    "    ['Name', 'Age', 'City'],\n",
    "    ['Alice', '30', 'New York'],\n",
    "    ['Bob', '25', 'Los Angeles']\n",
    "]\n",
    "\n",
    "with open('output.csv', 'w', newline='') as file:\n",
    "    csv_writer = csv.writer(file)\n",
    "    csv_writer.writerows(data)\n",
    "\n",
    "print(\"CSV file created successfully.\")"
   ]
  },
  {
   "cell_type": "code",
   "execution_count": null,
   "metadata": {},
   "outputs": [],
   "source": [
    "# Example: Using DictReader and DictWriter\n",
    "with open('data.csv', 'r') as file:\n",
    "    csv_reader = csv.DictReader(file)\n",
    "    for row in csv_reader:\n",
    "        print(row)  # Each row is a dictionary\n",
    "\n",
    "data = [\n",
    "    {'Name': 'Charlie', 'Age': '35', 'City': 'Chicago'},\n",
    "    {'Name': 'David', 'Age': '28', 'City': 'Houston'}\n",
    "]\n",
    "\n",
    "with open('output_dict.csv', 'w', newline='') as file:\n",
    "    fieldnames = ['Name', 'Age', 'City']\n",
    "    csv_writer = csv.DictWriter(file, fieldnames=fieldnames)\n",
    "    \n",
    "    csv_writer.writeheader()\n",
    "    csv_writer.writerows(data)\n",
    "\n",
    "print(\"CSV file created using DictWriter.\")"
   ]
  },
  {
   "cell_type": "markdown",
   "metadata": {},
   "source": [
    "This concludes our introduction to file handling in Python. Practice these concepts to become proficient in working with files!"
   ]
  },
  {
   "cell_type": "markdown",
   "metadata": {},
   "source": [
    "## 11. File Handling with JSON Files\n",
    "\n",
    "JSON (JavaScript Object Notation) is a popular data format used for storing and exchanging data. Python's `json` module provides convenient ways to work with JSON data."
   ]
  },
  {
   "cell_type": "code",
   "execution_count": null,
   "metadata": {},
   "outputs": [],
   "source": [
    "import json\n",
    "\n",
    "# Example: Reading a JSON file\n",
    "with open('data.json', 'r') as file:\n",
    "    data = json.load(file)\n",
    "print(\"Data from JSON file:\", data)\n",
    "\n",
    "# Example: Reading JSON from a string\n",
    "json_string = '{\"name\": \"Alice\", \"age\": 30}'\n",
    "data = json.loads(json_string)\n",
    "print(\"Data from JSON string:\", data)"
   ]
  },
  {
   "cell_type": "code",
   "execution_count": null,
   "metadata": {},
   "outputs": [],
   "source": [
    "# Example: Writing a JSON file\n",
    "data = {\"name\": \"Bob\", \"age\": 25, \"city\": \"New York\"}\n",
    "with open('output.json', 'w') as file:\n",
    "    json.dump(data, file, indent=4)\n",
    "print(\"JSON file created successfully.\")\n",
    "\n",
    "# Example: Converting Python object to JSON string\n",
    "json_string = json.dumps(data, indent=4)\n",
    "print(\"JSON string:\", json_string)"
   ]
  },
  {
   "cell_type": "code",
   "execution_count": null,
   "metadata": {},
   "outputs": [],
   "source": [
    "# Example: Parsing and manipulating JSON data\n",
    "json_data = '{\"employees\": [{\"name\": \"Alice\", \"age\": 30}, {\"name\": \"Bob\", \"age\": 25}]}'\n",
    "data = json.loads(json_data)\n",
    "\n",
    "# Accessing and modifying data\n",
    "print(\"First employee:\", data['employees'][0]['name'])\n",
    "data['employees'].append({\"name\": \"Charlie\", \"age\": 35})\n",
    "\n",
    "# Converting back to JSON\n",
    "updated_json = json.dumps(data, indent=4)\n",
    "print(\"Updated JSON:\")\n",
    "print(updated_json)"
   ]
  },
  {
   "cell_type": "markdown",
   "metadata": {},
   "source": [
    "## 14. File Handling with Other Formats\n",
    "\n",
    "### Handling Zip Files\n",
    "\n",
    "The `zipfile` module allows you to create, read, write, and extract zip files."
   ]
  },
  {
   "cell_type": "code",
   "execution_count": null,
   "metadata": {},
   "outputs": [],
   "source": [
    "import zipfile\n",
    "\n",
    "# Example: Creating a zip file\n",
    "with zipfile.ZipFile('archive.zip', 'w') as zipf:\n",
    "    zipf.write('file1.txt')\n",
    "    zipf.write('file2.txt')\n",
    "print(\"Zip file created.\")"
   ]
  },
  {
   "cell_type": "code",
   "execution_count": null,
   "metadata": {},
   "outputs": [],
   "source": [
    "# Example: Reading contents of a zip file\n",
    "with zipfile.ZipFile('archive.zip', 'r') as zipf:\n",
    "    print(\"Files in the zip archive:\")\n",
    "    print(zipf.namelist())\n",
    "\n",
    "    # Reading a specific file from the zip\n",
    "    with zipf.open('file1.txt') as file:\n",
    "        content = file.read()\n",
    "        print(\"Content of file1.txt:\", content.decode())"
   ]
  },
  {
   "cell_type": "code",
   "execution_count": null,
   "metadata": {},
   "outputs": [],
   "source": [
    "# Example: Extracting files from a zip archive\n",
    "with zipfile.ZipFile('archive.zip', 'r') as zipf:\n",
    "    zipf.extractall('extracted_files')\n",
    "print(\"Files extracted successfully.\")"
   ]
  },
  {
   "cell_type": "markdown",
   "metadata": {},
   "source": [
    "### Working with Pickle Files\n",
    "\n",
    "Pickle is a Python-specific format for serializing and deserializing Python objects."
   ]
  },
  {
   "cell_type": "code",
   "execution_count": null,
   "metadata": {},
   "outputs": [],
   "source": [
    "import pickle\n",
    "\n",
    "# Example: Saving data to a pickle file\n",
    "data = {\n",
    "    'name': 'Alice',\n",
    "    'age': 30,\n",
    "    'grades': [85, 90, 78]\n",
    "}\n",
    "\n",
    "with open('data.pickle', 'wb') as file:\n",
    "    pickle.dump(data, file)\n",
    "print(\"Data saved to pickle file.\")"
   ]
  },
  {
   "cell_type": "code",
   "execution_count": null,
   "metadata": {},
   "outputs": [],
   "source": [
    "# Example: Loading data from a pickle file\n",
    "with open('data.pickle', 'rb') as file:\n",
    "    loaded_data = pickle.load(file)\n",
    "\n",
    "print(\"Loaded data:\", loaded_data)\n",
    "print(\"Name:\", loaded_data['name'])\n",
    "print(\"Grades:\", loaded_data['grades'])"
   ]
  },
  {
   "cell_type": "markdown",
   "metadata": {},
   "source": [
    "## 19. Performance Considerations in File Handling\n",
    "\n",
    "When working with large files, it's important to consider performance. Reading or writing the entire file at once can consume a lot of memory. Instead, we can use chunked reading/writing."
   ]
  },
  {
   "cell_type": "code",
   "execution_count": null,
   "metadata": {},
   "outputs": [],
   "source": [
    "# Example: Efficient reading of a large file\n",
    "def read_in_chunks(file_object, chunk_size=1024):\n",
    "    while True:\n",
    "        data = file_object.read(chunk_size)\n",
    "        if not data:\n",
    "            break\n",
    "        yield data\n",
    "\n",
    "with open('large_file.txt', 'r') as file:\n",
    "    for chunk in read_in_chunks(file):\n",
    "        # Process the chunk\n",
    "        print(f\"Processing chunk of size {len(chunk)} bytes\")"
   ]
  },
  {
   "cell_type": "code",
   "execution_count": null,
   "metadata": {},
   "outputs": [],
   "source": [
    "# Example: Efficient writing to a large file\n",
    "def write_in_chunks(file_object, data, chunk_size=1024):\n",
    "    for i in range(0, len(data), chunk_size):\n",
    "        file_object.write(data[i:i+chunk_size])\n",
    "\n",
    "large_data = \"A\" * 1000000  # 1 million characters\n",
    "with open('large_output.txt', 'w') as file:\n",
    "    write_in_chunks(file, large_data)\n",
    "\n",
    "print(\"Large file written successfully.\")"
   ]
  },
  {
   "cell_type": "markdown",
   "metadata": {},
   "source": [
    "These examples demonstrate efficient ways to handle large files without loading the entire content into memory at once. This approach is particularly useful when working with files that are larger than the available RAM on your system.\n",
    "\n",
    "This concludes our advanced introduction to file handling in Python, covering JSON, zip files, pickle files, and performance considerations. Practice these concepts to become proficient in working with various file formats and handling large files efficiently!"
   ]
  }
 ],
 "metadata": {
  "kernelspec": {
   "display_name": "Python 3",
   "language": "python",
   "name": "python3"
  },
  "language_info": {
   "codemirror_mode": {
    "name": "ipython",
    "version": 3
   },
   "file_extension": ".py",
   "mimetype": "text/x-python",
   "name": "python",
   "nbconvert_exporter": "python",
   "pygments_lexer": "ipython3",
   "version": "3.8.8"
  }
 },
 "nbformat": 4,
 "nbformat_minor": 4
}
