{
  "cells": [
    {
      "cell_type": "markdown",
      "metadata": {
        "id": "YZ7qr1nQqA14"
      },
      "source": [
        "# **Strings in Python**"
      ]
    },
    {
      "cell_type": "markdown",
      "metadata": {
        "id": "FBHPibqcqijE"
      },
      "source": [
        "### **String declaration**"
      ]
    },
    {
      "cell_type": "code",
      "execution_count": 26,
      "metadata": {
        "colab": {
          "base_uri": "https://localhost:8080/"
        },
        "id": "iIaUl-eFqALE",
        "outputId": "b963e257-ffbb-4b47-9c0a-ebc4e487aa23"
      },
      "outputs": [
        {
          "name": "stdout",
          "output_type": "stream",
          "text": [
            "Hello\n"
          ]
        }
      ],
      "source": [
        "# String declaration using Single quotes\n",
        "string1 = 'Hello'\n",
        "print(string1)  # Output: Hello"
      ]
    },
    {
      "cell_type": "code",
      "execution_count": 29,
      "metadata": {
        "colab": {
          "base_uri": "https://localhost:8080/"
        },
        "id": "MSjxZkL2qO5E",
        "outputId": "1e18f764-ff36-4e0c-a71c-64471908f364"
      },
      "outputs": [
        {
          "name": "stdout",
          "output_type": "stream",
          "text": [
            "World\n"
          ]
        }
      ],
      "source": [
        "# String declaration using Double quotes\n",
        "string2 = \"World\"\n",
        "print(string2)  # Output: World"
      ]
    },
    {
      "cell_type": "code",
      "execution_count": 4,
      "metadata": {
        "colab": {
          "base_uri": "https://localhost:8080/"
        },
        "id": "LRCi3yfUqQCg",
        "outputId": "ac56d68d-874e-4346-b19e-416847d7c901"
      },
      "outputs": [
        {
          "name": "stdout",
          "output_type": "stream",
          "text": [
            "This is a \n",
            "multi-line \n",
            "string\n"
          ]
        }
      ],
      "source": [
        "# String declaration using Triple quotes (Multi-line)\n",
        "string3 = \"\"\"This is a\n",
        "multi-line\n",
        "string\"\"\"\n",
        "print(string3)"
      ]
    },
    {
      "cell_type": "markdown",
      "metadata": {
        "id": "rg4PLW7QqvXi"
      },
      "source": [
        "### **Immutability of Strings**"
      ]
    },
    {
      "cell_type": "code",
      "execution_count": 5,
      "metadata": {
        "colab": {
          "base_uri": "https://localhost:8080/",
          "height": 159
        },
        "id": "zVm-2ehzqVcn",
        "outputId": "7a30b9f3-ebb5-40be-b22d-5310a6f53bdf"
      },
      "outputs": [
        {
          "ename": "TypeError",
          "evalue": "'str' object does not support item assignment",
          "output_type": "error",
          "traceback": [
            "\u001b[0;31m---------------------------------------------------------------------------\u001b[0m",
            "\u001b[0;31mTypeError\u001b[0m                                 Traceback (most recent call last)",
            "\u001b[0;32m<ipython-input-5-6c62cc1b1f71>\u001b[0m in \u001b[0;36m<cell line: 2>\u001b[0;34m()\u001b[0m\n\u001b[1;32m      1\u001b[0m \u001b[0mstring1\u001b[0m \u001b[0;34m=\u001b[0m \u001b[0;34m'hello'\u001b[0m\u001b[0;34m\u001b[0m\u001b[0;34m\u001b[0m\u001b[0m\n\u001b[0;32m----> 2\u001b[0;31m \u001b[0mstring1\u001b[0m\u001b[0;34m[\u001b[0m\u001b[0;36m0\u001b[0m\u001b[0;34m]\u001b[0m \u001b[0;34m=\u001b[0m \u001b[0;34m'H'\u001b[0m\u001b[0;34m\u001b[0m\u001b[0;34m\u001b[0m\u001b[0m\n\u001b[0m",
            "\u001b[0;31mTypeError\u001b[0m: 'str' object does not support item assignment"
          ]
        }
      ],
      "source": [
        "string1 = 'hello'\n",
        "string1[0] = 'H'  # Raises TypeError: 'str' object does not support item assignment"
      ]
    },
    {
      "cell_type": "code",
      "execution_count": 53,
      "metadata": {
        "colab": {
          "base_uri": "https://localhost:8080/"
        },
        "id": "5dKf_cu203I8",
        "outputId": "7debc9a6-17de-4d17-b20b-91cb4c5b3609"
      },
      "outputs": [
        {
          "name": "stdout",
          "output_type": "stream",
          "text": [
            "hello\n"
          ]
        }
      ],
      "source": [
        "# The replace() method returns a new string with the replacement, but it does not modify the original string s.\n",
        "s = \"hello\"\n",
        "s.replace(\"h\", \"H\")\n",
        "print(s)"
      ]
    },
    {
      "cell_type": "code",
      "execution_count": 54,
      "metadata": {
        "colab": {
          "base_uri": "https://localhost:8080/"
        },
        "id": "uXT1KIOk0_QF",
        "outputId": "f9994af0-550a-4abb-9a47-37e18abb09b0"
      },
      "outputs": [
        {
          "name": "stdout",
          "output_type": "stream",
          "text": [
            "Hello\n"
          ]
        }
      ],
      "source": [
        "# The replace() method is called on the string s, which replaces all occurrences of the lowercase \"h\" with an uppercase \"H\".\n",
        "# This method returns a new string \"Hello\". The returned string \"Hello\" is then reassigned to the variable s.\n",
        "s = \"hello\"\n",
        "s = s.replace(\"h\", \"H\")\n",
        "print(s)"
      ]
    },
    {
      "cell_type": "markdown",
      "metadata": {
        "id": "uJGMmgKBrCIU"
      },
      "source": [
        "### **String Operations**"
      ]
    },
    {
      "cell_type": "markdown",
      "metadata": {
        "id": "TsT218mirFRl"
      },
      "source": [
        "### **Concatenation**"
      ]
    },
    {
      "cell_type": "code",
      "execution_count": 6,
      "metadata": {
        "colab": {
          "base_uri": "https://localhost:8080/"
        },
        "id": "uUzc5QKmq75f",
        "outputId": "2165b631-97d5-4a0d-b87a-621590f51604"
      },
      "outputs": [
        {
          "name": "stdout",
          "output_type": "stream",
          "text": [
            "Hello World\n"
          ]
        }
      ],
      "source": [
        "# Using +\n",
        "greeting = \"Hello\" + \" \" + \"World\"\n",
        "print(greeting)"
      ]
    },
    {
      "cell_type": "code",
      "execution_count": 7,
      "metadata": {
        "colab": {
          "base_uri": "https://localhost:8080/"
        },
        "id": "s7pbK1xVrPsd",
        "outputId": "f1681d26-010c-4147-8ff2-45f6d59885dc"
      },
      "outputs": [
        {
          "name": "stdout",
          "output_type": "stream",
          "text": [
            "Hello World from Python\n"
          ]
        }
      ],
      "source": [
        "# Using join (more efficient for multiple strings)\n",
        "words = [\"Hello\", \"World\", \"from\", \"Python\"]\n",
        "sentence = \" \".join(words)\n",
        "print(sentence)"
      ]
    },
    {
      "cell_type": "markdown",
      "metadata": {
        "id": "1zFEDpN5rWXZ"
      },
      "source": [
        "### **Repetition**"
      ]
    },
    {
      "cell_type": "code",
      "execution_count": 8,
      "metadata": {
        "colab": {
          "base_uri": "https://localhost:8080/"
        },
        "id": "F5O7bTYgrPpD",
        "outputId": "11ab7e76-6732-4b72-a43d-44b36bbf9075"
      },
      "outputs": [
        {
          "name": "stdout",
          "output_type": "stream",
          "text": [
            "HaHaHa\n"
          ]
        }
      ],
      "source": [
        "# Repeating a string multiple times using *\n",
        "repeated_string = \"Ha\" * 3\n",
        "print(repeated_string)"
      ]
    },
    {
      "cell_type": "code",
      "execution_count": 9,
      "metadata": {
        "colab": {
          "base_uri": "https://localhost:8080/"
        },
        "id": "xCQIOWNmrPnB",
        "outputId": "ff3a55fa-6eb6-4a00-9d00-72bb9ebbecd0"
      },
      "outputs": [
        {
          "name": "stdout",
          "output_type": "stream",
          "text": [
            "\n"
          ]
        }
      ],
      "source": [
        "# Multiplying by 0 returns an empty string\n",
        "empty_string = \"Hello\" * 0\n",
        "print(empty_string)  # Output: (empty string)"
      ]
    },
    {
      "cell_type": "markdown",
      "metadata": {
        "id": "y4wZQywerh99"
      },
      "source": [
        "### **Indexing**"
      ]
    },
    {
      "cell_type": "code",
      "execution_count": 13,
      "metadata": {
        "colab": {
          "base_uri": "https://localhost:8080/"
        },
        "id": "qc3NAW3srPk0",
        "outputId": "1e295bf3-3d45-4c74-f096-a67baf2e6c33"
      },
      "outputs": [
        {
          "name": "stdout",
          "output_type": "stream",
          "text": [
            "o\n"
          ]
        }
      ],
      "source": [
        "# Positive indexing\n",
        "string = \"Python\"\n",
        "print(string[4])"
      ]
    },
    {
      "cell_type": "code",
      "execution_count": 12,
      "metadata": {
        "colab": {
          "base_uri": "https://localhost:8080/"
        },
        "id": "e2ezMkv4rPiY",
        "outputId": "8eb84e6d-dd5c-40d4-aa16-ec99a41477da"
      },
      "outputs": [
        {
          "name": "stdout",
          "output_type": "stream",
          "text": [
            "o\n"
          ]
        }
      ],
      "source": [
        "# Negative indexing\n",
        "print(string[-2])"
      ]
    },
    {
      "cell_type": "code",
      "execution_count": 14,
      "metadata": {
        "colab": {
          "base_uri": "https://localhost:8080/",
          "height": 159
        },
        "id": "PC1V9rUQrPgW",
        "outputId": "1cf67aa2-020a-4ccd-f517-a39cf19586ba"
      },
      "outputs": [
        {
          "ename": "IndexError",
          "evalue": "string index out of range",
          "output_type": "error",
          "traceback": [
            "\u001b[0;31m---------------------------------------------------------------------------\u001b[0m",
            "\u001b[0;31mIndexError\u001b[0m                                Traceback (most recent call last)",
            "\u001b[0;32m<ipython-input-14-f1d2cb606bfe>\u001b[0m in \u001b[0;36m<cell line: 2>\u001b[0;34m()\u001b[0m\n\u001b[1;32m      1\u001b[0m \u001b[0;31m# Default behavior if index is out of bounds\u001b[0m\u001b[0;34m\u001b[0m\u001b[0;34m\u001b[0m\u001b[0m\n\u001b[0;32m----> 2\u001b[0;31m \u001b[0mprint\u001b[0m\u001b[0;34m(\u001b[0m\u001b[0mstring\u001b[0m\u001b[0;34m[\u001b[0m\u001b[0;36m10\u001b[0m\u001b[0;34m]\u001b[0m\u001b[0;34m)\u001b[0m\u001b[0;34m\u001b[0m\u001b[0;34m\u001b[0m\u001b[0m\n\u001b[0m",
            "\u001b[0;31mIndexError\u001b[0m: string index out of range"
          ]
        }
      ],
      "source": [
        "# Default behavior if index is out of bounds\n",
        "print(string[10])  # IndexError: string index out of range"
      ]
    },
    {
      "cell_type": "markdown",
      "metadata": {
        "id": "eIjeQkCcr805"
      },
      "source": [
        "### **Slicing**"
      ]
    },
    {
      "cell_type": "markdown",
      "metadata": {
        "id": "uUii1d7WscC7"
      },
      "source": [
        "**Start Index**: This is where the slicing begins. It specifies the position of the first character you want to include in your slice. If this is left blank, the slice starts from the beginning of the string.\\\n",
        "\\\n",
        "**Stop Index**: This is where the slicing stops, but it doesn't include the character at this index. The slice includes characters up to, but not including, this position. If left blank, it slices until the end of the string.\\\n",
        "\\\n",
        "**Step Size**: This determines how many characters to skip between each one included in the slice. A step size of 1 means no characters are skipped, while a larger step size skips over characters in the sequence.\\\n",
        "A negative step size can be used to slice the string in reverse order."
      ]
    },
    {
      "cell_type": "code",
      "execution_count": 15,
      "metadata": {
        "colab": {
          "base_uri": "https://localhost:8080/"
        },
        "id": "GZji8nbxrPd8",
        "outputId": "cafc37a1-d763-4cf4-f925-c1c898d63eea"
      },
      "outputs": [
        {
          "name": "stdout",
          "output_type": "stream",
          "text": [
            "yth\n"
          ]
        }
      ],
      "source": [
        "# Slicing : [start_index: stop_index: step_size]\n",
        "substring = string[1:4]  # Here, step_size is not mentioned, so the default value of 1 is taken.\n",
        "print(substring)"
      ]
    },
    {
      "cell_type": "code",
      "execution_count": 16,
      "metadata": {
        "colab": {
          "base_uri": "https://localhost:8080/"
        },
        "id": "Mn9vClIprPbe",
        "outputId": "2eba5387-32c2-4e41-c34e-e2c705a90119"
      },
      "outputs": [
        {
          "name": "stdout",
          "output_type": "stream",
          "text": [
            "Pto\n"
          ]
        }
      ],
      "source": [
        "# Slicing with step\n",
        "step_slice = string[0:6:2]  # Here, step_size is 2, so every second character is included in the slice.\n",
        "print(step_slice)"
      ]
    },
    {
      "cell_type": "code",
      "execution_count": 17,
      "metadata": {
        "colab": {
          "base_uri": "https://localhost:8080/"
        },
        "id": "Fi2dLlt4rPZS",
        "outputId": "302d71b4-0278-4097-db9c-72f847bee850"
      },
      "outputs": [
        {
          "name": "stdout",
          "output_type": "stream",
          "text": [
            "Py\n",
            "thon\n"
          ]
        }
      ],
      "source": [
        "# Omitting start or stop\n",
        "print(string[:2])  # Here, start_index is not mentioned, so the default value of 0 is taken, which means the slic starts from the beginning.\n",
        "print(string[2:])  # Here, stop_index is not mentioned, so the default value of the length of the string is taken, which means the slice ends at the end of the string."
      ]
    },
    {
      "cell_type": "code",
      "execution_count": 18,
      "metadata": {
        "colab": {
          "base_uri": "https://localhost:8080/"
        },
        "id": "tuarqqyCrPXI",
        "outputId": "a5c8bcec-5948-43a7-b490-617c05a7e6fd"
      },
      "outputs": [
        {
          "name": "stdout",
          "output_type": "stream",
          "text": [
            "n\n"
          ]
        }
      ],
      "source": [
        "string = \"Python\"\n",
        "\n",
        "# Slicing from end towards the beginning\n",
        "print(string[-1:])  # from index -1 to the end"
      ]
    },
    {
      "cell_type": "code",
      "execution_count": 19,
      "metadata": {
        "colab": {
          "base_uri": "https://localhost:8080/"
        },
        "id": "0PAHsJbjrPU0",
        "outputId": "f9cdba4d-bf12-4e85-fc5f-841878dc945d"
      },
      "outputs": [
        {
          "name": "stdout",
          "output_type": "stream",
          "text": [
            "hon\n"
          ]
        }
      ],
      "source": [
        "print(string[-3:])  # from index -3 to the end"
      ]
    },
    {
      "cell_type": "code",
      "execution_count": 20,
      "metadata": {
        "colab": {
          "base_uri": "https://localhost:8080/"
        },
        "id": "3ixUb5lUrPSV",
        "outputId": "6a6a5b0a-e8b5-473a-abc3-b0dd72ef1089"
      },
      "outputs": [
        {
          "name": "stdout",
          "output_type": "stream",
          "text": [
            "Python\n"
          ]
        }
      ],
      "source": [
        "print(string[-6:])  # from index -6, which is the start, to the end"
      ]
    },
    {
      "cell_type": "code",
      "execution_count": 21,
      "metadata": {
        "colab": {
          "base_uri": "https://localhost:8080/"
        },
        "id": "xXPK8ZLErPPy",
        "outputId": "a68aa10e-064b-4737-fc7f-6af1324360be"
      },
      "outputs": [
        {
          "name": "stdout",
          "output_type": "stream",
          "text": [
            "tho\n"
          ]
        }
      ],
      "source": [
        "print(string[-4:-1])  # from index -4 to -1, not including -1"
      ]
    },
    {
      "cell_type": "code",
      "execution_count": 22,
      "metadata": {
        "colab": {
          "base_uri": "https://localhost:8080/"
        },
        "id": "Dl4sctFMrPNd",
        "outputId": "02c1cdce-e160-48dc-99c8-efe54dbcf69f"
      },
      "outputs": [
        {
          "name": "stdout",
          "output_type": "stream",
          "text": [
            "yth\n"
          ]
        }
      ],
      "source": [
        "print(string[-5:-2])  # from index -5 to -2, not including -2"
      ]
    },
    {
      "cell_type": "code",
      "execution_count": 23,
      "metadata": {
        "colab": {
          "base_uri": "https://localhost:8080/"
        },
        "id": "fG15HNRarPLI",
        "outputId": "65b99951-71f7-440c-ef86-bb7b3f739dba"
      },
      "outputs": [
        {
          "name": "stdout",
          "output_type": "stream",
          "text": [
            "ytho\n"
          ]
        }
      ],
      "source": [
        "# Slicing with negative indices and a positive step\n",
        "print(string[-5:-1:1])  # from index -5 to -1, step 1"
      ]
    },
    {
      "cell_type": "code",
      "execution_count": 24,
      "metadata": {
        "colab": {
          "base_uri": "https://localhost:8080/"
        },
        "id": "W_yBb0a3rPIk",
        "outputId": "15a9a843-56c5-4ce1-f04d-cbb0610cd27d"
      },
      "outputs": [
        {
          "name": "stdout",
          "output_type": "stream",
          "text": [
            "nohty\n"
          ]
        }
      ],
      "source": [
        "# Slicing with negative indices and a negative step\n",
        "print(string[-1:-6:-1])  # from index -1 to -6(not including -6), step -1"
      ]
    },
    {
      "cell_type": "code",
      "execution_count": 25,
      "metadata": {
        "colab": {
          "base_uri": "https://localhost:8080/"
        },
        "id": "uhUb0bjLrPFs",
        "outputId": "a9330291-2afa-40ca-a83d-dc18f61eac83"
      },
      "outputs": [
        {
          "name": "stdout",
          "output_type": "stream",
          "text": [
            "nohtyP\n"
          ]
        }
      ],
      "source": [
        "# Negative step with omitted start and stop\n",
        "print(string[::-1])  # reverses the string"
      ]
    },
    {
      "cell_type": "code",
      "execution_count": 26,
      "metadata": {
        "colab": {
          "base_uri": "https://localhost:8080/"
        },
        "id": "TNl-NU_8rPC6",
        "outputId": "5eddb212-06c2-46cf-b81d-bba145019bbe"
      },
      "outputs": [
        {
          "name": "stdout",
          "output_type": "stream",
          "text": [
            "Pyt\n"
          ]
        }
      ],
      "source": [
        "# Omitting the start index (defaults to start of the string)\n",
        "print(string[:-3])  # from start to -3, not including -3"
      ]
    },
    {
      "cell_type": "code",
      "execution_count": 27,
      "metadata": {
        "colab": {
          "base_uri": "https://localhost:8080/"
        },
        "id": "uBbhRqmzrPAa",
        "outputId": "e9d98725-4d38-403b-d5fe-0e3cfab2c0b5"
      },
      "outputs": [
        {
          "name": "stdout",
          "output_type": "stream",
          "text": [
            "hon\n"
          ]
        }
      ],
      "source": [
        "# Omitting the stop index (defaults to end of the string)\n",
        "print(string[-3:])  # from -3 to the end"
      ]
    },
    {
      "cell_type": "code",
      "execution_count": 28,
      "metadata": {
        "colab": {
          "base_uri": "https://localhost:8080/"
        },
        "id": "C3H09hFqrO95",
        "outputId": "032115cf-cc7b-420e-819d-1ef61d0cf8b7"
      },
      "outputs": [
        {
          "name": "stdout",
          "output_type": "stream",
          "text": [
            "oht\n"
          ]
        }
      ],
      "source": [
        "# Using a negative step to reverse a substring\n",
        "print(string[-2:-5:-1])  # from -2 to -5, step -1, reverse order"
      ]
    },
    {
      "cell_type": "code",
      "execution_count": 29,
      "metadata": {
        "colab": {
          "base_uri": "https://localhost:8080/"
        },
        "id": "NHZ0f3kPrO7s",
        "outputId": "18da37ee-843c-4336-e734-5b7ea361e72d"
      },
      "outputs": [
        {
          "name": "stdout",
          "output_type": "stream",
          "text": [
            "\n"
          ]
        }
      ],
      "source": [
        "# Invalid slicing range (no output)\n",
        "print(string[-2:-5:1])  # empty string, because positive step can't move from -2 to -5"
      ]
    },
    {
      "cell_type": "markdown",
      "metadata": {
        "id": "7d1XM3N6wVIT"
      },
      "source": [
        "### **String Methods**"
      ]
    },
    {
      "cell_type": "markdown",
      "metadata": {
        "id": "_D0RUft6wbIE"
      },
      "source": [
        "### **Case Conversion**"
      ]
    },
    {
      "cell_type": "code",
      "execution_count": 30,
      "metadata": {
        "colab": {
          "base_uri": "https://localhost:8080/"
        },
        "id": "c-sp8padwPKj",
        "outputId": "daed18dd-0ca8-4031-c4f9-ef719554fc8c"
      },
      "outputs": [
        {
          "name": "stdout",
          "output_type": "stream",
          "text": [
            "python\n"
          ]
        }
      ],
      "source": [
        "# Convert to lowercase\n",
        "lowercase_string = \"Python\".lower()\n",
        "print(lowercase_string)"
      ]
    },
    {
      "cell_type": "code",
      "execution_count": 31,
      "metadata": {
        "colab": {
          "base_uri": "https://localhost:8080/"
        },
        "id": "jLYlV9uuwfmG",
        "outputId": "a9b7ba84-1143-40eb-dd63-4b5359194fcb"
      },
      "outputs": [
        {
          "name": "stdout",
          "output_type": "stream",
          "text": [
            "PYTHON\n"
          ]
        }
      ],
      "source": [
        "# Convert to uppercase\n",
        "uppercase_string = \"Python\".upper()\n",
        "print(uppercase_string)"
      ]
    },
    {
      "cell_type": "code",
      "execution_count": 32,
      "metadata": {
        "colab": {
          "base_uri": "https://localhost:8080/"
        },
        "id": "N-3NnAwywfil",
        "outputId": "a383252f-a18a-46c9-ef97-e85d6d125712"
      },
      "outputs": [
        {
          "name": "stdout",
          "output_type": "stream",
          "text": [
            "pYtHoN\n"
          ]
        }
      ],
      "source": [
        "# Swap case\n",
        "swapped_case = \"PyThOn\".swapcase()\n",
        "print(swapped_case)"
      ]
    },
    {
      "cell_type": "code",
      "execution_count": 33,
      "metadata": {
        "colab": {
          "base_uri": "https://localhost:8080/"
        },
        "id": "QHxOiDiDwfgV",
        "outputId": "f37a9175-82bf-44ec-e0a8-ec2557fb0eb9"
      },
      "outputs": [
        {
          "name": "stdout",
          "output_type": "stream",
          "text": [
            "Python\n"
          ]
        }
      ],
      "source": [
        "# Capitalize first letter\n",
        "capitalized = \"python\".capitalize()\n",
        "print(capitalized)"
      ]
    },
    {
      "cell_type": "markdown",
      "metadata": {
        "id": "DDpCNgstw2v6"
      },
      "source": [
        "### **Searching and Counting**"
      ]
    },
    {
      "cell_type": "code",
      "execution_count": 34,
      "metadata": {
        "colab": {
          "base_uri": "https://localhost:8080/"
        },
        "id": "Py2F5DVQwfeA",
        "outputId": "33f8a268-6ee9-400b-e693-c942efe09a01"
      },
      "outputs": [
        {
          "name": "stdout",
          "output_type": "stream",
          "text": [
            "6\n"
          ]
        }
      ],
      "source": [
        "# Finding substrings\n",
        "position = \"Hello World\".find(\"World\")\n",
        "print(position)  # Output: start index of substring"
      ]
    },
    {
      "cell_type": "code",
      "execution_count": 35,
      "metadata": {
        "colab": {
          "base_uri": "https://localhost:8080/"
        },
        "id": "v_1-mpSQwfbk",
        "outputId": "d5390be7-587b-45ba-bf7b-278c04a776a0"
      },
      "outputs": [
        {
          "name": "stdout",
          "output_type": "stream",
          "text": [
            "2\n"
          ]
        }
      ],
      "source": [
        "# Counting occurrences\n",
        "count = \"Hello World World\".count(\"World\")\n",
        "print(count)"
      ]
    },
    {
      "cell_type": "markdown",
      "metadata": {
        "id": "yqigpGdJx-4M"
      },
      "source": [
        "### **String Replacement**"
      ]
    },
    {
      "cell_type": "code",
      "execution_count": 38,
      "metadata": {
        "colab": {
          "base_uri": "https://localhost:8080/"
        },
        "id": "inA4HXKvwfZC",
        "outputId": "f7385c0c-0b95-4092-e04e-c31573602d50"
      },
      "outputs": [
        {
          "name": "stdout",
          "output_type": "stream",
          "text": [
            "Hello Python Python\n"
          ]
        }
      ],
      "source": [
        "# Replace all occurrences\n",
        "replaced_string = \"Hello World World\".replace(\"World\", \"Python\")\n",
        "print(replaced_string)"
      ]
    },
    {
      "cell_type": "code",
      "execution_count": 39,
      "metadata": {
        "colab": {
          "base_uri": "https://localhost:8080/"
        },
        "id": "7MIHTX0ywfWW",
        "outputId": "c50dd798-1e1b-47ae-cd79-056d6fcd7c37"
      },
      "outputs": [
        {
          "name": "stdout",
          "output_type": "stream",
          "text": [
            "Hello Python World\n"
          ]
        }
      ],
      "source": [
        "# Replace only first occurrence\n",
        "limited_replace = \"Hello World World\".replace(\"World\", \"Python\", 1)\n",
        "print(limited_replace)"
      ]
    },
    {
      "cell_type": "markdown",
      "metadata": {
        "id": "RVI_uENIyJ4d"
      },
      "source": [
        "### **Splitting and Joining**"
      ]
    },
    {
      "cell_type": "code",
      "execution_count": 40,
      "metadata": {
        "colab": {
          "base_uri": "https://localhost:8080/"
        },
        "id": "m_odFJ9YwfTt",
        "outputId": "70ec7d16-b345-4965-b23f-89f3eb61aa16"
      },
      "outputs": [
        {
          "name": "stdout",
          "output_type": "stream",
          "text": [
            "['Hello', 'World', 'from', 'Python']\n"
          ]
        }
      ],
      "source": [
        "# The .split() method in Python is used to split a string into a list of substrings based on a specified delimiter (or separator).\n",
        "# If no delimiter is specified, it defaults to splitting by whitespace. It returns a list of substrings.\n",
        "\n",
        "words = \"Hello World from Python\".split()\n",
        "print(words)"
      ]
    },
    {
      "cell_type": "code",
      "execution_count": 42,
      "metadata": {
        "colab": {
          "base_uri": "https://localhost:8080/"
        },
        "id": "uT0lvzAQwfRZ",
        "outputId": "63020d68-47d0-430c-d166-79cfbf075fb5"
      },
      "outputs": [
        {
          "name": "stdout",
          "output_type": "stream",
          "text": [
            "['1', '2', '3']\n"
          ]
        }
      ],
      "source": [
        "numbers = \"1,2,3\".split(',')\n",
        "print(numbers)"
      ]
    },
    {
      "cell_type": "markdown",
      "metadata": {
        "id": "GIwpf-YpzTgJ"
      },
      "source": [
        "### **Checking String Content**"
      ]
    },
    {
      "cell_type": "code",
      "execution_count": 43,
      "metadata": {
        "colab": {
          "base_uri": "https://localhost:8080/"
        },
        "id": "xEEahtYCwfPG",
        "outputId": "1a55aef9-58e7-413c-c22c-8652d4668fe1"
      },
      "outputs": [
        {
          "name": "stdout",
          "output_type": "stream",
          "text": [
            "True\n"
          ]
        }
      ],
      "source": [
        "# Starts with\n",
        "is_start = \"Hello World\".startswith(\"Hello\")\n",
        "print(is_start)"
      ]
    },
    {
      "cell_type": "code",
      "execution_count": 44,
      "metadata": {
        "colab": {
          "base_uri": "https://localhost:8080/"
        },
        "id": "3aBATzSvwfMh",
        "outputId": "efab99f6-6815-474b-c971-126b5deb4a7c"
      },
      "outputs": [
        {
          "name": "stdout",
          "output_type": "stream",
          "text": [
            "True\n"
          ]
        }
      ],
      "source": [
        "# Is alphanumeric\n",
        "is_alnum = \"Python3\".isalnum()\n",
        "print(is_alnum)"
      ]
    },
    {
      "cell_type": "markdown",
      "metadata": {
        "id": "I-o6gePqzdzR"
      },
      "source": [
        "### **String Formatting**"
      ]
    },
    {
      "cell_type": "code",
      "execution_count": 1,
      "metadata": {
        "colab": {
          "base_uri": "https://localhost:8080/"
        },
        "id": "In2XDrAgwfKL",
        "outputId": "bc87d237-7faa-4d09-ab0e-3be06235362a"
      },
      "outputs": [
        {
          "name": "stdout",
          "output_type": "stream",
          "text": [
            "My name is Alice and I am 30 years old.\n"
          ]
        }
      ],
      "source": [
        "# The % operator is used with a string containing format specifiers (placeholders) and a tuple or a single value to be inserted into those placeholders.\n",
        "\n",
        "name = \"Alice\"\n",
        "age = 30\n",
        "message = \"My name is %s and I am %d years old.\" % (name, age)\n",
        "print(message)  # Output: My name is Alice and I am 30 years old."
      ]
    },
    {
      "cell_type": "code",
      "execution_count": 46,
      "metadata": {
        "colab": {
          "base_uri": "https://localhost:8080/"
        },
        "id": "R3L8rJ8UwfHl",
        "outputId": "48a1d00e-dcfb-4dff-9918-6bd978f45d01"
      },
      "outputs": [
        {
          "name": "stdout",
          "output_type": "stream",
          "text": [
            "Hello, World!\n"
          ]
        }
      ],
      "source": [
        "# The format() method replaces placeholders within a string with values from variables or expressions. Placeholders are defined using curly braces {}.\n",
        "\n",
        "formatted = \"Hello, {}!\".format(\"World\")\n",
        "print(formatted)"
      ]
    },
    {
      "cell_type": "code",
      "execution_count": 47,
      "metadata": {
        "colab": {
          "base_uri": "https://localhost:8080/"
        },
        "id": "dDvMHX2JwfFA",
        "outputId": "d4f10e6c-f632-4c5b-aae5-a8aab78d2be3"
      },
      "outputs": [
        {
          "name": "stdout",
          "output_type": "stream",
          "text": [
            "Hello, World!\n"
          ]
        }
      ],
      "source": [
        "# f-strings allow you to embed expressions inside string literals using curly braces {},\n",
        "# making it easy to include variables and expressions directly in your strings.\n",
        "\n",
        "name = \"World\"\n",
        "formatted = f\"Hello, {name}!\"\n",
        "print(formatted)"
      ]
    },
    {
      "cell_type": "markdown",
      "metadata": {
        "id": "IGt5KPH0zrA7"
      },
      "source": [
        "### **Escape Characters and Raw Strings**\n",
        "\n",
        "Certain characters have specific meanings in programming languages. For example:\n",
        "Quotes: Single (`'`) and double (`\"`) quotes are used to denote the beginning and end of a string. If you want to include a quote character inside a string, you need a way to do so without confusing the interpreter about where the string starts or ends. Escape characters solve this problem.\\\n",
        "\\\n",
        "Some characters, like newlines (`\\n`), tabs (`\\t`) are non-printable and affect the formatting or structure of the output. Escape sequences allow you to include these characters in your strings to control how the text is displayed.\\\n",
        "\\\n",
        "Escape characters in Python are special characters preceded by a backslash (`\\`) that have a specific meaning when used within a string. They allow you to include characters in a string that would otherwise be difficult or impossible to express.\\\n",
        "\\\n",
        "Some examples are:\\\n",
        "\\\n",
        "Newline (**`\\n`**): Inserts a new line in the string.\\\n",
        "Tab (**`\\t`**): Inserts a horizontal tab (indentation).\\\n",
        "Backslash (**`\\\\`**): Inserts a literal backslash.\\\n",
        "Single Quote (**`\\'`**): Inserts a single quote.\\\n",
        "Double Quote (**`\\\"`**): Inserts a double quote.\n"
      ]
    },
    {
      "cell_type": "code",
      "execution_count": 48,
      "metadata": {
        "colab": {
          "base_uri": "https://localhost:8080/"
        },
        "id": "ZkKLYNVUwfCb",
        "outputId": "0b9912b0-b11a-451e-9b63-df43d7651ef6"
      },
      "outputs": [
        {
          "name": "stdout",
          "output_type": "stream",
          "text": [
            "Line 1\n",
            "Line 2\n"
          ]
        }
      ],
      "source": [
        "# Using \\n\n",
        "string = \"Line 1\\nLine 2\"\n",
        "print(string)"
      ]
    },
    {
      "cell_type": "code",
      "execution_count": 2,
      "metadata": {
        "colab": {
          "base_uri": "https://localhost:8080/"
        },
        "id": "LrCFD78JX2Mc",
        "outputId": "421f8f2f-2bb5-462e-9bd6-51f41db880ba"
      },
      "outputs": [
        {
          "name": "stdout",
          "output_type": "stream",
          "text": [
            "Hello\tWorld\n"
          ]
        }
      ],
      "source": [
        "# Using \\t\n",
        "text = \"Hello\\tWorld\"\n",
        "print(text)"
      ]
    },
    {
      "cell_type": "code",
      "execution_count": 3,
      "metadata": {
        "colab": {
          "base_uri": "https://localhost:8080/"
        },
        "id": "zFbv8X76X7xx",
        "outputId": "5973fc8d-9ecb-44ab-b109-fc3b7a552827"
      },
      "outputs": [
        {
          "name": "stdout",
          "output_type": "stream",
          "text": [
            "C:\\Users\\Alice\n"
          ]
        }
      ],
      "source": [
        "# Using \\\\\n",
        "path = \"C:\\\\Users\\\\Alice\"\n",
        "print(path)"
      ]
    },
    {
      "cell_type": "code",
      "execution_count": 4,
      "metadata": {
        "colab": {
          "base_uri": "https://localhost:8080/"
        },
        "id": "r64MgdOZYZKm",
        "outputId": "07ff78d7-aa81-484b-bddc-efc3c38ebc83"
      },
      "outputs": [
        {
          "name": "stdout",
          "output_type": "stream",
          "text": [
            "It's a sunny day\n"
          ]
        }
      ],
      "source": [
        "# Using \\'\n",
        "quote = 'It\\'s a sunny day'\n",
        "print(quote)"
      ]
    },
    {
      "cell_type": "code",
      "execution_count": 5,
      "metadata": {
        "colab": {
          "base_uri": "https://localhost:8080/"
        },
        "id": "VZzBPK0HYZG7",
        "outputId": "0364bff9-39b0-4406-ee47-a984746458ce"
      },
      "outputs": [
        {
          "name": "stdout",
          "output_type": "stream",
          "text": [
            "He said, \"Hello!\"\n"
          ]
        }
      ],
      "source": [
        "# Using \\\"\n",
        "quote = \"He said, \\\"Hello!\\\"\"\n",
        "print(quote)"
      ]
    },
    {
      "cell_type": "markdown",
      "metadata": {
        "id": "TkwTlmO_YZwP"
      },
      "source": [
        "### **Raw string**\n",
        "\n",
        "Raw string tells Python to treat characters like \\n, \\t, etc. as literal characters rather than escape characters.\\\n",
        "\\\n",
        "Raw strings are particularly useful for file paths on Windows, where backslashes are used as directory separators. Using raw strings avoids the need to escape each backslash."
      ]
    },
    {
      "cell_type": "code",
      "execution_count": 7,
      "metadata": {
        "colab": {
          "base_uri": "https://localhost:8080/"
        },
        "id": "uXMCVg-2wfAA",
        "outputId": "b08e7d72-a246-4668-c508-6a2ad488261a"
      },
      "outputs": [
        {
          "name": "stdout",
          "output_type": "stream",
          "text": [
            "C:\\Users\\Alice\\Documents\\file.txt\n"
          ]
        }
      ],
      "source": [
        "# Raw string to ignore escape sequences\n",
        "file_path = r\"C:\\Users\\Alice\\Documents\\file.txt\"\n",
        "print(file_path)"
      ]
    },
    {
      "cell_type": "markdown",
      "metadata": {
        "id": "TiQ9soeg0FZO"
      },
      "source": [
        "### **Unicode Strings and Encoding**\n",
        "Unicode provides a universal standard for character representation, enabling support for global languages and symbols.\\\n",
        "\\\n",
        "Proper encoding and decoding are essential for correct data handling, especially when dealing with files, network data, or integrating systems that may use different encodings."
      ]
    },
    {
      "cell_type": "code",
      "execution_count": 50,
      "metadata": {
        "colab": {
          "base_uri": "https://localhost:8080/"
        },
        "id": "TNK4Wf48we-E",
        "outputId": "98ffbc66-8232-4634-d084-d754a3978f85"
      },
      "outputs": [
        {
          "name": "stdout",
          "output_type": "stream",
          "text": [
            "b'Python is fun \\xf0\\x9f\\x98\\x8a'\n"
          ]
        }
      ],
      "source": [
        "# UTF-8 Encoding\n",
        "encoded_string = \"Python is fun 😊\".encode('utf-8')\n",
        "print(encoded_string)"
      ]
    },
    {
      "cell_type": "code",
      "execution_count": 51,
      "metadata": {
        "colab": {
          "base_uri": "https://localhost:8080/"
        },
        "id": "B2FFSjgIwe7u",
        "outputId": "bb3dcda2-919f-4187-e3da-2d4b463930f1"
      },
      "outputs": [
        {
          "name": "stdout",
          "output_type": "stream",
          "text": [
            "Python is fun 😊\n"
          ]
        }
      ],
      "source": [
        "# Decoding back to string\n",
        "decoded_string = encoded_string.decode('utf-8')\n",
        "print(decoded_string)"
      ]
    },
    {
      "cell_type": "code",
      "execution_count": null,
      "metadata": {
        "id": "PGJTDiUgca1a"
      },
      "outputs": [],
      "source": []
    },
    {
      "cell_type": "code",
      "execution_count": null,
      "metadata": {
        "id": "eimbyvGWcazD"
      },
      "outputs": [],
      "source": []
    },
    {
      "cell_type": "code",
      "execution_count": null,
      "metadata": {
        "id": "OQhuUUb-caw1"
      },
      "outputs": [],
      "source": []
    },
    {
      "cell_type": "code",
      "execution_count": null,
      "metadata": {
        "id": "Lm1TrKzhcauy"
      },
      "outputs": [],
      "source": []
    }
  ],
  "metadata": {
    "colab": {
      "provenance": []
    },
    "kernelspec": {
      "display_name": "Python 3",
      "name": "python3"
    },
    "language_info": {
      "name": "python"
    }
  },
  "nbformat": 4,
  "nbformat_minor": 0
}
