{
 "cells": [
  {
   "cell_type": "markdown",
   "metadata": {},
   "source": [
    "# Python Sets: A Comprehensive Guide\n",
    "\n",
    "This notebook covers the fundamentals of working with sets in Python, including creation, operations, and best practices."
   ]
  },
  {
   "cell_type": "markdown",
   "metadata": {},
   "source": [
    "## 1. Introduction to Sets"
   ]
  },
  {
   "cell_type": "markdown",
   "metadata": {},
   "source": [
    "Sets are unordered collections of unique elements in Python. They are mutable, but their elements must be immutable (hashable)."
   ]
  },
  {
   "cell_type": "code",
   "execution_count": null,
   "metadata": {},
   "outputs": [],
   "source": [
    "# Creating a set\n",
    "fruits = {'apple', 'banana', 'cherry'}\n",
    "print(\"Set of fruits:\", fruits)\n",
    "\n",
    "# Creating a set from a list\n",
    "numbers = set([1, 2, 3, 3, 4, 4, 5])\n",
    "print(\"Set of numbers:\", numbers)  # Duplicate elements are automatically removed"
   ]
  },
  {
   "cell_type": "code",
   "execution_count": null,
   "metadata": {},
   "outputs": [],
   "source": [
    "# Comparing sets with other data structures\n",
    "list_example = [1, 2, 3, 3, 4]\n",
    "tuple_example = (1, 2, 3, 3, 4)\n",
    "dict_example = {'a': 1, 'b': 2, 'c': 3}\n",
    "set_example = {1, 2, 3, 4}\n",
    "\n",
    "print(\"List:\", list_example)\n",
    "print(\"Tuple:\", tuple_example)\n",
    "print(\"Dictionary:\", dict_example)\n",
    "print(\"Set:\", set_example)\n",
    "\n",
    "# Demonstrating unordered nature\n",
    "print(\"\\nUnordered nature of sets:\")\n",
    "print({3, 1, 4, 1, 5, 9, 2, 6, 5})"
   ]
  },
  {
   "cell_type": "code",
   "execution_count": null,
   "metadata": {},
   "outputs": [],
   "source": [
    "# Set immutability (elements must be hashable)\n",
    "valid_set = {1, 'hello', (1, 2, 3)}\n",
    "print(\"Valid set:\", valid_set)\n",
    "\n",
    "try:\n",
    "    invalid_set = {1, [2, 3], {4, 5}}\n",
    "except TypeError as e:\n",
    "    print(\"Error:\", e)"
   ]
  },
  {
   "cell_type": "markdown",
   "metadata": {},
   "source": [
    "## 2. Basic Set Operations"
   ]
  },
  {
   "cell_type": "code",
   "execution_count": null,
   "metadata": {},
   "outputs": [],
   "source": [
    "# Adding elements to a set\n",
    "colors = {'red', 'green', 'blue'}\n",
    "colors.add('yellow')\n",
    "print(\"After add():\", colors)\n",
    "\n",
    "colors.update(['orange', 'purple'])\n",
    "print(\"After update():\", colors)"
   ]
  },
  {
   "cell_type": "code",
   "execution_count": null,
   "metadata": {},
   "outputs": [],
   "source": [
    "# Removing elements from a set\n",
    "numbers = {1, 2, 3, 4, 5}\n",
    "numbers.remove(3)\n",
    "print(\"After remove(3):\", numbers)\n",
    "\n",
    "numbers.discard(10)  # No error if element doesn't exist\n",
    "print(\"After discard(10):\", numbers)\n",
    "\n",
    "popped = numbers.pop()\n",
    "print(f\"Popped element: {popped}, Set after pop(): {numbers}\")\n",
    "\n",
    "numbers.clear()\n",
    "print(\"After clear():\", numbers)"
   ]
  },
  {
   "cell_type": "code",
   "execution_count": null,
   "metadata": {},
   "outputs": [],
   "source": [
    "# Set length and membership\n",
    "fruits = {'apple', 'banana', 'cherry', 'date'}\n",
    "print(\"Number of fruits:\", len(fruits))\n",
    "print(\"Is 'apple' in fruits?\", 'apple' in fruits)\n",
    "print(\"Is 'grape' not in fruits?\", 'grape' not in fruits)"
   ]
  },
  {
   "cell_type": "markdown",
   "metadata": {},
   "source": [
    "## 3. Accessing Set Elements"
   ]
  },
  {
   "cell_type": "code",
   "execution_count": null,
   "metadata": {},
   "outputs": [],
   "source": [
    "# Iterating over sets\n",
    "colors = {'red', 'green', 'blue'}\n",
    "print(\"Colors in the set:\")\n",
    "for color in colors:\n",
    "    print(color)"
   ]
  },
  {
   "cell_type": "code",
   "execution_count": null,
   "metadata": {},
   "outputs": [],
   "source": [
    "# Accessing elements in an unordered collection\n",
    "numbers = {1, 2, 3, 4, 5}\n",
    "print(\"First element (arbitrary):\", next(iter(numbers)))\n",
    "\n",
    "# Converting to list for indexing (not recommended for large sets)\n",
    "number_list = list(numbers)\n",
    "print(\"Third element after conversion to list:\", number_list[2])"
   ]
  },
  {
   "cell_type": "code",
   "execution_count": null,
   "metadata": {},
   "outputs": [],
   "source": [
    "# Looping through sets with for and enumerate\n",
    "fruits = {'apple', 'banana', 'cherry'}\n",
    "for index, fruit in enumerate(fruits, start=1):\n",
    "    print(f\"Fruit {index}: {fruit}\")"
   ]
  },
  {
   "cell_type": "markdown",
   "metadata": {},
   "source": [
    "## 4. Set Methods"
   ]
  },
  {
   "cell_type": "code",
   "execution_count": null,
   "metadata": {},
   "outputs": [],
   "source": [
    "# Set operations\n",
    "set1 = {1, 2, 3, 4}\n",
    "set2 = {3, 4, 5, 6}\n",
    "\n",
    "print(\"Union:\", set1.union(set2))\n",
    "print(\"Intersection:\", set1.intersection(set2))\n",
    "print(\"Difference (set1 - set2):\", set1.difference(set2))\n",
    "print(\"Symmetric Difference:\", set1.symmetric_difference(set2))"
   ]
  },
  {
   "cell_type": "code",
   "execution_count": null,
   "metadata": {},
   "outputs": [],
   "source": [
    "# Modifying sets\n",
    "set1 = {1, 2, 3}\n",
    "set2 = {3, 4, 5}\n",
    "\n",
    "set1.update(set2)\n",
    "print(\"After update():\", set1)\n",
    "\n",
    "set1.intersection_update({2, 3, 4})\n",
    "print(\"After intersection_update():\", set1)\n",
    "\n",
    "set1.difference_update({3})\n",
    "print(\"After difference_update():\", set1)\n",
    "\n",
    "set1.symmetric_difference_update({2, 4})\n",
    "print(\"After symmetric_difference_update():\", set1)"
   ]
  },
  {
   "cell_type": "code",
   "execution_count": null,
   "metadata": {},
   "outputs": [],
   "source": [
    "# Copying sets and set comparisons\n",
    "original = {1, 2, 3}\n",
    "copied = original.copy()\n",
    "print(\"Copied set:\", copied)\n",
    "\n",
    "set1 = {1, 2, 3, 4}\n",
    "set2 = {1, 2}\n",
    "set3 = {5, 6}\n",
    "\n",
    "print(\"Is set2 a subset of set1?\", set2.issubset(set1))\n",
    "print(\"Is set1 a superset of set2?\", set1.issuperset(set2))\n",
    "print(\"Are set1 and set3 disjoint?\", set1.isdisjoint(set3))"
   ]
  },
  {
   "cell_type": "markdown",
   "metadata": {},
   "source": [
    "## 5. Set Operations with Operators"
   ]
  },
  {
   "cell_type": "code",
   "execution_count": null,
   "metadata": {},
   "outputs": [],
   "source": [
    "# Set operations using operators\n",
    "a = {1, 2, 3, 4}\n",
    "b = {3, 4, 5, 6}\n",
    "\n",
    "print(\"Union (|):\", a | b)\n",
    "print(\"Intersection (&):\", a & b)\n",
    "print(\"Difference (-):\", a - b)\n",
    "print(\"Symmetric Difference (^):\", a ^ b)"
   ]
  },
  {
   "cell_type": "markdown",
   "metadata": {},
   "source": [
    "## 6. Set Comprehensions"
   ]
  },
  {
   "cell_type": "code",
   "execution_count": null,
   "metadata": {},
   "outputs": [],
   "source": [
    "# Basic set comprehension\n",
    "squares = {x**2 for x in range(10)}\n",
    "print(\"Squares:\", squares)"
   ]
  },
  {
   "cell_type": "code",
   "execution_count": null,
   "metadata": {},
   "outputs": [],
   "source": [
    "# Set comprehension with conditional logic\n",
    "even_squares = {x**2 for x in range(10) if x % 2 == 0}\n",
    "print(\"Even squares:\", even_squares)"
   ]
  },
  {
   "cell_type": "code",
   "execution_count": null,
   "metadata": {},
   "outputs": [],
   "source": [
    "# Performance comparison: set comprehension vs. loop\n",
    "import timeit\n",
    "\n",
    "# Using set comprehension\n",
    "comp_time = timeit.timeit('{x for x in range(1000)}', number=1000)\n",
    "\n",
    "# Using loop\n",
    "loop_time = timeit.timeit(\n",
    "    'set_1 = set()\\nfor x in range(1000):\\n    set_1.add(x)',\n",
    "    number=1000\n",
    ")\n",
    "\n",
    "print(f\"Comprehension time: {comp_time:.6f} seconds\")\n",
    "print(f\"Loop time: {loop_time:.6f} seconds\")"
   ]
  },
  {
   "cell_type": "markdown",
   "metadata": {},
   "source": [
    "## 7. Frozen Sets"
   ]
  },
  {
   "cell_type": "code",
   "execution_count": null,
   "metadata": {},
   "outputs": [],
   "source": [
    "# Introduction to Frozen Sets\n",
    "regular_set = {1, 2, 3}\n",
    "frozen_set = frozenset([1, 2, 3])\n",
    "\n",
    "print(\"Regular set:\", regular_set)\n",
    "print(\"Frozen set:\", frozen_set)\n",
    "\n",
    "# Attempting to modify a frozen set (will raise an error)\n",
    "try:\n",
    "    frozen_set.add(4)\n",
    "except AttributeError as e:\n",
    "    print(\"Error:\", e)"
   ]
  },
  {
   "cell_type": "code",
   "execution_count": null,
   "metadata": {},
   "outputs": [],
   "source": [
    "# Using frozen sets as dictionary keys\n",
    "fs1 = frozenset([1, 2, 3])\n",
    "fs2 = frozenset([3, 4, 5])\n",
    "\n",
    "set_dict = {\n",
    "    fs1: \"Set A\",\n",
    "    fs2: \"Set B\"\n",
    "}\n",
    "\n",
    "print(\"Dictionary with frozen set keys:\", set_dict)\n",
    "print(\"Value for fs1:\", set_dict[fs1])"
   ]
  },
  {
   "cell_type": "markdown",
   "metadata": {},
   "source": [
    "Frozen sets are immutable versions of sets. They are useful when you need a hashable set (e.g., as dictionary keys) or when you want to ensure that a set remains unchanged."
   ]
  },
  {
   "cell_type": "markdown",
   "metadata": {},
   "source": [
    "## 8. Working with Multiple Sets"
   ]
  },
  {
   "cell_type": "code",
   "execution_count": null,
   "metadata": {},
   "outputs": [],
   "source": [
    "# Combining multiple sets\n",
    "set1 = {1, 2, 3}\n",
    "set2 = {3, 4, 5}\n",
    "set3 = {5, 6, 7}\n",
    "\n",
    "combined = set1.union(set2, set3)\n",
    "print(\"Combined sets:\", combined)"
   ]
  },
  {
   "cell_type": "code",
   "execution_count": null,
   "metadata": {},
   "outputs": [],
   "source": [
    "# Set intersection and difference with multiple sets\n",
    "common = set1.intersection(set2, set3)\n",
    "print(\"Common elements:\", common)\n",
    "\n",
    "diff = set1.difference(set2, set3)\n",
    "print(\"Elements in set1 but not in set2 or set3:\", diff)"
   ]
  },
  {
   "cell_type": "markdown",
   "metadata": {},
   "source": [
    "## 9. Sets and Mathematical Operations"
   ]
  },
  {
   "cell_type": "code",
   "execution_count": null,
   "metadata": {},
   "outputs": [],
   "source": [
    "# Mathematical set theory concepts\n",
    "universe = set(range(1, 11))\n",
    "A = {1, 2, 3, 4, 5}\n",
    "B = {4, 5, 6, 7, 8}\n",
    "\n",
    "print(\"Universe:\", universe)\n",
    "print(\"Set A:\", A)\n",
    "print(\"Set B:\", B)\n",
    "print(\"Union (A ∪ B):\", A.union(B))\n",
    "print(\"Intersection (A ∩ B):\", A.intersection(B))\n",
    "print(\"Difference (A - B):\", A.difference(B))\n",
    "print(\"Complement of A:\", universe.difference(A))"
   ]
  },
  {
   "cell_type": "code",
   "execution_count": null,
   "metadata": {},
   "outputs": [],
   "source": [
    "# Practical application: finding unique words in texts\n",
    "text1 = \"the quick brown fox jumps over the lazy dog\"\n",
    "text2 = \"the lazy dog sleeps in the sun\"\n",
    "\n",
    "words1 = set(text1.split())\n",
    "words2 = set(text2.split())\n",
    "\n",
    "print(\"Common words:\", words1.intersection(words2))\n",
    "print(\"Unique words in text1:\", words1.difference(words2))\n",
    "print(\"Unique words in text2:\", words2.difference(words1))\n",
    "print(\"All unique words:\", words1.symmetric_difference(words2))"
   ]
  },
  {
   "cell_type": "markdown",
   "metadata": {},
   "source": [
    "## 10. Sets vs. Other Data Structures"
   ]
  },
  {
   "cell_type": "code",
   "execution_count": null,
   "metadata": {},
   "outputs": [],
   "source": [
    "# Sets vs. Lists: When to use each\n",
    "numbers_list = [1, 2, 3, 2, 4, 3, 5]\n",
    "numbers_set = set(numbers_list)\n",
    "\n",
    "print(\"Original list:\", numbers_list)\n",
    "print(\"As a set (duplicates removed):\", numbers_set)\n",
    "\n",
    "# Use lists when:\n",
    "print(\"Third element in list:\", numbers_list[2])  # Order matters\n",
    "numbers_list.append(6)  # Need to maintain duplicates\n",
    "print(\"List after appending 6:\", numbers_list)\n",
    "\n",
    "# Use sets when:\n",
    "print(\"Is 4 in the set?\", 4 in numbers_set)  # Fast membership testing\n",
    "unique_numbers = list(set(numbers_list))  # Remove duplicates efficiently\n",
    "print(\"Unique numbers:\", unique_numbers)"
   ]
  },
  {
   "cell_type": "code",
   "execution_count": null,
   "metadata": {},
   "outputs": [],
   "source": [
    "# Sets vs. Dictionaries: Key differences and use cases\n",
    "set_example = {1, 2, 3}\n",
    "dict_example = {1: 'one', 2: 'two', 3: 'three'}\n",
    "\n",
    "print(\"Set:\", set_example)\n",
    "print(\"Dictionary:\", dict_example)\n",
    "\n",
    "# Sets for unique collections\n",
    "unique_numbers = {1, 2, 3, 2, 1, 4}\n",
    "print(\"Unique numbers:\", unique_numbers)\n",
    "\n",
    "# Dictionaries for key-value pairs\n",
    "capital_cities = {'France': 'Paris', 'Italy': 'Rome', 'Spain': 'Madrid'}\n",
    "print(\"Capital of France:\", capital_cities['France'])"
   ]
  },
  {
   "cell_type": "code",
   "execution_count": null,
   "metadata": {},
   "outputs": [],
   "source": [
    "# Performance comparison: Sets vs. Lists\n",
    "import timeit\n",
    "import random\n",
    "\n",
    "def setup():\n",
    "    global data_list, data_set, search_items\n",
    "    data_list = list(range(10000))\n",
    "    random.shuffle(data_list)\n",
    "    data_set = set(data_list)\n",
    "    search_items = random.sample(range(20000), 1000)\n",
    "\n",
    "def test_list():\n",
    "    return [item in data_list for item in search_items]\n",
    "\n",
    "def test_set():\n",
    "    return [item in data_set for item in search_items]\n",
    "\n",
    "setup()\n",
    "list_time = timeit.timeit(test_list, number=100)\n",
    "set_time = timeit.timeit(test_set, number=100)\n",
    "\n",
    "print(f\"List search time: {list_time:.6f} seconds\")\n",
    "print(f\"Set search time: {set_time:.6f} seconds\")"
   ]
  },
  {
   "cell_type": "markdown",
   "metadata": {},
   "source": [
    "## 11. Set Performance Considerations"
   ]
  },
  {
   "cell_type": "code",
   "execution_count": null,
   "metadata": {},
   "outputs": [],
   "source": [
    "# Time complexity of common set operations\n",
    "import timeit\n",
    "\n",
    "def measure_time(operation, setup, repeat=3, number=1000):\n",
    "    times = timeit.repeat(operation, setup, repeat=repeat, number=number)\n",
    "    return min(times)\n",
    "\n",
    "setup = '''\n",
    "s = set(range(10000))\n",
    "element = 5000\n",
    "'''\n",
    "\n",
    "print(\"Time for set operations (lower is better):\")\n",
    "print(f\"Add:       {measure_time('s.add(10001)', setup):.6f} seconds\")\n",
    "print(f\"Remove:    {measure_time('s.remove(element)', setup):.6f} seconds\")\n",
    "print(f\"In:        {measure_time('element in s', setup):.6f} seconds\")\n",
    "print(f\"Union:     {measure_time('s.union(set(range(10000, 20000)))', setup):.6f} seconds\")\n",
    "print(f\"Intersect: {measure_time('s.intersection(set(range(5000, 15000)))', setup):.6f} seconds\")"
   ]
  },
  {
   "cell_type": "code",
   "execution_count": null,
   "metadata": {},
   "outputs": [],
   "source": [
    "# Memory usage of sets\n",
    "import sys\n",
    "\n",
    "small_set = set(range(10))\n",
    "large_set = set(range(10000))\n",
    "\n",
    "print(f\"Memory usage of small set: {sys.getsizeof(small_set)} bytes\")\n",
    "print(f\"Memory usage of large set: {sys.getsizeof(large_set)} bytes\")"
   ]
  },
  {
   "cell_type": "code",
   "execution_count": null,
   "metadata": {},
   "outputs": [],
   "source": [
    "# Optimizing set operations for large data sets\n",
    "import random\n",
    "\n",
    "# Generate large sets\n",
    "set1 = set(random.sample(range(1000000), 100000))\n",
    "set2 = set(random.sample(range(1000000), 100000))\n",
    "\n",
    "# Efficient way to find common elements\n",
    "common = set1.intersection(set2)\n",
    "\n",
    "# Less efficient way (for comparison)\n",
    "common_slow = set()\n",
    "for item in set1:\n",
    "    if item in set2:\n",
    "        common_slow.add(item)\n",
    "\n",
    "print(f\"Number of common elements: {len(common)}\")\n",
    "print(f\"Efficient and less efficient methods produce same result: {common == common_slow}\")"
   ]
  },
  {
   "cell_type": "markdown",
   "metadata": {},
   "source": [
    "These examples demonstrate the efficiency of set operations, especially for large data sets. Using built-in set methods is generally faster and more memory-efficient than implementing the same operations manually."
   ]
  },
  {
   "cell_type": "markdown",
   "metadata": {},
   "source": [
    "## 12. Iterating Over Sets with for Loops"
   ]
  },
  {
   "cell_type": "code",
   "execution_count": null,
   "metadata": {},
   "outputs": [],
   "source": [
    "# Basic set iteration\n",
    "fruits = {'apple', 'banana', 'cherry'}\n",
    "for fruit in fruits:\n",
    "    print(fruit)\n",
    "\n",
    "# Output:\n",
    "# cherry\n",
    "# banana\n",
    "# apple"
   ]
  },
  {
   "cell_type": "markdown",
   "metadata": {},
   "source": [
    "Explanation: This example demonstrates how to iterate over a set using a simple for loop. Note that sets are unordered, so the items may be printed in any order."
   ]
  },
  {
   "cell_type": "code",
   "execution_count": null,
   "metadata": {},
   "outputs": [],
   "source": [
    "# Iterating and performing operations\n",
    "numbers = {1, 2, 3, 4, 5}\n",
    "sum_of_squares = 0\n",
    "for num in numbers:\n",
    "    sum_of_squares += num ** 2\n",
    "print(f\"Sum of squares: {sum_of_squares}\")\n",
    "\n",
    "# Output: Sum of squares: 55"
   ]
  },
  {
   "cell_type": "markdown",
   "metadata": {},
   "source": [
    "Explanation: This example shows how to iterate over a set of numbers and perform calculations with each element."
   ]
  },
  {
   "cell_type": "markdown",
   "metadata": {},
   "source": [
    "## 13. Using enumerate() with Sets"
   ]
  },
  {
   "cell_type": "code",
   "execution_count": null,
   "metadata": {},
   "outputs": [],
   "source": [
    "# Basic usage of enumerate() with sets\n",
    "colors = {'red', 'green', 'blue'}\n",
    "for index, color in enumerate(colors):\n",
    "    print(f\"Index {index}: {color}\")\n",
    "\n",
    "# Output:\n",
    "# Index 0: blue\n",
    "# Index 1: red\n",
    "# Index 2: green"
   ]
  },
  {
   "cell_type": "markdown",
   "metadata": {},
   "source": [
    "Explanation: `enumerate()` allows you to iterate over a set while keeping track of the iteration count. Remember that the order of items in a set is arbitrary."
   ]
  },
  {
   "cell_type": "code",
   "execution_count": null,
   "metadata": {},
   "outputs": [],
   "source": [
    "# Using enumerate() with a custom start index\n",
    "animals = {'cat', 'dog', 'elephant'}\n",
    "for count, animal in enumerate(animals, start=1):\n",
    "    print(f\"Animal {count}: {animal}\")\n",
    "\n",
    "# Output:\n",
    "# Animal 1: elephant\n",
    "# Animal 2: cat\n",
    "# Animal 3: dog"
   ]
  },
  {
   "cell_type": "markdown",
   "metadata": {},
   "source": [
    "Explanation: You can specify a custom start index for `enumerate()` using the `start` parameter."
   ]
  },
  {
   "cell_type": "markdown",
   "metadata": {},
   "source": [
    "## 14. Set Comprehensions for Iteration"
   ]
  },
  {
   "cell_type": "code",
   "execution_count": null,
   "metadata": {},
   "outputs": [],
   "source": [
    "# Basic set comprehension\n",
    "numbers = {1, 2, 3, 4, 5}\n",
    "squared_numbers = {x**2 for x in numbers}\n",
    "print(squared_numbers)\n",
    "\n",
    "# Output: {1, 4, 9, 16, 25}"
   ]
  },
  {
   "cell_type": "markdown",
   "metadata": {},
   "source": [
    "Explanation: Set comprehensions provide a concise way to create new sets based on existing sets. This example creates a new set with the squares of the original numbers."
   ]
  },
  {
   "cell_type": "code",
   "execution_count": null,
   "metadata": {},
   "outputs": [],
   "source": [
    "# Set comprehension with conditions\n",
    "numbers = {1, 2, 3, 4, 5, 6, 7, 8, 9, 10}\n",
    "even_squares = {x**2 for x in numbers if x % 2 == 0}\n",
    "print(even_squares)\n",
    "\n",
    "# Output: {4, 16, 36, 64, 100}"
   ]
  },
  {
   "cell_type": "markdown",
   "metadata": {},
   "source": [
    "Explanation: You can include conditions in set comprehensions to filter elements. This example creates a set of squares of even numbers only."
   ]
  },
  {
   "cell_type": "markdown",
   "metadata": {},
   "source": [
    "# Best Practices for Working with Sets\n",
    "\n",
    "This section covers best practices for using sets effectively in Python, including when to use them and how to perform efficient operations."
   ]
  },
  {
   "cell_type": "markdown",
   "metadata": {},
   "source": [
    "## Choosing Sets for Uniqueness and Membership Testing"
   ]
  },
  {
   "cell_type": "code",
   "execution_count": null,
   "metadata": {},
   "outputs": [],
   "source": [
    "# Using a set for efficient membership testing\n",
    "valid_users = {'alice', 'bob', 'charlie'}\n",
    "\n",
    "def check_user(username):\n",
    "    return username in valid_users\n",
    "\n",
    "print(check_user('alice'))  # Output: True\n",
    "print(check_user('dave'))   # Output: False"
   ]
  },
  {
   "cell_type": "markdown",
   "metadata": {},
   "source": [
    "Explanation: Sets are ideal for membership testing because they offer O(1) average time complexity for the `in` operation, making them more efficient than lists for this purpose."
   ]
  },
  {
   "cell_type": "code",
   "execution_count": null,
   "metadata": {},
   "outputs": [],
   "source": [
    "# Using a set to remove duplicates\n",
    "numbers = [1, 2, 2, 3, 4, 4, 5]\n",
    "unique_numbers = set(numbers)\n",
    "print(unique_numbers)\n",
    "\n",
    "# Output: {1, 2, 3, 4, 5}"
   ]
  },
  {
   "cell_type": "markdown",
   "metadata": {},
   "source": [
    "Explanation: Sets automatically remove duplicates, making them useful for quickly obtaining unique elements from a collection."
   ]
  },
  {
   "cell_type": "markdown",
   "metadata": {},
   "source": [
    "## Avoiding Overuse of Sets for Ordered Data"
   ]
  },
  {
   "cell_type": "code",
   "execution_count": null,
   "metadata": {},
   "outputs": [],
   "source": [
    "# Bad practice: Using a set for ordered data\n",
    "steps = {'mix ingredients', 'bake for 20 minutes', 'preheat oven'}\n",
    "for step in steps:\n",
    "    print(step)\n",
    "\n",
    "# Output (order may vary):\n",
    "# preheat oven\n",
    "# mix ingredients\n",
    "# bake for 20 minutes"
   ]
  },
  {
   "cell_type": "markdown",
   "metadata": {},
   "source": [
    "Explanation: Sets are unordered, so they're not suitable for data where order matters. In this case, a list would be more appropriate."
   ]
  },
  {
   "cell_type": "code",
   "execution_count": null,
   "metadata": {},
   "outputs": [],
   "source": [
    "# Good practice: Using a list for ordered data\n",
    "steps = ['preheat oven', 'mix ingredients', 'bake for 20 minutes']\n",
    "for step in steps:\n",
    "    print(step)\n",
    "\n",
    "# Output:\n",
    "# preheat oven\n",
    "# mix ingredients\n",
    "# bake for 20 minutes"
   ]
  },
  {
   "cell_type": "markdown",
   "metadata": {},
   "source": [
    "Explanation: When order matters, use a list or another ordered collection instead of a set."
   ]
  },
  {
   "cell_type": "markdown",
   "metadata": {},
   "source": [
    "## Efficient Set Operations in Real-World Applications"
   ]
  },
  {
   "cell_type": "code",
   "execution_count": null,
   "metadata": {},
   "outputs": [],
   "source": [
    "# Efficient set operations for data analysis\n",
    "users_a = {'alice', 'bob', 'charlie', 'david'}\n",
    "users_b = {'bob', 'david', 'eve', 'frank'}\n",
    "\n",
    "# Users in both sets\n",
    "common_users = users_a & users_b\n",
    "print(\"Common users:\", common_users)\n",
    "\n",
    "# Users in either set\n",
    "all_users = users_a | users_b\n",
    "print(\"All users:\", all_users)\n",
    "\n",
    "# Users in A but not in B\n",
    "unique_to_a = users_a - users_b\n",
    "print(\"Users only in A:\", unique_to_a)\n",
    "\n",
    "# Output:\n",
    "# Common users: {'bob', 'david'}\n",
    "# All users: {'alice', 'bob', 'charlie', 'david', 'eve', 'frank'}\n",
    "# Users only in A: {'alice', 'charlie'}"
   ]
  },
  {
   "cell_type": "markdown",
   "metadata": {},
   "source": [
    "Explanation: Set operations like intersection (`&`), union (`|`), and difference (`-`) are very efficient and useful for comparing data sets in real-world applications."
   ]
  },
  {
   "cell_type": "code",
   "execution_count": null,
   "metadata": {},
   "outputs": [],
   "source": [
    "# Using sets for efficient duplicate removal in a list\n",
    "def remove_duplicates(items):\n",
    "    return list(set(items))\n",
    "\n",
    "original_list = [1, 2, 2, 3, 4, 4, 5, 5]\n",
    "unique_list = remove_duplicates(original_list)\n",
    "print(unique_list)\n",
    "\n",
    "# Output: [1, 2, 3, 4, 5]"
   ]
  },
  {
   "cell_type": "markdown",
   "metadata": {},
   "source": [
    "Explanation: Converting a list to a set and back to a list is an efficient way to remove duplicates, especially for large datasets."
   ]
  }
 ],
 "metadata": {
  "kernelspec": {
   "display_name": "Python 3",
   "language": "python",
   "name": "python3"
  },
  "language_info": {
   "codemirror_mode": {
    "name": "ipython",
    "version": 3
   },
   "file_extension": ".py",
   "mimetype": "text/x-python",
   "name": "python",
   "nbconvert_exporter": "python",
   "pygments_lexer": "ipython3",
   "version": "3.8.5"
  }
 },
 "nbformat": 4,
 "nbformat_minor": 4
}
