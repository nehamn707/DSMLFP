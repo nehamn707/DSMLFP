{
  "nbformat": 4,
  "nbformat_minor": 0,
  "metadata": {
    "colab": {
      "provenance": []
    },
    "kernelspec": {
      "name": "python3",
      "display_name": "Python 3"
    },
    "language_info": {
      "name": "python"
    }
  },
  "cells": [
    {
      "cell_type": "markdown",
      "source": [
        "# **Python Lists: A Comprehensive Guide**\n",
        "Introduction\\\n",
        "\\\n",
        "**What is a list?**\\\n",
        "\\\n",
        "A list is a collection of items stored in a single variable.\\\n",
        "It is ordered, changeable, and allows duplicate members.\\\n",
        "It is one of the most versatile data structures in Python.\\\n",
        "\\\n",
        "**Why use lists?**\\\n",
        "\\\n",
        "Store multiple values in a single variable.\\\n",
        "Access and manipulate elements easily.\\\n",
        "Perform various operations efficiently."
      ],
      "metadata": {
        "id": "MXOku4r_Zf5_"
      }
    },
    {
      "cell_type": "markdown",
      "source": [
        "### **1. Creating Lists**\n",
        "Basic syntax: **`my_list = [item1, item2, item3]`**"
      ],
      "metadata": {
        "id": "0ZT-v2D8Z3U8"
      }
    },
    {
      "cell_type": "code",
      "execution_count": 2,
      "metadata": {
        "id": "yTadWiQ5ZZIC"
      },
      "outputs": [],
      "source": [
        "fruits = [\"apple\", \"banana\", \"cherry\"]\n",
        "numbers = [1, 2, 3, 4, 5]\n",
        "mixed_list = [\"hello\", 23, True, [1, 2, 3]]"
      ]
    },
    {
      "cell_type": "markdown",
      "source": [
        "### **2. Accessing List Elements**"
      ],
      "metadata": {
        "id": "GVeXkl3UaTAr"
      }
    },
    {
      "cell_type": "markdown",
      "source": [
        "**Indexing**"
      ],
      "metadata": {
        "id": "jReEqAJPaYIB"
      }
    },
    {
      "cell_type": "code",
      "source": [
        "# Access elements by their position (index starts from 0).\\\n",
        "fruits = [\"apple\", \"banana\", \"cherry\"]\n",
        "print(fruits[0])"
      ],
      "metadata": {
        "colab": {
          "base_uri": "https://localhost:8080/"
        },
        "id": "674hJcvNaYd7",
        "outputId": "143dc705-2ecc-4a32-e758-2f0d43d26116"
      },
      "execution_count": 1,
      "outputs": [
        {
          "output_type": "stream",
          "name": "stdout",
          "text": [
            "apple\n"
          ]
        }
      ]
    },
    {
      "cell_type": "code",
      "source": [
        "print(fruits[-1])"
      ],
      "metadata": {
        "colab": {
          "base_uri": "https://localhost:8080/"
        },
        "id": "lGo_PHXwaY7l",
        "outputId": "d1565c6a-172f-4eb3-ba9d-6e3961304d5d"
      },
      "execution_count": 3,
      "outputs": [
        {
          "output_type": "stream",
          "name": "stdout",
          "text": [
            "cherry\n"
          ]
        }
      ]
    },
    {
      "cell_type": "markdown",
      "source": [
        "**Slicing**"
      ],
      "metadata": {
        "id": "PViztsPxarJH"
      }
    },
    {
      "cell_type": "code",
      "source": [
        "# Access a range of elements.\n",
        "print(fruits[1:3])"
      ],
      "metadata": {
        "colab": {
          "base_uri": "https://localhost:8080/"
        },
        "id": "3KAtLd-saY4I",
        "outputId": "76b4fe35-ca4d-49c9-e600-1e1c8a9a02a4"
      },
      "execution_count": 4,
      "outputs": [
        {
          "output_type": "stream",
          "name": "stdout",
          "text": [
            "['banana', 'cherry']\n"
          ]
        }
      ]
    },
    {
      "cell_type": "code",
      "source": [
        "# Using step size\n",
        "numbers = [0, 1, 2, 3, 4, 5, 6, 7, 8, 9]\n",
        "print(numbers[::2])"
      ],
      "metadata": {
        "colab": {
          "base_uri": "https://localhost:8080/"
        },
        "id": "QjWcSfKafaCO",
        "outputId": "85937111-86ff-4289-9f49-ea0587ef8fb2"
      },
      "execution_count": 30,
      "outputs": [
        {
          "output_type": "stream",
          "name": "stdout",
          "text": [
            "[0, 2, 4, 6, 8]\n"
          ]
        }
      ]
    },
    {
      "cell_type": "code",
      "source": [
        "# reversing slices\n",
        "numbers = [0, 1, 2, 3, 4, 5, 6, 7, 8, 9]\n",
        "print(numbers[::-1])"
      ],
      "metadata": {
        "colab": {
          "base_uri": "https://localhost:8080/"
        },
        "id": "E2EXnBpkfg9B",
        "outputId": "f7064fce-6cef-46f7-fcb1-b00ed31428a5"
      },
      "execution_count": 31,
      "outputs": [
        {
          "output_type": "stream",
          "name": "stdout",
          "text": [
            "[9, 8, 7, 6, 5, 4, 3, 2, 1, 0]\n"
          ]
        }
      ]
    },
    {
      "cell_type": "markdown",
      "source": [
        "### **3. Lists Methods**"
      ],
      "metadata": {
        "id": "GyyrJuD2a0hU"
      }
    },
    {
      "cell_type": "markdown",
      "source": [
        "**Changing element**"
      ],
      "metadata": {
        "id": "jH0r6sWfa8G6"
      }
    },
    {
      "cell_type": "code",
      "source": [
        "fruits = [\"apple\", \"banana\", \"cherry\"]\n",
        "fruits[0] = \"orange\"\n",
        "print(fruits)"
      ],
      "metadata": {
        "colab": {
          "base_uri": "https://localhost:8080/"
        },
        "id": "eH-roMvEaY14",
        "outputId": "c1f8065e-288f-4f63-fbdb-a5619027e412"
      },
      "execution_count": 5,
      "outputs": [
        {
          "output_type": "stream",
          "name": "stdout",
          "text": [
            "['orange', 'banana', 'cherry']\n"
          ]
        }
      ]
    },
    {
      "cell_type": "markdown",
      "source": [
        "**Adding elements**\\\n",
        "\\\n",
        "**`append()`** adds an element to the end.\\\n",
        "**`insert()`** adds an element at a specific position.\\\n",
        "**`extend(iterable)`**: Appends the elements from an iterable to the end of the list."
      ],
      "metadata": {
        "id": "2PFNj4EtbFB8"
      }
    },
    {
      "cell_type": "code",
      "source": [
        "fruits = [\"apple\", \"banana\", \"cherry\"]\n",
        "fruits.append(\"grape\")\n",
        "print(fruits)"
      ],
      "metadata": {
        "colab": {
          "base_uri": "https://localhost:8080/"
        },
        "id": "hxbC1vzZaYzx",
        "outputId": "d848a7b9-6921-4826-da80-9a6df6b07814"
      },
      "execution_count": 17,
      "outputs": [
        {
          "output_type": "stream",
          "name": "stdout",
          "text": [
            "['apple', 'banana', 'cherry', 'grape']\n"
          ]
        }
      ]
    },
    {
      "cell_type": "code",
      "source": [
        "fruits.insert(1, \"kiwi\")\n",
        "print(fruits)"
      ],
      "metadata": {
        "colab": {
          "base_uri": "https://localhost:8080/"
        },
        "id": "YbwbmZMsdvZS",
        "outputId": "36551e19-1b54-446d-8476-068ef96823c4"
      },
      "execution_count": 18,
      "outputs": [
        {
          "output_type": "stream",
          "name": "stdout",
          "text": [
            "['apple', 'kiwi', 'banana', 'cherry', 'grape']\n"
          ]
        }
      ]
    },
    {
      "cell_type": "code",
      "source": [
        "list1 = [1, 2]\n",
        "list2 = [3, 4, 5]\n",
        "list1.extend(list2)\n",
        "print(list1)"
      ],
      "metadata": {
        "colab": {
          "base_uri": "https://localhost:8080/"
        },
        "id": "YVk7-epodyYI",
        "outputId": "be78d827-5ce7-4851-b832-7eb7ba5819ed"
      },
      "execution_count": 19,
      "outputs": [
        {
          "output_type": "stream",
          "name": "stdout",
          "text": [
            "[1, 2, 3, 4, 5]\n"
          ]
        }
      ]
    },
    {
      "cell_type": "markdown",
      "source": [
        "**Removing elements**\\\n",
        "\\\n",
        "**`remove()`** removes the first occurrence of a specified value.\\\n",
        "**`pop()`** removes and returns the element at a specified index.\\\n",
        "**`del`** deletes the element at a specified index.\\\n",
        "**`clear()`**: Removes all items from the list."
      ],
      "metadata": {
        "id": "2H-ySoJ6baV5"
      }
    },
    {
      "cell_type": "code",
      "source": [
        "colors = ['red', 'green', 'blue', 'red']\n",
        "colors.remove('red')\n",
        "print(colors)  # Output: ['green', 'blue', 'red']"
      ],
      "metadata": {
        "colab": {
          "base_uri": "https://localhost:8080/"
        },
        "id": "rGUXzmwkaYxL",
        "outputId": "41f252fa-5ccf-497b-fa04-0a7b29164407"
      },
      "execution_count": 13,
      "outputs": [
        {
          "output_type": "stream",
          "name": "stdout",
          "text": [
            "['green', 'blue', 'red']\n"
          ]
        }
      ]
    },
    {
      "cell_type": "code",
      "source": [
        "numbers = [1, 2, 3, 4]\n",
        "removed_item = numbers.pop(2)\n",
        "print(numbers)  # Output: [1, 2, 4]\n",
        "print(removed_item)  # Output: 3"
      ],
      "metadata": {
        "colab": {
          "base_uri": "https://localhost:8080/"
        },
        "id": "rkblTB_ldR1V",
        "outputId": "757b9fb6-8166-4f4b-f80f-9751a9615957"
      },
      "execution_count": 14,
      "outputs": [
        {
          "output_type": "stream",
          "name": "stdout",
          "text": [
            "[1, 2, 4]\n",
            "3\n"
          ]
        }
      ]
    },
    {
      "cell_type": "code",
      "source": [
        "numbers = [1, 2, 3, 4]\n",
        "del(numbers[0])\n",
        "print(numbers)  # Output: [2, 3, 4]"
      ],
      "metadata": {
        "colab": {
          "base_uri": "https://localhost:8080/"
        },
        "id": "9kAvg655dRyJ",
        "outputId": "12724336-e7e0-4dde-c9a6-604e1a0af0c1"
      },
      "execution_count": 16,
      "outputs": [
        {
          "output_type": "stream",
          "name": "stdout",
          "text": [
            "[2, 3, 4]\n"
          ]
        }
      ]
    },
    {
      "cell_type": "code",
      "source": [
        "my_list = [1, 2, 3]\n",
        "my_list.clear()\n",
        "print(my_list)"
      ],
      "metadata": {
        "colab": {
          "base_uri": "https://localhost:8080/"
        },
        "id": "8G0ESeF9dL9H",
        "outputId": "4582cef6-2029-4af6-cae2-40bad7492e86"
      },
      "execution_count": 12,
      "outputs": [
        {
          "output_type": "stream",
          "name": "stdout",
          "text": [
            "[]\n"
          ]
        }
      ]
    },
    {
      "cell_type": "markdown",
      "source": [
        "**Finding Elements**\\\n",
        "**`index(item)`**: Returns the index of the first occurrence of an item.\\\n",
        "**`count(item)`**: Returns the number of occurrences of an item."
      ],
      "metadata": {
        "id": "7J97Ms9Hd68A"
      }
    },
    {
      "cell_type": "code",
      "source": [
        "fruits = ['apple', 'banana', 'cherry']\n",
        "index = fruits.index('banana')\n",
        "print(index)  # Output: 1"
      ],
      "metadata": {
        "colab": {
          "base_uri": "https://localhost:8080/"
        },
        "id": "wLUAFoBwd8Jd",
        "outputId": "55209c1d-dc8c-4c19-f40a-6fa01678b68b"
      },
      "execution_count": 20,
      "outputs": [
        {
          "output_type": "stream",
          "name": "stdout",
          "text": [
            "1\n"
          ]
        }
      ]
    },
    {
      "cell_type": "code",
      "source": [
        "numbers = [1, 2, 2, 3, 1]\n",
        "count = numbers.count(2)\n",
        "print(count)  # Output: 2"
      ],
      "metadata": {
        "colab": {
          "base_uri": "https://localhost:8080/"
        },
        "id": "CJ3UWZj8d8um",
        "outputId": "7aaa82f7-684d-4ed9-dabc-c6de78ae8f20"
      },
      "execution_count": 21,
      "outputs": [
        {
          "output_type": "stream",
          "name": "stdout",
          "text": [
            "2\n"
          ]
        }
      ]
    },
    {
      "cell_type": "markdown",
      "source": [
        "**Sorting and Reversing**\\\n",
        "**`sort()`**: Sorts the list in ascending order.\\\n",
        "**`reverse()`**: Reverses the order of the list."
      ],
      "metadata": {
        "id": "LIxdJl0heOjB"
      }
    },
    {
      "cell_type": "code",
      "source": [
        "numbers = [3, 1, 4, 1, 5, 9]\n",
        "numbers.sort()\n",
        "print(numbers)  # Output: [1, 1, 3, 4, 5, 9]"
      ],
      "metadata": {
        "colab": {
          "base_uri": "https://localhost:8080/"
        },
        "id": "2gCu_QItd8qz",
        "outputId": "c78da0c9-e1c5-4658-a573-fb388382f178"
      },
      "execution_count": 23,
      "outputs": [
        {
          "output_type": "stream",
          "name": "stdout",
          "text": [
            "[1, 1, 3, 4, 5, 9]\n"
          ]
        }
      ]
    },
    {
      "cell_type": "code",
      "source": [
        "letters = ['a', 'b', 'c']\n",
        "letters.reverse()\n",
        "print(letters)  # Output: ['c', 'b', 'a']"
      ],
      "metadata": {
        "colab": {
          "base_uri": "https://localhost:8080/"
        },
        "id": "k8NhYHNAd8pT",
        "outputId": "2214c0e4-f45f-44a5-c1b5-f6bd51ca638a"
      },
      "execution_count": 22,
      "outputs": [
        {
          "output_type": "stream",
          "name": "stdout",
          "text": [
            "['c', 'b', 'a']\n"
          ]
        }
      ]
    },
    {
      "cell_type": "markdown",
      "source": [
        "**`sort(key=)`** : The **`sort()`** method sorts a list in place. \\\n",
        "The key argument specifies a function that is used to extract a comparison key from each element."
      ],
      "metadata": {
        "id": "5HD6Bar6g-Ix"
      }
    },
    {
      "cell_type": "code",
      "source": [
        "numbers = [3, 1, 4, 1, 5, 9]\n",
        "\n",
        "# Sort in ascending order\n",
        "numbers.sort()\n",
        "print(numbers)"
      ],
      "metadata": {
        "colab": {
          "base_uri": "https://localhost:8080/"
        },
        "id": "Nb2ia8_jg9sb",
        "outputId": "c64b2e34-1041-4f99-bfca-979f6c9a76cc"
      },
      "execution_count": 35,
      "outputs": [
        {
          "output_type": "stream",
          "name": "stdout",
          "text": [
            "[1, 1, 3, 4, 5, 9]\n"
          ]
        }
      ]
    },
    {
      "cell_type": "code",
      "source": [
        "# Sort in descending order\n",
        "numbers.sort(reverse=True)\n",
        "print(numbers)  # Output: [9, 5, 4, 3, 1, 1]"
      ],
      "metadata": {
        "colab": {
          "base_uri": "https://localhost:8080/"
        },
        "id": "GShqfcZ6hLwN",
        "outputId": "71385192-6636-465f-a5b0-e1b16f270657"
      },
      "execution_count": 36,
      "outputs": [
        {
          "output_type": "stream",
          "name": "stdout",
          "text": [
            "[9, 5, 4, 3, 1, 1]\n"
          ]
        }
      ]
    },
    {
      "cell_type": "code",
      "source": [
        "# Sort a list of tuples by the second element\n",
        "students = [('Alice', 95), ('Bob', 88), ('Charlie', 92)]\n",
        "students.sort(key=lambda x: x[1])\n",
        "print(students)"
      ],
      "metadata": {
        "colab": {
          "base_uri": "https://localhost:8080/"
        },
        "id": "HGswQR8WhLsz",
        "outputId": "e6d02db6-6b0f-4185-ad30-f25fb299dbc8"
      },
      "execution_count": 37,
      "outputs": [
        {
          "output_type": "stream",
          "name": "stdout",
          "text": [
            "[('Bob', 88), ('Charlie', 92), ('Alice', 95)]\n"
          ]
        }
      ]
    },
    {
      "cell_type": "markdown",
      "source": [
        "**Other useful methods**\\\n",
        "**`copy()`**: Returns a shallow copy of the list."
      ],
      "metadata": {
        "id": "rsjRrt76emlI"
      }
    },
    {
      "cell_type": "code",
      "source": [
        "list1 = [1, 2, 3]\n",
        "list2 = list1.copy()\n",
        "print(list2)  # Output: [1, 2, 3]"
      ],
      "metadata": {
        "colab": {
          "base_uri": "https://localhost:8080/"
        },
        "id": "st9WqgAkd8nI",
        "outputId": "9e327708-a7f7-46e8-ecd1-9f9bf7c74798"
      },
      "execution_count": 24,
      "outputs": [
        {
          "output_type": "stream",
          "name": "stdout",
          "text": [
            "[1, 2, 3]\n"
          ]
        }
      ]
    },
    {
      "cell_type": "markdown",
      "source": [
        "### **4. List Unpacking**\n",
        "List unpacking allows you to assign elements from a list to multiple variables in a single line."
      ],
      "metadata": {
        "id": "vA8ipZVXe022"
      }
    },
    {
      "cell_type": "code",
      "source": [
        "# Basic Unpacking\n",
        "my_list = [1, 2, 3]\n",
        "a, b, c = my_list\n",
        "print(a, b, c)  # Output: 1 2 3"
      ],
      "metadata": {
        "colab": {
          "base_uri": "https://localhost:8080/"
        },
        "id": "cydNiVbLex4d",
        "outputId": "b5a1dcf3-7d33-4d4c-adb1-7d9aa80ea8cc"
      },
      "execution_count": 25,
      "outputs": [
        {
          "output_type": "stream",
          "name": "stdout",
          "text": [
            "1 2 3\n"
          ]
        }
      ]
    },
    {
      "cell_type": "code",
      "source": [
        "# Unpacking with *\n",
        "my_list = [1, 2, 3, 4, 5]\n",
        "a, b, *rest = my_list\n",
        "print(a, b)  # Output: 1 2\n",
        "print(rest)  # Output: [3, 4, 5]"
      ],
      "metadata": {
        "colab": {
          "base_uri": "https://localhost:8080/"
        },
        "id": "pLmF4wPRfAPJ",
        "outputId": "6587ff8b-f851-452c-fb7f-af07619ddede"
      },
      "execution_count": 26,
      "outputs": [
        {
          "output_type": "stream",
          "name": "stdout",
          "text": [
            "1 2\n",
            "[3, 4, 5]\n"
          ]
        }
      ]
    },
    {
      "cell_type": "code",
      "source": [
        "# Ignoring Elements\n",
        "my_list = [1, 2, 3, 4, 5]\n",
        "a, _, c, *rest = my_list\n",
        "print(a, c)  # Output: 1 3\n",
        "print(rest)  # Output: [4, 5]"
      ],
      "metadata": {
        "colab": {
          "base_uri": "https://localhost:8080/"
        },
        "id": "e0phxLbAfG0g",
        "outputId": "b28ad761-9cc0-436a-b4ca-61cd83202940"
      },
      "execution_count": 27,
      "outputs": [
        {
          "output_type": "stream",
          "name": "stdout",
          "text": [
            "1 3\n",
            "[4, 5]\n"
          ]
        }
      ]
    },
    {
      "cell_type": "code",
      "source": [
        "# Unpacking Nested Lists\n",
        "my_list = [1, [2, 3], 4]\n",
        "a, (b, c), d = my_list\n",
        "print(a, b, c, d)  # Output: 1 2 3 4"
      ],
      "metadata": {
        "colab": {
          "base_uri": "https://localhost:8080/"
        },
        "id": "77EM8t_ufLG6",
        "outputId": "89e21d8e-5aee-49b4-b1fb-c80bb288884c"
      },
      "execution_count": 28,
      "outputs": [
        {
          "output_type": "stream",
          "name": "stdout",
          "text": [
            "1 2 3 4\n"
          ]
        }
      ]
    },
    {
      "cell_type": "markdown",
      "source": [
        "### **4. List Length and Membership**"
      ],
      "metadata": {
        "id": "GD33-b5mb0Qk"
      }
    },
    {
      "cell_type": "markdown",
      "source": [
        "**`len()`** function: Returns the number of elements in the list.\n"
      ],
      "metadata": {
        "id": "daepgLwub3vY"
      }
    },
    {
      "cell_type": "code",
      "source": [
        "fruits = ['apple', 'kiwi', 'banana', 'cherry', 'grape']\n",
        "print(len(fruits))"
      ],
      "metadata": {
        "colab": {
          "base_uri": "https://localhost:8080/"
        },
        "id": "7yv2h7SyaYuh",
        "outputId": "53a60759-6072-422c-f5cf-c2b522e94f4d"
      },
      "execution_count": 8,
      "outputs": [
        {
          "output_type": "stream",
          "name": "stdout",
          "text": [
            "5\n"
          ]
        }
      ]
    },
    {
      "cell_type": "markdown",
      "source": [
        "**`in`** and **`not in`** operators: Check if an element is present in the list."
      ],
      "metadata": {
        "id": "JRjNtP1FcCZy"
      }
    },
    {
      "cell_type": "code",
      "source": [
        "if \"apple\" in fruits:\n",
        "    print(\"Apple is present\")\n",
        "else:\n",
        "    print(\"Apple is not present\")"
      ],
      "metadata": {
        "colab": {
          "base_uri": "https://localhost:8080/"
        },
        "id": "OgZDuYr0b_vO",
        "outputId": "bb5673e3-3a9f-4ecd-b689-153f8fd3ea64"
      },
      "execution_count": 9,
      "outputs": [
        {
          "output_type": "stream",
          "name": "stdout",
          "text": [
            "Apple is present\n"
          ]
        }
      ]
    },
    {
      "cell_type": "markdown",
      "source": [
        "### **5. List Operations**"
      ],
      "metadata": {
        "id": "LyrHMLnhcR9j"
      }
    },
    {
      "cell_type": "markdown",
      "source": [
        "**Concatenation**: Combine two lists using the `+` operator."
      ],
      "metadata": {
        "id": "ZQjOfpiucWtC"
      }
    },
    {
      "cell_type": "code",
      "source": [
        "list1 = [1, 2, 3]\n",
        "list2 = [4, 5, 6]\n",
        "combined_list = list1 + list2\n",
        "print(combined_list)"
      ],
      "metadata": {
        "colab": {
          "base_uri": "https://localhost:8080/"
        },
        "id": "iDNb7oePcNcq",
        "outputId": "778fbb14-8258-4b28-fbc4-1b6a3b9571ba"
      },
      "execution_count": 10,
      "outputs": [
        {
          "output_type": "stream",
          "name": "stdout",
          "text": [
            "[1, 2, 3, 4, 5, 6]\n"
          ]
        }
      ]
    },
    {
      "cell_type": "markdown",
      "source": [
        "**Repetition**: Repeat a list using the * operator."
      ],
      "metadata": {
        "id": "0XrYl4f-ciLi"
      }
    },
    {
      "cell_type": "code",
      "source": [
        "repeated_list = [0] * 5\n",
        "print(repeated_list)"
      ],
      "metadata": {
        "colab": {
          "base_uri": "https://localhost:8080/"
        },
        "id": "sq_1gmnacfWA",
        "outputId": "9bb7eda8-650e-40c3-8ce5-1bbc21639606"
      },
      "execution_count": 11,
      "outputs": [
        {
          "output_type": "stream",
          "name": "stdout",
          "text": [
            "[0, 0, 0, 0, 0]\n"
          ]
        }
      ]
    },
    {
      "cell_type": "markdown",
      "source": [
        "### **6. List Comprehension**\n",
        "List comprehensions are often more concise and potentially faster than traditional loops. However, for complex logic, loops might be more readable."
      ],
      "metadata": {
        "id": "N50wWggac4d1"
      }
    },
    {
      "cell_type": "code",
      "source": [
        "# Conditional logic in list comprehensions\n",
        "even_numbers = [x for x in range(10) if x % 2 == 0]\n",
        "print(even_numbers)  # Output: [0, 2, 4, 6, 8]"
      ],
      "metadata": {
        "colab": {
          "base_uri": "https://localhost:8080/"
        },
        "id": "Suh8bBVbceau",
        "outputId": "0104b49b-1966-4379-f6b1-bf5977bdc7e9"
      },
      "execution_count": 32,
      "outputs": [
        {
          "output_type": "stream",
          "name": "stdout",
          "text": [
            "[0, 2, 4, 6, 8]\n"
          ]
        }
      ]
    },
    {
      "cell_type": "code",
      "source": [
        "# Nested list comprehensions\n",
        "matrix = [[j for j in range(3)] for i in range(2)]\n",
        "print(matrix)  # Output: [[0, 1, 2], [0, 1, 2]]"
      ],
      "metadata": {
        "colab": {
          "base_uri": "https://localhost:8080/"
        },
        "id": "7p6LLQLucfSt",
        "outputId": "b8a7b2b0-3fec-4dab-eb28-9c724d3924d7"
      },
      "execution_count": 33,
      "outputs": [
        {
          "output_type": "stream",
          "name": "stdout",
          "text": [
            "[[0, 1, 2], [0, 1, 2]]\n"
          ]
        }
      ]
    },
    {
      "cell_type": "markdown",
      "source": [
        "**Other Important Methods**"
      ],
      "metadata": {
        "id": "YMhHqGYMhgO1"
      }
    },
    {
      "cell_type": "markdown",
      "source": [
        "The **`enumerate()`** function returns an enumerate object. \\\n",
        "This object can be used to iterate over a sequence while keeping track of the index of each element.\n"
      ],
      "metadata": {
        "id": "HETuO9cQg2A0"
      }
    },
    {
      "cell_type": "code",
      "source": [
        "fruits = ['apple', 'banana', 'cherry']\n",
        "for index, fruit in enumerate(fruits):\n",
        "    print(index, fruit)"
      ],
      "metadata": {
        "colab": {
          "base_uri": "https://localhost:8080/"
        },
        "id": "aew7t-7-cfQn",
        "outputId": "26aa8396-b288-466d-e4ee-0fd333d4db4c"
      },
      "execution_count": 34,
      "outputs": [
        {
          "output_type": "stream",
          "name": "stdout",
          "text": [
            "0 apple\n",
            "1 banana\n",
            "2 cherry\n"
          ]
        }
      ]
    },
    {
      "cell_type": "markdown",
      "source": [
        "The **`map()`** function applies a given function to each item of an iterable and returns an iterator of the results."
      ],
      "metadata": {
        "id": "IhiRCUWjhYHI"
      }
    },
    {
      "cell_type": "code",
      "source": [
        "numbers = [1, 2, 3, 4]\n",
        "squared = map(lambda x: x**2, numbers)\n",
        "print(list(squared))  # Output: [1, 4, 9, 16]"
      ],
      "metadata": {
        "colab": {
          "base_uri": "https://localhost:8080/"
        },
        "id": "ebaRjJfQcfOW",
        "outputId": "d6304093-265f-4811-8e6f-756de61fec5d"
      },
      "execution_count": 38,
      "outputs": [
        {
          "output_type": "stream",
          "name": "stdout",
          "text": [
            "[1, 4, 9, 16]\n"
          ]
        }
      ]
    },
    {
      "cell_type": "markdown",
      "source": [
        "The **`filter()`** function constructs an iterator from those elements of an iterable for which a function returns True."
      ],
      "metadata": {
        "id": "_GWb_34nhjrX"
      }
    },
    {
      "cell_type": "code",
      "source": [
        "numbers = [1, 2, 3, 4, 5]\n",
        "even_numbers = filter(lambda x: x % 2 == 0, numbers)\n",
        "print(list(even_numbers))  # Output: [2, 4]"
      ],
      "metadata": {
        "colab": {
          "base_uri": "https://localhost:8080/"
        },
        "id": "_3myv7SgcfMD",
        "outputId": "4d690c6f-cab2-4527-b3df-ea1671ac5762"
      },
      "execution_count": 39,
      "outputs": [
        {
          "output_type": "stream",
          "name": "stdout",
          "text": [
            "[2, 4]\n"
          ]
        }
      ]
    },
    {
      "cell_type": "markdown",
      "source": [
        "The **`reduce()`** function applies a function of two arguments cumulatively to the items of an iterable, from left to right, so as to reduce the iterable to a single value."
      ],
      "metadata": {
        "id": "rTbTF_CkhpXl"
      }
    },
    {
      "cell_type": "code",
      "source": [
        "from functools import reduce\n",
        "\n",
        "numbers = [1, 2, 3, 4]\n",
        "product = reduce(lambda x, y: x * y, numbers)\n",
        "print(product)  # Output: 24"
      ],
      "metadata": {
        "colab": {
          "base_uri": "https://localhost:8080/"
        },
        "id": "oi9bl8JjcfJg",
        "outputId": "2899c798-3cd5-4176-9503-8c875771194f"
      },
      "execution_count": 40,
      "outputs": [
        {
          "output_type": "stream",
          "name": "stdout",
          "text": [
            "24\n"
          ]
        }
      ]
    },
    {
      "cell_type": "code",
      "source": [],
      "metadata": {
        "id": "dTl1CnxUhue8"
      },
      "execution_count": null,
      "outputs": []
    }
  ]
}