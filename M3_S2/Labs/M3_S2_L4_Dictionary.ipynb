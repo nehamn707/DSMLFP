{
  "cells": [
    {
      "cell_type": "markdown",
      "metadata": {
        "id": "1zycBjjwiC84"
      },
      "source": [
        "# **Python Dictionaries: A Comprehensive Guide**\n",
        "\n",
        "Introduction\\\n",
        "**What is a dictionary?**\n",
        "\n",
        "A dictionary is an unordered collection of key-value pairs.\\\n",
        "Keys are unique identifiers for values.\\\n",
        "Dictionaries are mutable.\n",
        "\n",
        "**Why use dictionaries?**\n",
        "\n",
        "Efficiently store and retrieve data based on keys.\\\n",
        "Organize related data together.\\\n",
        "Create flexible data structures."
      ]
    },
    {
      "cell_type": "markdown",
      "metadata": {
        "id": "m0QcVRSJiT7S"
      },
      "source": [
        "### **1. Creating Dictionaries**"
      ]
    },
    {
      "cell_type": "markdown",
      "metadata": {
        "id": "386MS7nKibPN"
      },
      "source": [
        "Basic syntax : **`my_dict = {key1: value1, key2: value2, ...}`**"
      ]
    },
    {
      "cell_type": "code",
      "execution_count": null,
      "metadata": {
        "id": "RsLukdFjglVF"
      },
      "outputs": [],
      "source": [
        "person = {'name': 'Alice', 'age': 30, 'city': 'New York'}"
      ]
    },
    {
      "cell_type": "markdown",
      "metadata": {
        "id": "W4QJfnI8iiVv"
      },
      "source": [
        "### **2. Accessing Dictionary Elements**\n"
      ]
    },
    {
      "cell_type": "code",
      "execution_count": null,
      "metadata": {
        "colab": {
          "base_uri": "https://localhost:8080/"
        },
        "id": "18r2bd1Diisk",
        "outputId": "aa342b9f-bf19-4271-f8ac-64f95843cb68"
      },
      "outputs": [
        {
          "name": "stdout",
          "output_type": "stream",
          "text": [
            "Alice\n"
          ]
        }
      ],
      "source": [
        "# Using keys\n",
        "print(person['name'])"
      ]
    },
    {
      "cell_type": "code",
      "execution_count": null,
      "metadata": {
        "colab": {
          "base_uri": "https://localhost:8080/"
        },
        "id": "cCTrUIQjijgi",
        "outputId": "aad12bfe-234c-4473-9645-766003f6b63b"
      },
      "outputs": [
        {
          "name": "stdout",
          "output_type": "stream",
          "text": [
            "Unknown\n"
          ]
        }
      ],
      "source": [
        "# Using get() method : Returns the value for a key if it exists, otherwise returns a default value.\n",
        "print(person.get('country', 'Unknown'))  # Output: Unknown"
      ]
    },
    {
      "cell_type": "markdown",
      "metadata": {
        "id": "mWB9MMWHi1hP"
      },
      "source": [
        "### **3. Modifying Dictionaries**"
      ]
    },
    {
      "cell_type": "code",
      "execution_count": null,
      "metadata": {
        "colab": {
          "base_uri": "https://localhost:8080/"
        },
        "id": "lxFWp700ijeh",
        "outputId": "0b86335f-5232-45ff-cc28-59af66ad39db"
      },
      "outputs": [
        {
          "name": "stdout",
          "output_type": "stream",
          "text": [
            "{'name': 'Alice', 'age': 31, 'city': 'New York'}\n"
          ]
        }
      ],
      "source": [
        "# Changing values\n",
        "person['age'] = 31\n",
        "print(person)"
      ]
    },
    {
      "cell_type": "code",
      "execution_count": null,
      "metadata": {
        "colab": {
          "base_uri": "https://localhost:8080/"
        },
        "id": "DpEVWXrzijcL",
        "outputId": "4ba5b813-325d-4732-cf25-3857fbcf4a65"
      },
      "outputs": [
        {
          "name": "stdout",
          "output_type": "stream",
          "text": [
            "{'name': 'Alice', 'age': 31, 'city': 'New York', 'occupation': 'Engineer'}\n"
          ]
        }
      ],
      "source": [
        "# Adding new key-value pairs\n",
        "person['occupation'] = 'Engineer'\n",
        "print(person)"
      ]
    },
    {
      "cell_type": "markdown",
      "metadata": {
        "id": "dtqQUta5jIZ8"
      },
      "source": [
        "Removing key-value pairs:\\\n",
        "\\\n",
        "**`del`** keyword deletes a specific item.\\\n",
        "**`pop()`** removes and returns an item.\\\n",
        "**`popitem()`** removes and returns a random item."
      ]
    },
    {
      "cell_type": "code",
      "execution_count": null,
      "metadata": {
        "colab": {
          "base_uri": "https://localhost:8080/"
        },
        "id": "yukYWeGvijZv",
        "outputId": "3abad667-0fbd-44fd-ec8d-b5d93f4f828e"
      },
      "outputs": [
        {
          "name": "stdout",
          "output_type": "stream",
          "text": [
            "{'a': 1, 'c': 3}\n"
          ]
        }
      ],
      "source": [
        "my_dict = {'a': 1, 'b': 2, 'c': 3}\n",
        "del my_dict['b']\n",
        "print(my_dict)  # Output: {'a': 1, 'c': 3}"
      ]
    },
    {
      "cell_type": "code",
      "execution_count": null,
      "metadata": {
        "colab": {
          "base_uri": "https://localhost:8080/"
        },
        "id": "UYdmc82cijXQ",
        "outputId": "92021309-425a-4de4-a14d-76304c8e920e"
      },
      "outputs": [
        {
          "name": "stdout",
          "output_type": "stream",
          "text": [
            "2\n",
            "{'a': 1, 'c': 3}\n",
            "Not found\n",
            "{'a': 1, 'c': 3}\n"
          ]
        }
      ],
      "source": [
        "my_dict = {'a': 1, 'b': 2, 'c': 3}\n",
        "value = my_dict.pop('b')\n",
        "print(value)  # Output: 2\n",
        "print(my_dict)  # Output: {'a': 1, 'c': 3}\n",
        "\n",
        "# With default value\n",
        "value = my_dict.pop('d', 'Not found')\n",
        "print(value)  # Output: Not found\n",
        "print(my_dict)  # Output: {'a': 1, 'c': 3}"
      ]
    },
    {
      "cell_type": "code",
      "execution_count": null,
      "metadata": {
        "colab": {
          "base_uri": "https://localhost:8080/"
        },
        "id": "OZM1fMCYijVC",
        "outputId": "dd0b9579-f412-45e7-a753-2ea7e247fc66"
      },
      "outputs": [
        {
          "name": "stdout",
          "output_type": "stream",
          "text": [
            "('c', 3)\n",
            "{'a': 1, 'b': 2}\n"
          ]
        }
      ],
      "source": [
        "my_dict = {'a': 1, 'b': 2, 'c': 3}\n",
        "item = my_dict.popitem()\n",
        "print(item)  # Output: ('c', 3)\n",
        "print(my_dict)  # Output: {'a': 1, 'b': 2}"
      ]
    },
    {
      "cell_type": "markdown",
      "metadata": {
        "id": "Jn_ApnLwj2qC"
      },
      "source": [
        "### **4. Dictionary Methods**"
      ]
    },
    {
      "cell_type": "markdown",
      "metadata": {
        "id": "B_MU35m8j97J"
      },
      "source": [
        "**Accessing Elements**\n",
        "\n",
        "**`get(key, default)`**: Returns the value for the specified key. If the key is not found, returns the default value (None if not specified)."
      ]
    },
    {
      "cell_type": "code",
      "execution_count": null,
      "metadata": {
        "id": "-bDv_Zs1kN6E"
      },
      "outputs": [],
      "source": [
        "my_dict = {'name': 'Alice', 'age': 30, 'city': 'New York'}"
      ]
    },
    {
      "cell_type": "code",
      "execution_count": null,
      "metadata": {
        "colab": {
          "base_uri": "https://localhost:8080/"
        },
        "id": "-GPOnlEIijSs",
        "outputId": "55aab458-1e7f-4062-b37c-fc81f71e5072"
      },
      "outputs": [
        {
          "name": "stdout",
          "output_type": "stream",
          "text": [
            "30\n",
            "Unknown\n"
          ]
        }
      ],
      "source": [
        "age = my_dict.get('age')\n",
        "print(age)  # Output: 30\n",
        "country = my_dict.get('country', 'Unknown')\n",
        "print(country)  # Output: Unknown"
      ]
    },
    {
      "cell_type": "markdown",
      "metadata": {
        "id": "GjwJCedckRJw"
      },
      "source": [
        "**Modifying Dictionary**\n",
        "\n",
        "**`update(other_dict)`**: Updates the dictionary with the key-value pairs from another dictionary or an iterable."
      ]
    },
    {
      "cell_type": "code",
      "execution_count": null,
      "metadata": {
        "colab": {
          "base_uri": "https://localhost:8080/"
        },
        "id": "y3fmkCcrijQd",
        "outputId": "2df63947-e444-43be-8101-b93c85de64c1"
      },
      "outputs": [
        {
          "name": "stdout",
          "output_type": "stream",
          "text": [
            "{'name': 'Alice', 'age': 30, 'city': 'Los Angeles', 'job': 'Engineer'}\n"
          ]
        }
      ],
      "source": [
        "new_data = {'city': 'Los Angeles', 'job': 'Engineer'}\n",
        "my_dict.update(new_data)\n",
        "print(my_dict)"
      ]
    },
    {
      "cell_type": "markdown",
      "metadata": {
        "id": "fKSjw2MNkYEK"
      },
      "source": [
        "**Removing Elements**\n",
        "\n",
        "**`pop(key[, default])`**: Removes and returns the item with the specified key. If the key is not found, returns the default value (or raises a KeyError if not specified).\\\n",
        "**`popitem()`**: Removes and returns an arbitrary (key, value) pair as a tuple.\\\n",
        "clear(): Removes all items from the dictionary."
      ]
    },
    {
      "cell_type": "code",
      "execution_count": null,
      "metadata": {
        "colab": {
          "base_uri": "https://localhost:8080/"
        },
        "id": "8zeFtuapijOL",
        "outputId": "796a1624-8f02-40d7-c969-65493a752e77"
      },
      "outputs": [
        {
          "name": "stdout",
          "output_type": "stream",
          "text": [
            "Los Angeles\n",
            "{'name': 'Alice', 'age': 30, 'job': 'Engineer'}\n"
          ]
        }
      ],
      "source": [
        "city = my_dict.pop('city')\n",
        "print(city)  # Output: Los Angeles\n",
        "print(my_dict)"
      ]
    },
    {
      "cell_type": "code",
      "execution_count": null,
      "metadata": {
        "colab": {
          "base_uri": "https://localhost:8080/"
        },
        "id": "fQX7UoTBijMD",
        "outputId": "48e79ec3-ffb5-465d-cb68-f51382b8b660"
      },
      "outputs": [
        {
          "name": "stdout",
          "output_type": "stream",
          "text": [
            "('job', 'Engineer')\n",
            "{'name': 'Alice', 'age': 30}\n"
          ]
        }
      ],
      "source": [
        "item = my_dict.popitem()\n",
        "print(item)  # Output: ('age', 30)\n",
        "print(my_dict)"
      ]
    },
    {
      "cell_type": "code",
      "execution_count": null,
      "metadata": {
        "colab": {
          "base_uri": "https://localhost:8080/"
        },
        "id": "KYfBcIpYijJ3",
        "outputId": "bca11d37-57fa-424f-c41b-87eb5dda8df4"
      },
      "outputs": [
        {
          "name": "stdout",
          "output_type": "stream",
          "text": [
            "{}\n"
          ]
        }
      ],
      "source": [
        "my_dict.clear()\n",
        "print(my_dict)  # Output: {}"
      ]
    },
    {
      "cell_type": "markdown",
      "metadata": {
        "id": "RHz5iUqTkuQf"
      },
      "source": [
        "### **4. Viewing Dictionary Contents**"
      ]
    },
    {
      "cell_type": "markdown",
      "metadata": {
        "id": "_nO8kk5-k12z"
      },
      "source": [
        "**`keys()`**: Returns a view of the dictionary's keys."
      ]
    },
    {
      "cell_type": "code",
      "execution_count": null,
      "metadata": {
        "colab": {
          "base_uri": "https://localhost:8080/"
        },
        "id": "ivXQDjGEkvGA",
        "outputId": "4cace7b8-b083-4d39-c138-6be7ff40d02a"
      },
      "outputs": [
        {
          "name": "stdout",
          "output_type": "stream",
          "text": [
            "dict_keys([])\n"
          ]
        }
      ],
      "source": [
        "keys = my_dict.keys()\n",
        "print(keys)  # Output: dict_keys(['name', 'age', 'city'])"
      ]
    },
    {
      "cell_type": "markdown",
      "metadata": {
        "id": "PZ5YXPMFk39P"
      },
      "source": [
        "**`values()`**: Returns a view of the dictionary's values."
      ]
    },
    {
      "cell_type": "code",
      "execution_count": null,
      "metadata": {
        "colab": {
          "base_uri": "https://localhost:8080/"
        },
        "id": "8f3vs8ewkvCp",
        "outputId": "d7e17d99-1144-4da0-d789-86aae03db1c2"
      },
      "outputs": [
        {
          "name": "stdout",
          "output_type": "stream",
          "text": [
            "dict_values([])\n"
          ]
        }
      ],
      "source": [
        "values = my_dict.values()\n",
        "print(values)  # Output: dict_values(['Alice', 30, 'New York'])"
      ]
    },
    {
      "cell_type": "markdown",
      "metadata": {
        "id": "0-wvIbmLk54K"
      },
      "source": [
        "**`items()`**: Returns a view of the dictionary's key-value pairs."
      ]
    },
    {
      "cell_type": "code",
      "execution_count": null,
      "metadata": {
        "colab": {
          "base_uri": "https://localhost:8080/"
        },
        "id": "vCm_lmAqkvAc",
        "outputId": "fda4ab09-2e43-4b90-9d00-da8889909588"
      },
      "outputs": [
        {
          "name": "stdout",
          "output_type": "stream",
          "text": [
            "dict_items([])\n"
          ]
        }
      ],
      "source": [
        "items = my_dict.items()\n",
        "print(items)  # Output: dict_items([('name', 'Alice'), ('age', 30), ('city', 'New York')])"
      ]
    },
    {
      "cell_type": "markdown",
      "metadata": {
        "id": "Zk8EUFhflQbx"
      },
      "source": [
        "### **5. Other methods**"
      ]
    },
    {
      "cell_type": "markdown",
      "metadata": {
        "id": "aXEUN70slcs1"
      },
      "source": [
        "**`fromkeys(iterable, value=None)`**: Creates a new dictionary with keys from the iterable and values set to the optional value."
      ]
    },
    {
      "cell_type": "code",
      "execution_count": null,
      "metadata": {
        "colab": {
          "base_uri": "https://localhost:8080/"
        },
        "id": "immdAj8Cku-P",
        "outputId": "73cb4693-8730-40b3-8221-af2774c4b990"
      },
      "outputs": [
        {
          "name": "stdout",
          "output_type": "stream",
          "text": [
            "{'a': 0, 'b': 0, 'c': 0}\n"
          ]
        }
      ],
      "source": [
        "keys = ['a', 'b', 'c']\n",
        "my_dict = dict.fromkeys(keys, 0)\n",
        "print(my_dict)  # Output: {'a': 0, 'b': 0, 'c': 0}"
      ]
    },
    {
      "cell_type": "markdown",
      "metadata": {
        "id": "yMkM80x_lrgW"
      },
      "source": [
        "**`setdefault(key, default=None)`**: Returns the value for the key if it exists, otherwise inserts the key with the specified default value and returns the default value."
      ]
    },
    {
      "cell_type": "code",
      "execution_count": null,
      "metadata": {
        "colab": {
          "base_uri": "https://localhost:8080/"
        },
        "id": "bohj20CRkuh6",
        "outputId": "3e7fa38e-90d6-4537-9227-09cbdfce7bd5"
      },
      "outputs": [
        {
          "name": "stdout",
          "output_type": "stream",
          "text": [
            "10\n",
            "{'x': 10}\n"
          ]
        }
      ],
      "source": [
        "value = my_dict.setdefault('x', 10)\n",
        "print(value)  # Output: 10\n",
        "print(my_dict)"
      ]
    },
    {
      "cell_type": "markdown",
      "metadata": {
        "id": "AHZRBJbglwe6"
      },
      "source": [
        "### **6. Dictionary Comprehensions**"
      ]
    },
    {
      "cell_type": "code",
      "execution_count": null,
      "metadata": {
        "colab": {
          "base_uri": "https://localhost:8080/"
        },
        "id": "I4E1j__vkt3v",
        "outputId": "e08cf3ec-9dd0-43de-d1f8-524450ef776f"
      },
      "outputs": [
        {
          "name": "stdout",
          "output_type": "stream",
          "text": [
            "{0: 0, 1: 1, 2: 4, 3: 9, 4: 16, 5: 25, 6: 36, 7: 49, 8: 64, 9: 81}\n"
          ]
        }
      ],
      "source": [
        "squares = {x: x*x for x in range(10)}\n",
        "print(squares)"
      ]
    },
    {
      "cell_type": "markdown",
      "metadata": {
        "id": "MhEt4Ddbl5wq"
      },
      "source": [
        "### **7. Nested Dictionaries**"
      ]
    },
    {
      "cell_type": "code",
      "execution_count": null,
      "metadata": {
        "id": "KLzVB6qcl3Qx"
      },
      "outputs": [],
      "source": [
        "students = {\n",
        "    'Alice': {'age': 20, 'major': 'Computer Science'},\n",
        "    'Bob': {'age': 22, 'major': 'Math'}\n",
        "}"
      ]
    },
    {
      "cell_type": "code",
      "execution_count": null,
      "metadata": {
        "id": "rZ5-RyVLl9wJ"
      },
      "outputs": [],
      "source": []
    }
  ],
  "metadata": {
    "colab": {
      "provenance": []
    },
    "kernelspec": {
      "display_name": "Python 3",
      "name": "python3"
    },
    "language_info": {
      "name": "python"
    }
  },
  "nbformat": 4,
  "nbformat_minor": 0
}
