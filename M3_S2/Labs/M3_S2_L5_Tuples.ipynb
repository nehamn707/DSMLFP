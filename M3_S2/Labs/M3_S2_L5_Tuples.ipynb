{
  "nbformat": 4,
  "nbformat_minor": 0,
  "metadata": {
    "colab": {
      "provenance": []
    },
    "kernelspec": {
      "name": "python3",
      "display_name": "Python 3"
    },
    "language_info": {
      "name": "python"
    }
  },
  "cells": [
    {
      "cell_type": "markdown",
      "source": [
        "# **Python Tuples: An In-Depth Guide**\n",
        "Introduction to Tuples\\\n",
        "**What is a tuple?**\n",
        "\n",
        "A tuple is an ordered, immutable collection of elements.\\\n",
        "It is similar to a list but cannot be modified after creation.\n",
        "\n",
        "**Why use tuples?**\n",
        "\n",
        "To protect data from accidental modification.\\\n",
        "To use as keys in dictionaries (since they are hashable).\\\n",
        "To return multiple values from functions."
      ],
      "metadata": {
        "id": "K4dtLgUXmcii"
      }
    },
    {
      "cell_type": "markdown",
      "source": [
        "### **1. Creating Tuples**"
      ],
      "metadata": {
        "id": "8F7axgt-mcKR"
      }
    },
    {
      "cell_type": "code",
      "execution_count": 1,
      "metadata": {
        "id": "fsmTfFI7mVGX"
      },
      "outputs": [],
      "source": [
        "# Using parentheses\n",
        "my_tuple = (1, 2, 3, 'apple', 'banana')"
      ]
    },
    {
      "cell_type": "code",
      "source": [
        "# Without parentheses (tuple packing)\n",
        "my_tuple = 1, 2, 3, 'apple', 'banana'"
      ],
      "metadata": {
        "id": "K1OcNbWemr8Z"
      },
      "execution_count": 2,
      "outputs": []
    },
    {
      "cell_type": "code",
      "source": [
        "# Empty tuple\n",
        "empty_tuple = ()"
      ],
      "metadata": {
        "id": "3-Gcl0KUmxDB"
      },
      "execution_count": 3,
      "outputs": []
    },
    {
      "cell_type": "markdown",
      "source": [
        "### **2. Accessing Tuple Elements**"
      ],
      "metadata": {
        "id": "7Yq6l_3_m3pD"
      }
    },
    {
      "cell_type": "markdown",
      "source": [
        "**Indexing**"
      ],
      "metadata": {
        "id": "2LVxkeNLm7za"
      }
    },
    {
      "cell_type": "code",
      "source": [
        "print(my_tuple[0])  # Output: 1"
      ],
      "metadata": {
        "colab": {
          "base_uri": "https://localhost:8080/"
        },
        "id": "cAa61xmfm2KY",
        "outputId": "efae426e-37f5-4a54-b01a-8680b81b9d0b"
      },
      "execution_count": 4,
      "outputs": [
        {
          "output_type": "stream",
          "name": "stdout",
          "text": [
            "1\n"
          ]
        }
      ]
    },
    {
      "cell_type": "markdown",
      "source": [
        "**Slicing**"
      ],
      "metadata": {
        "id": "LsOkAeU9nAFV"
      }
    },
    {
      "cell_type": "code",
      "source": [
        "print(my_tuple[1:3])  # Output: (2, 3)"
      ],
      "metadata": {
        "colab": {
          "base_uri": "https://localhost:8080/"
        },
        "id": "tmQ3zmPkm-cy",
        "outputId": "b7936243-06ad-4434-dd69-00026913a0e2"
      },
      "execution_count": 5,
      "outputs": [
        {
          "output_type": "stream",
          "name": "stdout",
          "text": [
            "(2, 3)\n"
          ]
        }
      ]
    },
    {
      "cell_type": "markdown",
      "source": [
        "**Immutability of Tuples**\n",
        "\n",
        "Tuples cannot be changed after creation.\\\n",
        "Attempting to modify a tuple will raise a TypeError."
      ],
      "metadata": {
        "id": "JkldeBI3nEax"
      }
    },
    {
      "cell_type": "code",
      "source": [
        "my_tuple[0] = 10  # This will raise a TypeError"
      ],
      "metadata": {
        "colab": {
          "base_uri": "https://localhost:8080/",
          "height": 141
        },
        "id": "952aImWHnC5X",
        "outputId": "0c59347c-17c1-4f64-a1dd-f1cf00f5e109"
      },
      "execution_count": 6,
      "outputs": [
        {
          "output_type": "error",
          "ename": "TypeError",
          "evalue": "'tuple' object does not support item assignment",
          "traceback": [
            "\u001b[0;31m---------------------------------------------------------------------------\u001b[0m",
            "\u001b[0;31mTypeError\u001b[0m                                 Traceback (most recent call last)",
            "\u001b[0;32m<ipython-input-6-f25a6821a14f>\u001b[0m in \u001b[0;36m<cell line: 1>\u001b[0;34m()\u001b[0m\n\u001b[0;32m----> 1\u001b[0;31m \u001b[0mmy_tuple\u001b[0m\u001b[0;34m[\u001b[0m\u001b[0;36m0\u001b[0m\u001b[0;34m]\u001b[0m \u001b[0;34m=\u001b[0m \u001b[0;36m10\u001b[0m  \u001b[0;31m# This will raise a TypeError\u001b[0m\u001b[0;34m\u001b[0m\u001b[0;34m\u001b[0m\u001b[0m\n\u001b[0m",
            "\u001b[0;31mTypeError\u001b[0m: 'tuple' object does not support item assignment"
          ]
        }
      ]
    },
    {
      "cell_type": "markdown",
      "source": [
        "**Tuple Methods**\n",
        "\n",
        "**`count(item)`**: Returns the number of occurrences of an item.\n",
        "**`index(item)`**: Returns the index of the first occurrence of an item."
      ],
      "metadata": {
        "id": "rFoeeTfLnNAO"
      }
    },
    {
      "cell_type": "markdown",
      "source": [
        "### **3. Tuple Operations**"
      ],
      "metadata": {
        "id": "2rSHC7t9nTfR"
      }
    },
    {
      "cell_type": "markdown",
      "source": [
        "**Concatenation**"
      ],
      "metadata": {
        "id": "HvNuUhhGnZJs"
      }
    },
    {
      "cell_type": "code",
      "source": [
        "tuple1 = (1, 2)\n",
        "tuple2 = (3, 4)\n",
        "combined_tuple = tuple1 + tuple2\n",
        "print(combined_tuple)  # Output: (1, 2, 3, 4)"
      ],
      "metadata": {
        "colab": {
          "base_uri": "https://localhost:8080/"
        },
        "id": "Xw6t2GnknKMN",
        "outputId": "95bdcae3-e2cc-42eb-e741-15a5607d59e6"
      },
      "execution_count": 7,
      "outputs": [
        {
          "output_type": "stream",
          "name": "stdout",
          "text": [
            "(1, 2, 3, 4)\n"
          ]
        }
      ]
    },
    {
      "cell_type": "markdown",
      "source": [
        "**Repetition**"
      ],
      "metadata": {
        "id": "A0bfBIUJneaS"
      }
    },
    {
      "cell_type": "code",
      "source": [
        "repeated_tuple = (0,) * 5\n",
        "print(repeated_tuple)  # Output: (0, 0, 0, 0, 0)"
      ],
      "metadata": {
        "colab": {
          "base_uri": "https://localhost:8080/"
        },
        "id": "iEAbW2v4nbHM",
        "outputId": "1d2427ff-5d6d-470b-876c-926e5db7c0fc"
      },
      "execution_count": 8,
      "outputs": [
        {
          "output_type": "stream",
          "name": "stdout",
          "text": [
            "(0, 0, 0, 0, 0)\n"
          ]
        }
      ]
    },
    {
      "cell_type": "markdown",
      "source": [
        "**Membership testing**"
      ],
      "metadata": {
        "id": "BmUCuRIXnjEe"
      }
    },
    {
      "cell_type": "code",
      "source": [
        "my_tuple = (1, 2, 3, 'apple', 'banana')\n",
        "if 'apple' in my_tuple:\n",
        "    print('apple is present')"
      ],
      "metadata": {
        "colab": {
          "base_uri": "https://localhost:8080/"
        },
        "id": "NCYViuKdnglH",
        "outputId": "f73305a3-04aa-43d6-9782-c54474dd33b2"
      },
      "execution_count": 9,
      "outputs": [
        {
          "output_type": "stream",
          "name": "stdout",
          "text": [
            "apple is present\n"
          ]
        }
      ]
    },
    {
      "cell_type": "markdown",
      "source": [
        "### **4. Tuple Unpacking**\n",
        "Assigning elements of a tuple to multiple variables"
      ],
      "metadata": {
        "id": "JM1ovzcTnsGF"
      }
    },
    {
      "cell_type": "code",
      "source": [
        "x, y, z = (10, 20, 30)\n",
        "print(x, y, z)  # Output: 10 20 30"
      ],
      "metadata": {
        "colab": {
          "base_uri": "https://localhost:8080/"
        },
        "id": "XHpyFvAPnp9n",
        "outputId": "96a47fd3-af86-4d5c-883e-fda13f225322"
      },
      "execution_count": 10,
      "outputs": [
        {
          "output_type": "stream",
          "name": "stdout",
          "text": [
            "10 20 30\n"
          ]
        }
      ]
    },
    {
      "cell_type": "markdown",
      "source": [
        "**Tuples as Keys in Dictionaries**\n",
        "\n",
        "Tuples can be used as keys in dictionaries because they are hashable."
      ],
      "metadata": {
        "id": "BuTaZEaan0S1"
      }
    },
    {
      "cell_type": "code",
      "source": [
        "my_dict = {(1, 2): 'value'}"
      ],
      "metadata": {
        "id": "liIpk6f0nz9A"
      },
      "execution_count": 11,
      "outputs": []
    },
    {
      "cell_type": "markdown",
      "source": [
        "### **5. Tuple Comparison**\n",
        "Tuples in Python can be compared using comparison operators like ==, !=, <, >, <=, and >=. The comparison is performed lexicographically, meaning element-wise from left to right.\\\n",
        "\\\n",
        "**How Tuple Comparison Works**\n",
        "1. Comparison starts with the first elements: If the first elements of two 2. tuples are different, the comparison result is based on the comparison of these elements.\n",
        "2. If the first elements are equal: The comparison moves to the second elements, and so on.\n",
        "3. If one tuple runs out of elements before the other: The shorter tuple is considered less than the longer one.\n",
        "**Note**\n",
        "1. Tuples must have the same data type for comparison.\n",
        "2. Comparison is case-sensitive for strings.\n",
        "3. Tuples can be compared with lists, but the comparison is based on the elements, not the data structures.\n"
      ],
      "metadata": {
        "id": "z_lBwkdAoTF3"
      }
    },
    {
      "cell_type": "code",
      "source": [
        "tuple1 = (1, 2, 3)\n",
        "tuple2 = (1, 2, 4)\n",
        "tuple3 = (1, 2)\n",
        "\n",
        "print(tuple1 == tuple2)  # False\n",
        "print(tuple1 < tuple2)  # True\n",
        "print(tuple1 > tuple3)  # True"
      ],
      "metadata": {
        "colab": {
          "base_uri": "https://localhost:8080/"
        },
        "id": "wHTHsIgUn6WN",
        "outputId": "fff1f8df-5f23-4779-8413-f20deaed19cf"
      },
      "execution_count": 12,
      "outputs": [
        {
          "output_type": "stream",
          "name": "stdout",
          "text": [
            "False\n",
            "True\n",
            "True\n"
          ]
        }
      ]
    },
    {
      "cell_type": "markdown",
      "source": [
        "**Sorting tuples**"
      ],
      "metadata": {
        "id": "tsOkpFQeoyLg"
      }
    },
    {
      "cell_type": "code",
      "source": [
        "my_tuples = [(3, 'apple'), (1, 'banana'), (2, 'orange')]\n",
        "sorted_tuples = sorted(my_tuples)\n",
        "print(sorted_tuples)  # Output: [(1, 'banana'), (2, 'orange'), (3, 'apple')]"
      ],
      "metadata": {
        "colab": {
          "base_uri": "https://localhost:8080/"
        },
        "id": "QCw95-Nmolz7",
        "outputId": "59c1164a-bb31-40da-d0bc-e2bf2f109f54"
      },
      "execution_count": 13,
      "outputs": [
        {
          "output_type": "stream",
          "name": "stdout",
          "text": [
            "[(1, 'banana'), (2, 'orange'), (3, 'apple')]\n"
          ]
        }
      ]
    },
    {
      "cell_type": "markdown",
      "source": [
        "**Comparing tuples in conditional statements**"
      ],
      "metadata": {
        "id": "ajv9dTU2o2j7"
      }
    },
    {
      "cell_type": "code",
      "source": [
        "tuple1 = (1, 2, 3)\n",
        "tuple2 = (1, 2, 4)\n",
        "if tuple1 < tuple2:\n",
        "    print(\"tuple1 is less than tuple2\")"
      ],
      "metadata": {
        "colab": {
          "base_uri": "https://localhost:8080/"
        },
        "id": "RfenaOgto0Vz",
        "outputId": "dc7b1daa-4777-4451-eb41-cfd04d852d75"
      },
      "execution_count": 14,
      "outputs": [
        {
          "output_type": "stream",
          "name": "stdout",
          "text": [
            "tuple1 is less than tuple2\n"
          ]
        }
      ]
    },
    {
      "cell_type": "code",
      "source": [],
      "metadata": {
        "id": "h6LGVx8Uo4g3"
      },
      "execution_count": null,
      "outputs": []
    }
  ]
}